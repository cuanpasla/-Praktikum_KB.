{
 "cells": [
  {
   "cell_type": "markdown",
   "id": "ecdf5d83-7df1-49e5-931d-4c714f573239",
   "metadata": {},
   "source": [
    "## POSTTEST 7(TENSORFLOW BASIC)"
   ]
  },
  {
   "cell_type": "markdown",
   "id": "ee5b9730-57a7-4a2d-a68d-165dd3fdc2a0",
   "metadata": {},
   "source": [
    "## IMPORT PACKAGE\n",
    "- TensorFlow\n",
    "- Numpy"
   ]
  },
  {
   "cell_type": "code",
   "execution_count": 1,
   "id": "81689e75-3b07-4a93-b006-a01fa0b929eb",
   "metadata": {},
   "outputs": [],
   "source": [
    "import tensorflow as tf\n",
    "import numpy as np"
   ]
  },
  {
   "cell_type": "markdown",
   "id": "ddc022df-865e-40e9-b4a5-814ae87a3d86",
   "metadata": {},
   "source": [
    "## 1. Buatlah sebuah tensor dengan shape(5,5) dengan nilai random yang disimpan dalam variable random_tensor"
   ]
  },
  {
   "cell_type": "code",
   "execution_count": 2,
   "id": "ff81052c-bc4f-4c35-906b-c43ba5ef0fc0",
   "metadata": {},
   "outputs": [
    {
     "data": {
      "text/plain": [
       "array([[-0.8113182 ,  1.4845988 ,  0.06532937, -2.4427042 ,  0.0992484 ],\n",
       "       [ 0.5912243 ,  0.59282297, -2.1229296 , -0.72289723, -0.05627038],\n",
       "       [ 0.6435448 , -0.26432407,  1.8566332 ,  0.5678417 , -0.3828359 ],\n",
       "       [-1.4853433 ,  1.2617711 , -0.02530608, -0.2646297 ,  1.5328138 ],\n",
       "       [-1.7429771 , -0.43789294, -0.56601   ,  0.32066926,  1.132831  ]],\n",
       "      dtype=float32)"
      ]
     },
     "execution_count": 2,
     "metadata": {},
     "output_type": "execute_result"
    }
   ],
   "source": [
    "random_tensor = tf.random.normal([5,5], mean=0., stddev=1., seed=1)\n",
    "random_tensor.numpy()"
   ]
  },
  {
   "cell_type": "code",
   "execution_count": 3,
   "id": "0f425b7a-6081-49bc-8a6c-cacf7e5a1662",
   "metadata": {},
   "outputs": [
    {
     "data": {
      "text/plain": [
       "array([[ 1,  2,  3,  4,  5],\n",
       "       [ 6,  7,  8,  9, 10],\n",
       "       [11, 12, 13, 14, 15],\n",
       "       [16, 17, 18, 19, 20],\n",
       "       [21, 22, 23, 24, 25]])"
      ]
     },
     "execution_count": 3,
     "metadata": {},
     "output_type": "execute_result"
    }
   ],
   "source": [
    "list_utt = [[1,2,3,4,5],[6,7,8,9,10],[11,12,13,14,15],[16,17,18,19,20],[21,22,23,24,25]]\n",
    "\n",
    "utt = tf.convert_to_tensor(list_utt)\n",
    "utt.numpy()"
   ]
  },
  {
   "cell_type": "code",
   "execution_count": 4,
   "id": "583bc15d-28dc-401e-a177-1f289032b18c",
   "metadata": {},
   "outputs": [
    {
     "data": {
      "text/plain": [
       "array([[[-0.79880553,  0.25166914, -0.1579376 ,  0.42878348,\n",
       "         -0.8968296 ],\n",
       "        [ 0.46129006,  1.2953346 ,  0.00305816,  0.81140965,\n",
       "          0.2492997 ],\n",
       "        [-0.17737526, -0.14885277, -1.3904814 , -1.4573394 ,\n",
       "          0.47839355],\n",
       "        [-0.6414622 ,  0.09378263,  0.20713314,  0.22633255,\n",
       "          0.9253177 ],\n",
       "        [-0.11254343,  0.826041  , -0.70456517,  0.49581617,\n",
       "         -0.10243657]],\n",
       "\n",
       "       [[-0.18765259, -2.0469024 , -2.5204253 ,  0.70996314,\n",
       "          0.83468914],\n",
       "        [ 2.686354  ,  0.70958036,  1.2024552 , -0.9448725 ,\n",
       "          0.61680096],\n",
       "        [ 2.1156259 ,  0.58247316, -0.85841846,  1.5118393 ,\n",
       "         -0.93162435],\n",
       "        [-1.528792  ,  0.23050943,  0.2460423 , -0.63239366,\n",
       "         -0.01131425],\n",
       "        [-0.9792384 ,  0.31620026, -0.6969196 ,  1.0452522 ,\n",
       "         -2.4430866 ]],\n",
       "\n",
       "       [[ 1.2692382 ,  0.35944098,  0.21286167,  0.05459456,\n",
       "          0.06272434],\n",
       "        [-1.3099172 , -0.16106665,  0.09859801,  0.19170673,\n",
       "          0.48581913],\n",
       "        [ 0.58744365,  0.6805352 ,  0.87577146, -1.89278   ,\n",
       "          1.7697693 ],\n",
       "        [-1.5970249 , -0.74799055, -0.47635016,  1.2088494 ,\n",
       "         -0.5233485 ],\n",
       "        [-2.5603554 , -2.5237627 , -1.2801988 ,  0.96558875,\n",
       "         -0.0493499 ]],\n",
       "\n",
       "       [[-0.90313023,  1.7773579 , -0.6835067 ,  0.10986871,\n",
       "         -0.11738744],\n",
       "        [ 0.35886446,  0.04062391, -0.28647667, -0.39965734,\n",
       "         -1.0986689 ],\n",
       "        [ 0.19295204, -0.7963113 , -0.50165117,  0.19448532,\n",
       "         -1.2694831 ],\n",
       "        [-0.76234144,  0.63015974, -1.4538018 ,  1.4366649 ,\n",
       "         -1.2515281 ],\n",
       "        [ 0.31410894,  0.85857517,  1.4920436 , -0.5385883 ,\n",
       "         -1.1695062 ]],\n",
       "\n",
       "       [[-1.6203525 ,  1.2325188 , -0.61304754,  0.84832066,\n",
       "          0.6574328 ],\n",
       "        [-0.10404629,  0.01225185, -1.1195526 ,  1.5427182 ,\n",
       "          0.76925486],\n",
       "        [ 1.0702144 , -2.5726328 , -1.9871469 , -1.8193521 ,\n",
       "         -0.5939659 ],\n",
       "        [ 0.05297715,  0.7622864 ,  0.956048  , -1.8755488 ,\n",
       "         -0.5896561 ],\n",
       "        [-0.33796272,  0.5283678 , -0.01929734,  1.0555987 ,\n",
       "         -1.6177993 ]]], dtype=float32)"
      ]
     },
     "execution_count": 4,
     "metadata": {},
     "output_type": "execute_result"
    }
   ],
   "source": [
    "slicing = tf.random.normal([5,5,5])\n",
    "slicing.numpy()"
   ]
  },
  {
   "cell_type": "code",
   "execution_count": 5,
   "id": "d0b24e44-8528-4df3-99a4-54a604509825",
   "metadata": {},
   "outputs": [
    {
     "data": {
      "text/plain": [
       "<tf.Tensor: shape=(), dtype=float32, numpy=0.87577146>"
      ]
     },
     "execution_count": 5,
     "metadata": {},
     "output_type": "execute_result"
    }
   ],
   "source": [
    "slicing[2,2,2]"
   ]
  },
  {
   "cell_type": "code",
   "execution_count": 6,
   "id": "82cc2609-20d6-41f9-988f-c1de4bcdd5c3",
   "metadata": {},
   "outputs": [
    {
     "data": {
      "text/plain": [
       "<tf.Tensor: shape=(5, 5), dtype=float32, numpy=\n",
       "array([[ 1.2692382 ,  0.35944098,  0.21286167,  0.05459456,  0.06272434],\n",
       "       [-1.3099172 , -0.16106665,  0.09859801,  0.19170673,  0.48581913],\n",
       "       [ 0.58744365,  0.6805352 ,  0.87577146, -1.89278   ,  1.7697693 ],\n",
       "       [-1.5970249 , -0.74799055, -0.47635016,  1.2088494 , -0.5233485 ],\n",
       "       [-2.5603554 , -2.5237627 , -1.2801988 ,  0.96558875, -0.0493499 ]],\n",
       "      dtype=float32)>"
      ]
     },
     "execution_count": 6,
     "metadata": {},
     "output_type": "execute_result"
    }
   ],
   "source": [
    "slicing[2]"
   ]
  },
  {
   "cell_type": "code",
   "execution_count": 7,
   "id": "381c36f4-a557-45d3-919a-035600868c30",
   "metadata": {},
   "outputs": [
    {
     "data": {
      "text/plain": [
       "array([[[ 1.2692382 ,  0.35944098,  0.21286167,  0.05459456,\n",
       "          0.06272434],\n",
       "        [-1.3099172 , -0.16106665,  0.09859801,  0.19170673,\n",
       "          0.48581913],\n",
       "        [ 0.58744365,  0.6805352 ,  0.87577146, -1.89278   ,\n",
       "          1.7697693 ],\n",
       "        [-1.5970249 , -0.74799055, -0.47635016,  1.2088494 ,\n",
       "         -0.5233485 ],\n",
       "        [-2.5603554 , -2.5237627 , -1.2801988 ,  0.96558875,\n",
       "         -0.0493499 ]],\n",
       "\n",
       "       [[ 1.2692382 ,  0.35944098,  0.21286167,  0.05459456,\n",
       "          0.06272434],\n",
       "        [-1.3099172 , -0.16106665,  0.09859801,  0.19170673,\n",
       "          0.48581913],\n",
       "        [ 0.58744365,  0.6805352 ,  0.87577146, -1.89278   ,\n",
       "          1.7697693 ],\n",
       "        [-1.5970249 , -0.74799055, -0.47635016,  1.2088494 ,\n",
       "         -0.5233485 ],\n",
       "        [-2.5603554 , -2.5237627 , -1.2801988 ,  0.96558875,\n",
       "         -0.0493499 ]],\n",
       "\n",
       "       [[ 1.2692382 ,  0.35944098,  0.21286167,  0.05459456,\n",
       "          0.06272434],\n",
       "        [-1.3099172 , -0.16106665,  0.09859801,  0.19170673,\n",
       "          0.48581913],\n",
       "        [ 0.58744365,  0.6805352 ,  0.87577146, -1.89278   ,\n",
       "          1.7697693 ],\n",
       "        [-1.5970249 , -0.74799055, -0.47635016,  1.2088494 ,\n",
       "         -0.5233485 ],\n",
       "        [-2.5603554 , -2.5237627 , -1.2801988 ,  0.96558875,\n",
       "         -0.0493499 ]]], dtype=float32)"
      ]
     },
     "execution_count": 7,
     "metadata": {},
     "output_type": "execute_result"
    }
   ],
   "source": [
    "tf.gather(slicing, indices=[2,2,2]).numpy()"
   ]
  },
  {
   "cell_type": "code",
   "execution_count": 8,
   "id": "5457d98a-aec1-493a-917b-c4f97e948161",
   "metadata": {},
   "outputs": [
    {
     "data": {
      "text/plain": [
       "array([[-0.17737526, -0.14885277, -1.3904814 , -1.4573394 ,  0.47839355],\n",
       "       [ 2.1156259 ,  0.58247316, -0.85841846,  1.5118393 , -0.93162435],\n",
       "       [ 0.58744365,  0.6805352 ,  0.87577146, -1.89278   ,  1.7697693 ],\n",
       "       [ 0.19295204, -0.7963113 , -0.50165117,  0.19448532, -1.2694831 ],\n",
       "       [ 1.0702144 , -2.5726328 , -1.9871469 , -1.8193521 , -0.5939659 ]],\n",
       "      dtype=float32)"
      ]
     },
     "execution_count": 8,
     "metadata": {},
     "output_type": "execute_result"
    }
   ],
   "source": [
    "tf.gather_nd(slicing, indices=[[0,2],[1,2],[2,2],[3,2],[4,2]]).numpy()"
   ]
  },
  {
   "cell_type": "code",
   "execution_count": 9,
   "id": "54e41bc6-1b43-4487-ac45-3fe53886b198",
   "metadata": {},
   "outputs": [
    {
     "data": {
      "text/plain": [
       "array([-1.3904814 , -0.85841846,  0.87577146, -0.50165117, -1.9871469 ],\n",
       "      dtype=float32)"
      ]
     },
     "execution_count": 9,
     "metadata": {},
     "output_type": "execute_result"
    }
   ],
   "source": [
    "tf.gather_nd(slicing, indices=[[0,2,2],[1,2,2],[2,2,2],[3,2,2],[4,2,2]]).numpy()"
   ]
  },
  {
   "cell_type": "markdown",
   "id": "22509699-c8ae-432a-90fd-67495e9d150c",
   "metadata": {},
   "source": [
    "## 2. Buatlah sebuah tensor dengan shape(5,5) dari sebuah list dengan nilai bilangan prima dalam variable prime_tensor"
   ]
  },
  {
   "cell_type": "code",
   "execution_count": 10,
   "id": "3c397496-dbbe-4e77-b876-24c0771cbc84",
   "metadata": {},
   "outputs": [
    {
     "data": {
      "text/plain": [
       "array([[ 2.,  3.,  5.,  7., 11.],\n",
       "       [13., 17., 19., 23., 29.],\n",
       "       [31., 37., 41., 43., 47.],\n",
       "       [53., 59., 61., 71., 73.],\n",
       "       [79., 83., 89., 97.,  1.]], dtype=float32)"
      ]
     },
     "execution_count": 10,
     "metadata": {},
     "output_type": "execute_result"
    }
   ],
   "source": [
    "list_prime = [[2, 3, 5, 7, 11],[13, 17, 19, 23, 29],[31, 37, 41, 43, 47],[53, 59, 61, 71, 73],[79, 83, 89, 97, 1]]\n",
    "\n",
    "prime_tensor = tf.constant(list_prime, dtype=tf.float32)\n",
    "prime_tensor.numpy()"
   ]
  },
  {
   "cell_type": "markdown",
   "id": "16fd83f6-2da7-473b-81ab-f06982375b8f",
   "metadata": {},
   "source": [
    "## 3. Tampilkan dimensi dari kedua variable tersebut"
   ]
  },
  {
   "cell_type": "code",
   "execution_count": 11,
   "id": "4db2f592-d696-4e5d-827f-337b40358493",
   "metadata": {},
   "outputs": [
    {
     "data": {
      "text/plain": [
       "TensorShape([5, 5])"
      ]
     },
     "execution_count": 11,
     "metadata": {},
     "output_type": "execute_result"
    }
   ],
   "source": [
    "random_tensor.shape"
   ]
  },
  {
   "cell_type": "code",
   "execution_count": 12,
   "id": "5837dfff-5221-474f-9551-43e342cbe525",
   "metadata": {},
   "outputs": [
    {
     "data": {
      "text/plain": [
       "TensorShape([5, 5])"
      ]
     },
     "execution_count": 12,
     "metadata": {},
     "output_type": "execute_result"
    }
   ],
   "source": [
    "prime_tensor.shape"
   ]
  },
  {
   "cell_type": "markdown",
   "id": "c3f0c826-7099-4aae-9a13-558f431e23a1",
   "metadata": {},
   "source": [
    "## 4. Tampilkan hasil dari perhitungan aritmatika 2 variable tersebut (Gunakan minimal 5 operator)"
   ]
  },
  {
   "cell_type": "code",
   "execution_count": 13,
   "id": "2e113639-4564-4a93-9149-c7e4a15b5ae7",
   "metadata": {},
   "outputs": [
    {
     "name": "stdout",
     "output_type": "stream",
     "text": [
      "1. Penjumlahan : tf.Tensor(\n",
      "[[ 1.1886818  4.4845986  5.0653296  4.557296  11.099248 ]\n",
      " [13.591225  17.592823  16.877071  22.277103  28.94373  ]\n",
      " [31.643545  36.735676  42.856632  43.56784   46.617165 ]\n",
      " [51.514656  60.261772  60.974693  70.73537   74.532814 ]\n",
      " [77.25702   82.5621    88.43399   97.32067    2.132831 ]], shape=(5, 5), dtype=float32)\n",
      "\n",
      "2. Pengurangan : tf.Tensor(\n",
      "[[ 2.8113182   1.5154012   4.9346704   9.442704   10.900752  ]\n",
      " [12.408775   16.407177   21.122929   23.722897   29.05627   ]\n",
      " [30.356455   37.264324   39.143368   42.43216    47.382835  ]\n",
      " [54.485344   57.738228   61.025307   71.26463    71.467186  ]\n",
      " [80.74298    83.4379     89.56601    96.67933    -0.13283098]], shape=(5, 5), dtype=float32)\n",
      "\n",
      "3. Perkalian : tf.Tensor(\n",
      "[[  -1.6226364     4.4537964     0.32664686  -17.09893       1.0917324 ]\n",
      " [   7.685916     10.077991    -40.335663    -16.626637     -1.6318411 ]\n",
      " [  19.949888     -9.77999      76.12196      24.417194    -17.993286  ]\n",
      " [ -78.7232       74.444496     -1.5436709   -18.788708    111.89541   ]\n",
      " [-137.69519     -36.345116    -50.37489      31.10492       1.132831  ]], shape=(5, 5), dtype=float32)\n",
      "\n",
      "4. Pembagian : tf.Tensor(\n",
      "[[-2.46512389e+00  2.02074814e+00  7.65352554e+01 -2.86567640e+00\n",
      "   1.10833015e+02]\n",
      " [ 2.19882698e+01  2.86763515e+01 -8.94989681e+00 -3.18164177e+01\n",
      "  -5.15368835e+02]\n",
      " [ 4.81706963e+01 -1.39979691e+02  2.20829830e+01  7.57253265e+01\n",
      "  -1.22768005e+02]\n",
      " [-3.56819878e+01  4.67596703e+01 -2.41048804e+03 -2.68299438e+02\n",
      "   4.76248322e+01]\n",
      " [-4.53247490e+01 -1.89544052e+02 -1.57241043e+02  3.02492340e+02\n",
      "   8.82744193e-01]], shape=(5, 5), dtype=float32)\n",
      "\n",
      "5. Pangkat : tf.Tensor(\n",
      "[[5.6986094e-01 5.1089730e+00 1.1108701e+00 8.6233392e-03 1.2686931e+00]\n",
      " [4.5560699e+00 5.3633776e+00 1.9288398e-03 1.0365988e-01 8.2739007e-01]\n",
      " [9.1150293e+00 3.8502288e-01 9.8707019e+02 8.4635296e+00 2.2901341e-01]\n",
      " [2.7469979e-03 1.7155756e+02 9.0119815e-01 3.2366973e-01 7.1800415e+02]\n",
      " [4.9258291e-04 1.4442728e-01 7.8818068e-02 4.3360734e+00 1.0000000e+00]], shape=(5, 5), dtype=float32)\n",
      "\n",
      "6. FloorDiv : tf.Tensor(\n",
      "[[-3.000e+00  2.000e+00  7.600e+01 -3.000e+00  1.100e+02]\n",
      " [ 2.100e+01  2.800e+01 -9.000e+00 -3.200e+01 -5.160e+02]\n",
      " [ 4.800e+01 -1.400e+02  2.200e+01  7.500e+01 -1.230e+02]\n",
      " [-3.600e+01  4.600e+01 -2.411e+03 -2.690e+02  4.700e+01]\n",
      " [-4.600e+01 -1.900e+02 -1.580e+02  3.020e+02  0.000e+00]], shape=(5, 5), dtype=float32)\n",
      "\n",
      "7. FloorMod : tf.Tensor(\n",
      "[[-0.43395466  0.03080249  0.03496766 -0.3281126   0.0826758 ]\n",
      " [ 0.58428943  0.40095687 -0.10636616 -0.13271141 -0.03551586]\n",
      " [ 0.10984993 -0.00536966  0.1540699   0.41187185 -0.08881506]\n",
      " [-0.47236013  0.9585302  -0.01295776 -0.1853871   0.957752  ]\n",
      " [-1.1769485  -0.19965929 -0.42957973  0.15788239  1.        ]], shape=(5, 5), dtype=float32)\n",
      "\n",
      "8. Greater : tf.Tensor(\n",
      "[[ True  True  True  True  True]\n",
      " [ True  True  True  True  True]\n",
      " [ True  True  True  True  True]\n",
      " [ True  True  True  True  True]\n",
      " [ True  True  True  True False]], shape=(5, 5), dtype=bool)\n",
      "\n",
      "9. Setara : tf.Tensor(\n",
      "[[False False False False False]\n",
      " [False False False False False]\n",
      " [False False False False False]\n",
      " [False False False False False]\n",
      " [False False False False False]], shape=(5, 5), dtype=bool)\n",
      "\n",
      "10. Tidak Setara : tf.Tensor(\n",
      "[[ True  True  True  True  True]\n",
      " [ True  True  True  True  True]\n",
      " [ True  True  True  True  True]\n",
      " [ True  True  True  True  True]\n",
      " [ True  True  True  True  True]], shape=(5, 5), dtype=bool)\n",
      "\n",
      "11. Greater Equal : tf.Tensor(\n",
      "[[ True  True  True  True  True]\n",
      " [ True  True  True  True  True]\n",
      " [ True  True  True  True  True]\n",
      " [ True  True  True  True  True]\n",
      " [ True  True  True  True False]], shape=(5, 5), dtype=bool)\n",
      "\n",
      "12. Less : tf.Tensor(\n",
      "[[False False False False False]\n",
      " [False False False False False]\n",
      " [False False False False False]\n",
      " [False False False False False]\n",
      " [False False False False  True]], shape=(5, 5), dtype=bool)\n",
      "\n",
      "13. Less Equal : tf.Tensor(\n",
      "[[False False False False False]\n",
      " [False False False False False]\n",
      " [False False False False False]\n",
      " [False False False False False]\n",
      " [False False False False  True]], shape=(5, 5), dtype=bool)\n",
      "\n",
      "14. Maximum : tf.Tensor(\n",
      "[[ 2.        3.        5.        7.       11.      ]\n",
      " [13.       17.       19.       23.       29.      ]\n",
      " [31.       37.       41.       43.       47.      ]\n",
      " [53.       59.       61.       71.       73.      ]\n",
      " [79.       83.       89.       97.        1.132831]], shape=(5, 5), dtype=float32)\n",
      "\n",
      "15. Minimum : tf.Tensor(\n",
      "[[-0.8113182   1.4845988   0.06532937 -2.4427042   0.0992484 ]\n",
      " [ 0.5912243   0.59282297 -2.1229296  -0.72289723 -0.05627038]\n",
      " [ 0.6435448  -0.26432407  1.8566332   0.5678417  -0.3828359 ]\n",
      " [-1.4853433   1.2617711  -0.02530608 -0.2646297   1.5328138 ]\n",
      " [-1.7429771  -0.43789294 -0.56601     0.32066926  1.        ]], shape=(5, 5), dtype=float32)\n",
      "\n",
      "16. Kuadrat Perbedaan : tf.Tensor(\n",
      "[[7.9035096e+00 2.2964408e+00 2.4350973e+01 8.9164665e+01 1.1882639e+02]\n",
      " [1.5397771e+02 2.6919547e+02 4.4617810e+02 5.6277582e+02 8.4426685e+02]\n",
      " [9.2151434e+02 1.3886299e+03 1.5322032e+03 1.8004882e+03 2.2451331e+03]\n",
      " [2.9686526e+03 3.3337029e+03 3.7240881e+03 5.0786479e+03 5.1075586e+03]\n",
      " [6.5194292e+03 6.9618828e+03 8.0220698e+03 9.3468926e+03 1.7644068e-02]], shape=(5, 5), dtype=float32)\n",
      "\n",
      "17. TrueDiv : tf.Tensor(\n",
      "[[-2.46512389e+00  2.02074814e+00  7.65352554e+01 -2.86567640e+00\n",
      "   1.10833015e+02]\n",
      " [ 2.19882698e+01  2.86763515e+01 -8.94989681e+00 -3.18164177e+01\n",
      "  -5.15368835e+02]\n",
      " [ 4.81706963e+01 -1.39979691e+02  2.20829830e+01  7.57253265e+01\n",
      "  -1.22768005e+02]\n",
      " [-3.56819878e+01  4.67596703e+01 -2.41048804e+03 -2.68299438e+02\n",
      "   4.76248322e+01]\n",
      " [-4.53247490e+01 -1.89544052e+02 -1.57241043e+02  3.02492340e+02\n",
      "   8.82744193e-01]], shape=(5, 5), dtype=float32)\n",
      "\n",
      "18. XdivY : tf.Tensor(\n",
      "[[-2.46512389e+00  2.02074814e+00  7.65352554e+01 -2.86567640e+00\n",
      "   1.10833015e+02]\n",
      " [ 2.19882698e+01  2.86763515e+01 -8.94989681e+00 -3.18164177e+01\n",
      "  -5.15368835e+02]\n",
      " [ 4.81706963e+01 -1.39979691e+02  2.20829830e+01  7.57253265e+01\n",
      "  -1.22768005e+02]\n",
      " [-3.56819878e+01  4.67596703e+01 -2.41048804e+03 -2.68299438e+02\n",
      "   4.76248322e+01]\n",
      " [-4.53247490e+01 -1.89544052e+02 -1.57241043e+02  3.02492340e+02\n",
      "   8.82744193e-01]], shape=(5, 5), dtype=float32)\n",
      "\n",
      "19. Xlog1pY : tf.Tensor(\n",
      "[[ -3.335387     2.7303336    0.31642008          nan   1.0408934 ]\n",
      " [  6.038548     7.913635            nan -29.517437    -1.6795516 ]\n",
      " [ 15.402516   -11.357726    43.035393    19.3371     -22.683153  ]\n",
      " [         nan  48.152737    -1.5635388  -21.82406     67.84115   ]\n",
      " [         nan -47.81323    -74.291306    26.979445     0.75745016]], shape=(5, 5), dtype=float32)\n",
      "\n",
      "20. XlogY : tf.Tensor(\n",
      "[[          nan    1.1854336   -13.641567             nan  -25.411423  ]\n",
      " [  -6.8322773    -8.888611             nan           nan           nan]\n",
      " [ -13.663672             nan   25.369354    -24.334242             nan]\n",
      " [          nan   13.718465             nan           nan   31.178675  ]\n",
      " [          nan           nan           nan -110.32247       0.12471979]], shape=(5, 5), dtype=float32)\n",
      "\n",
      "21. Atan2 : tf.Tensor(\n",
      "[[1.9561718 1.1112641 1.5577312 1.9065423 1.561774 ]\n",
      " [1.5253489 1.5359385 1.682068  1.6022162 1.5727367]\n",
      " [1.5500398 1.5779401 1.5255435 1.5575914 1.5789416]\n",
      " [1.5988144 1.5494137 1.5712112 1.5745234 1.549802 ]\n",
      " [1.5928557 1.5760721 1.577156  1.5674905 0.7231993]], shape=(5, 5), dtype=float32)\n"
     ]
    }
   ],
   "source": [
    "print(\"1. Penjumlahan :\",tf.add(prime_tensor,random_tensor))\n",
    "print(\"\\n2. Pengurangan :\",tf.subtract(prime_tensor,random_tensor))\n",
    "print(\"\\n3. Perkalian :\",tf.multiply(prime_tensor,random_tensor))\n",
    "print(\"\\n4. Pembagian :\",tf.divide(prime_tensor,random_tensor))\n",
    "print(\"\\n5. Pangkat :\",tf.pow(prime_tensor,random_tensor))\n",
    "print(\"\\n6. FloorDiv :\",tf.math.floordiv(prime_tensor,random_tensor))\n",
    "print(\"\\n7. FloorMod :\",tf.math.floormod(prime_tensor,random_tensor))\n",
    "print(\"\\n8. Greater :\",tf.math.greater(prime_tensor,random_tensor))\n",
    "print(\"\\n9. Setara :\",tf.equal(prime_tensor,random_tensor))\n",
    "print(\"\\n10. Tidak Setara :\",tf.not_equal(prime_tensor,random_tensor))\n",
    "print(\"\\n11. Greater Equal :\",tf.math.greater_equal(prime_tensor,random_tensor))\n",
    "print(\"\\n12. Less :\",tf.math.less(prime_tensor,random_tensor))\n",
    "print(\"\\n13. Less Equal :\",tf.math.less_equal(prime_tensor,random_tensor))\n",
    "print(\"\\n14. Maximum :\",tf.math.maximum(prime_tensor,random_tensor))\n",
    "print(\"\\n15. Minimum :\",tf.math.minimum(prime_tensor,random_tensor))\n",
    "print(\"\\n16. Kuadrat Perbedaan :\",tf.math.squared_difference(prime_tensor,random_tensor))\n",
    "print(\"\\n17. TrueDiv :\",tf.math.truediv(prime_tensor,random_tensor))\n",
    "print(\"\\n18. XdivY :\",tf.math.xdivy(prime_tensor,random_tensor))\n",
    "print(\"\\n19. Xlog1pY :\",tf.math.xlog1py(prime_tensor,random_tensor))\n",
    "print(\"\\n20. XlogY :\",tf.math.xlogy(prime_tensor,random_tensor))\n",
    "print(\"\\n21. Atan2 :\",tf.math.atan2(prime_tensor,random_tensor))"
   ]
  },
  {
   "cell_type": "markdown",
   "id": "0c2a71b9-fd12-4263-8621-4996bb508eea",
   "metadata": {},
   "source": [
    "## 5. Tampilkan nilai maksimal dan minimal dari variable random_tensor"
   ]
  },
  {
   "cell_type": "code",
   "execution_count": 14,
   "id": "f972e74a-638e-42a1-85c7-0120da7773d6",
   "metadata": {},
   "outputs": [
    {
     "data": {
      "text/plain": [
       "array([2, 0, 2, 2, 3], dtype=int64)"
      ]
     },
     "execution_count": 14,
     "metadata": {},
     "output_type": "execute_result"
    }
   ],
   "source": [
    "tf.argmax(random_tensor, axis=0).numpy()#max baris random_tensor"
   ]
  },
  {
   "cell_type": "code",
   "execution_count": 15,
   "id": "23ff2749-b99b-47b7-aa4f-aadfda5c0633",
   "metadata": {},
   "outputs": [
    {
     "data": {
      "text/plain": [
       "array([1, 1, 2, 4, 4], dtype=int64)"
      ]
     },
     "execution_count": 15,
     "metadata": {},
     "output_type": "execute_result"
    }
   ],
   "source": [
    "tf.argmax(random_tensor, axis=1).numpy()#max kolom random_tensor"
   ]
  },
  {
   "cell_type": "code",
   "execution_count": 16,
   "id": "3085559b-73aa-4081-8675-94383a237931",
   "metadata": {},
   "outputs": [
    {
     "data": {
      "text/plain": [
       "array([4, 4, 1, 0, 2], dtype=int64)"
      ]
     },
     "execution_count": 16,
     "metadata": {},
     "output_type": "execute_result"
    }
   ],
   "source": [
    "tf.argmin(random_tensor, axis=0).numpy()#min baris random_tensor"
   ]
  },
  {
   "cell_type": "code",
   "execution_count": 17,
   "id": "ccc8f7d8-e8d1-4f6a-a670-b2339032a8a2",
   "metadata": {},
   "outputs": [
    {
     "data": {
      "text/plain": [
       "array([3, 2, 4, 0, 0], dtype=int64)"
      ]
     },
     "execution_count": 17,
     "metadata": {},
     "output_type": "execute_result"
    }
   ],
   "source": [
    "tf.argmin(random_tensor, axis=1).numpy()#min kolom random_tensor"
   ]
  },
  {
   "cell_type": "markdown",
   "id": "2aa3e7b7-4190-46e0-aca2-14e9ce2ac798",
   "metadata": {},
   "source": [
    "## 6. Tampilkan hasil dari penggabungan variable random_tensor dengan prime_tensor (concatenation)"
   ]
  },
  {
   "cell_type": "code",
   "execution_count": 18,
   "id": "d7263d68-3660-4e5d-8475-2f44115b8112",
   "metadata": {},
   "outputs": [
    {
     "data": {
      "text/plain": [
       "array([[-8.1131822e-01,  1.4845988e+00,  6.5329373e-02, -2.4427042e+00,\n",
       "         9.9248402e-02],\n",
       "       [ 5.9122431e-01,  5.9282297e-01, -2.1229296e+00, -7.2289723e-01,\n",
       "        -5.6270380e-02],\n",
       "       [ 6.4354479e-01, -2.6432407e-01,  1.8566332e+00,  5.6784171e-01,\n",
       "        -3.8283589e-01],\n",
       "       [-1.4853433e+00,  1.2617711e+00, -2.5306080e-02, -2.6462969e-01,\n",
       "         1.5328138e+00],\n",
       "       [-1.7429771e+00, -4.3789294e-01, -5.6601000e-01,  3.2066926e-01,\n",
       "         1.1328310e+00],\n",
       "       [ 2.0000000e+00,  3.0000000e+00,  5.0000000e+00,  7.0000000e+00,\n",
       "         1.1000000e+01],\n",
       "       [ 1.3000000e+01,  1.7000000e+01,  1.9000000e+01,  2.3000000e+01,\n",
       "         2.9000000e+01],\n",
       "       [ 3.1000000e+01,  3.7000000e+01,  4.1000000e+01,  4.3000000e+01,\n",
       "         4.7000000e+01],\n",
       "       [ 5.3000000e+01,  5.9000000e+01,  6.1000000e+01,  7.1000000e+01,\n",
       "         7.3000000e+01],\n",
       "       [ 7.9000000e+01,  8.3000000e+01,  8.9000000e+01,  9.7000000e+01,\n",
       "         1.0000000e+00]], dtype=float32)"
      ]
     },
     "execution_count": 18,
     "metadata": {},
     "output_type": "execute_result"
    }
   ],
   "source": [
    "tf.concat([random_tensor,prime_tensor], axis=0).numpy()#penggabungan baris"
   ]
  },
  {
   "cell_type": "code",
   "execution_count": 19,
   "id": "3ba18a13-ed31-4e01-b24b-229618c73fee",
   "metadata": {},
   "outputs": [
    {
     "data": {
      "text/plain": [
       "array([[-8.1131822e-01,  1.4845988e+00,  6.5329373e-02, -2.4427042e+00,\n",
       "         9.9248402e-02,  2.0000000e+00,  3.0000000e+00,  5.0000000e+00,\n",
       "         7.0000000e+00,  1.1000000e+01],\n",
       "       [ 5.9122431e-01,  5.9282297e-01, -2.1229296e+00, -7.2289723e-01,\n",
       "        -5.6270380e-02,  1.3000000e+01,  1.7000000e+01,  1.9000000e+01,\n",
       "         2.3000000e+01,  2.9000000e+01],\n",
       "       [ 6.4354479e-01, -2.6432407e-01,  1.8566332e+00,  5.6784171e-01,\n",
       "        -3.8283589e-01,  3.1000000e+01,  3.7000000e+01,  4.1000000e+01,\n",
       "         4.3000000e+01,  4.7000000e+01],\n",
       "       [-1.4853433e+00,  1.2617711e+00, -2.5306080e-02, -2.6462969e-01,\n",
       "         1.5328138e+00,  5.3000000e+01,  5.9000000e+01,  6.1000000e+01,\n",
       "         7.1000000e+01,  7.3000000e+01],\n",
       "       [-1.7429771e+00, -4.3789294e-01, -5.6601000e-01,  3.2066926e-01,\n",
       "         1.1328310e+00,  7.9000000e+01,  8.3000000e+01,  8.9000000e+01,\n",
       "         9.7000000e+01,  1.0000000e+00]], dtype=float32)"
      ]
     },
     "execution_count": 19,
     "metadata": {},
     "output_type": "execute_result"
    }
   ],
   "source": [
    "tf.concat([random_tensor,prime_tensor], axis=1).numpy()#penggabungan kolom"
   ]
  },
  {
   "cell_type": "markdown",
   "id": "aad6cce6-e3f6-4ece-b48d-49116debf02d",
   "metadata": {},
   "source": [
    "## 7. Tampilkan hasil sorting dari kedua variable di atas. (descending)"
   ]
  },
  {
   "cell_type": "code",
   "execution_count": 20,
   "id": "654b4b6b-8c67-4c27-bf28-163619c15d5f",
   "metadata": {},
   "outputs": [
    {
     "data": {
      "text/plain": [
       "array([[ 1.4845988 ,  0.0992484 ,  0.06532937, -0.8113182 , -2.4427042 ],\n",
       "       [ 0.59282297,  0.5912243 , -0.05627038, -0.72289723, -2.1229296 ],\n",
       "       [ 1.8566332 ,  0.6435448 ,  0.5678417 , -0.26432407, -0.3828359 ],\n",
       "       [ 1.5328138 ,  1.2617711 , -0.02530608, -0.2646297 , -1.4853433 ],\n",
       "       [ 1.132831  ,  0.32066926, -0.43789294, -0.56601   , -1.7429771 ]],\n",
       "      dtype=float32)"
      ]
     },
     "execution_count": 20,
     "metadata": {},
     "output_type": "execute_result"
    }
   ],
   "source": [
    "sort_random_tensor1 = tf.sort(random_tensor, direction=\"DESCENDING\")\n",
    "sort_random_tensor1.numpy()"
   ]
  },
  {
   "cell_type": "code",
   "execution_count": 21,
   "id": "11d5d1fd-b2c7-4921-882d-20ba100c2f8f",
   "metadata": {},
   "outputs": [
    {
     "data": {
      "text/plain": [
       "array([[1, 4, 2, 0, 3],\n",
       "       [1, 0, 4, 3, 2],\n",
       "       [2, 0, 3, 1, 4],\n",
       "       [4, 1, 2, 3, 0],\n",
       "       [4, 3, 1, 2, 0]])"
      ]
     },
     "execution_count": 21,
     "metadata": {},
     "output_type": "execute_result"
    }
   ],
   "source": [
    "sort_random_tensor2 = tf.argsort(random_tensor, direction=\"DESCENDING\")\n",
    "sort_random_tensor2.numpy()"
   ]
  },
  {
   "cell_type": "code",
   "execution_count": 22,
   "id": "c605b681-b55b-4adc-ae15-43196f2f97fa",
   "metadata": {},
   "outputs": [
    {
     "data": {
      "text/plain": [
       "array([[11.,  7.,  5.,  3.,  2.],\n",
       "       [29., 23., 19., 17., 13.],\n",
       "       [47., 43., 41., 37., 31.],\n",
       "       [73., 71., 61., 59., 53.],\n",
       "       [97., 89., 83., 79.,  1.]], dtype=float32)"
      ]
     },
     "execution_count": 22,
     "metadata": {},
     "output_type": "execute_result"
    }
   ],
   "source": [
    "sort_prime_tensor1 = tf.sort(prime_tensor, direction=\"DESCENDING\")\n",
    "sort_prime_tensor1.numpy()"
   ]
  },
  {
   "cell_type": "code",
   "execution_count": 23,
   "id": "8ec2df9b-7c8f-4427-a891-3a843778f4e1",
   "metadata": {},
   "outputs": [
    {
     "data": {
      "text/plain": [
       "array([[4, 3, 2, 1, 0],\n",
       "       [4, 3, 2, 1, 0],\n",
       "       [4, 3, 2, 1, 0],\n",
       "       [4, 3, 2, 1, 0],\n",
       "       [3, 2, 1, 0, 4]])"
      ]
     },
     "execution_count": 23,
     "metadata": {},
     "output_type": "execute_result"
    }
   ],
   "source": [
    "sort_prime_tensor2 = tf.argsort(prime_tensor, direction=\"DESCENDING\")\n",
    "sort_prime_tensor2.numpy()"
   ]
  }
 ],
 "metadata": {
  "kernelspec": {
   "display_name": "Python 3 (ipykernel)",
   "language": "python",
   "name": "python3"
  },
  "language_info": {
   "codemirror_mode": {
    "name": "ipython",
    "version": 3
   },
   "file_extension": ".py",
   "mimetype": "text/x-python",
   "name": "python",
   "nbconvert_exporter": "python",
   "pygments_lexer": "ipython3",
   "version": "3.10.7"
  }
 },
 "nbformat": 4,
 "nbformat_minor": 5
}
