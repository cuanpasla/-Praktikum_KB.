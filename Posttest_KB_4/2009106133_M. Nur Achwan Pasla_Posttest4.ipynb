{
 "cells": [
  {
   "cell_type": "markdown",
   "id": "49e2f4ac-1961-4904-b073-5c6bc28f5ef2",
   "metadata": {},
   "source": [
    "## POSTTEST 4(DATA PREPROCESSING)"
   ]
  },
  {
   "cell_type": "markdown",
   "id": "a1d7e46d-eb02-4c06-9df8-d183b540dbb3",
   "metadata": {
    "tags": []
   },
   "source": [
    "# IMPORT PACKAGE\n",
    "- Pandas\n",
    "- Numpy\n",
    "- Scikit-Learn(Sklearn)"
   ]
  },
  {
   "cell_type": "code",
   "execution_count": 1,
   "id": "8693796a-db98-4169-8e91-605677cad355",
   "metadata": {},
   "outputs": [],
   "source": [
    "import matplotlib.pyplot as plt\n",
    "import seaborn as sns\n",
    "import pandas as pd\n",
    "import numpy as np\n",
    "\n",
    "# untuk Data Split\n",
    "from sklearn.model_selection import train_test_split #testing dan training data\n",
    "# untuk Data Transforming\n",
    "from sklearn.preprocessing import StandardScaler #standarisasi\n",
    "from sklearn.preprocessing import MinMaxScaler #normalisasi\n",
    "# untuk Data Cleaning\n",
    "from sklearn.impute import SimpleImputer #subtitusi nilai\n",
    "# untuk Data Encoding\n",
    "from sklearn.preprocessing import OrdinalEncoder #encoder\n",
    "from sklearn.preprocessing import OneHotEncoder #onehot\n",
    "\n",
    "import warnings\n",
    "warnings.filterwarnings('ignore')"
   ]
  },
  {
   "cell_type": "markdown",
   "id": "03d3626c-adb2-4510-8a76-e36e3c99a8ca",
   "metadata": {
    "tags": []
   },
   "source": [
    "## Record File \"patient.csv\""
   ]
  },
  {
   "cell_type": "code",
   "execution_count": 2,
   "id": "dce34126-9e8c-4124-8a25-9df822019646",
   "metadata": {},
   "outputs": [
    {
     "data": {
      "text/html": [
       "<div>\n",
       "<style scoped>\n",
       "    .dataframe tbody tr th:only-of-type {\n",
       "        vertical-align: middle;\n",
       "    }\n",
       "\n",
       "    .dataframe tbody tr th {\n",
       "        vertical-align: top;\n",
       "    }\n",
       "\n",
       "    .dataframe thead th {\n",
       "        text-align: right;\n",
       "    }\n",
       "</style>\n",
       "<table border=\"1\" class=\"dataframe\">\n",
       "  <thead>\n",
       "    <tr style=\"text-align: right;\">\n",
       "      <th></th>\n",
       "      <th>patient_id</th>\n",
       "      <th>gender</th>\n",
       "      <th>age</th>\n",
       "      <th>nationality</th>\n",
       "      <th>province</th>\n",
       "      <th>current_state</th>\n",
       "      <th>contacted_with</th>\n",
       "      <th>confirmed_date</th>\n",
       "      <th>released_date</th>\n",
       "      <th>deceased_date</th>\n",
       "      <th>hospital</th>\n",
       "    </tr>\n",
       "  </thead>\n",
       "  <tbody>\n",
       "    <tr>\n",
       "      <th>0</th>\n",
       "      <td>1</td>\n",
       "      <td>female</td>\n",
       "      <td>31.0</td>\n",
       "      <td>indonesia</td>\n",
       "      <td>DKI Jakarta</td>\n",
       "      <td>released</td>\n",
       "      <td>NaN</td>\n",
       "      <td>2-Mar-20</td>\n",
       "      <td>13-Mar-20</td>\n",
       "      <td>NaN</td>\n",
       "      <td>RSPI Sulianti Saroso</td>\n",
       "    </tr>\n",
       "    <tr>\n",
       "      <th>1</th>\n",
       "      <td>2</td>\n",
       "      <td>female</td>\n",
       "      <td>64.0</td>\n",
       "      <td>indonesia</td>\n",
       "      <td>DKI Jakarta</td>\n",
       "      <td>released</td>\n",
       "      <td>1.0</td>\n",
       "      <td>2-Mar-20</td>\n",
       "      <td>16-Mar-20</td>\n",
       "      <td>NaN</td>\n",
       "      <td>RSPI Sulianti Saroso</td>\n",
       "    </tr>\n",
       "    <tr>\n",
       "      <th>2</th>\n",
       "      <td>3</td>\n",
       "      <td>female</td>\n",
       "      <td>33.0</td>\n",
       "      <td>indonesia</td>\n",
       "      <td>DKI Jakarta</td>\n",
       "      <td>released</td>\n",
       "      <td>1.0</td>\n",
       "      <td>6-Mar-20</td>\n",
       "      <td>13-Mar-20</td>\n",
       "      <td>NaN</td>\n",
       "      <td>RSPI Sulianti Saroso</td>\n",
       "    </tr>\n",
       "    <tr>\n",
       "      <th>3</th>\n",
       "      <td>4</td>\n",
       "      <td>female</td>\n",
       "      <td>34.0</td>\n",
       "      <td>indonesia</td>\n",
       "      <td>DKI Jakarta</td>\n",
       "      <td>isolated</td>\n",
       "      <td>1.0</td>\n",
       "      <td>6-Mar-20</td>\n",
       "      <td>NaN</td>\n",
       "      <td>NaN</td>\n",
       "      <td>RSPI Sulianti Saroso</td>\n",
       "    </tr>\n",
       "    <tr>\n",
       "      <th>4</th>\n",
       "      <td>5</td>\n",
       "      <td>male</td>\n",
       "      <td>55.0</td>\n",
       "      <td>indonesia</td>\n",
       "      <td>DKI Jakarta</td>\n",
       "      <td>isolated</td>\n",
       "      <td>1.0</td>\n",
       "      <td>8-Mar-20</td>\n",
       "      <td>NaN</td>\n",
       "      <td>NaN</td>\n",
       "      <td>RS Persahabatan</td>\n",
       "    </tr>\n",
       "  </tbody>\n",
       "</table>\n",
       "</div>"
      ],
      "text/plain": [
       "   patient_id  gender   age nationality     province current_state  \\\n",
       "0           1  female  31.0   indonesia  DKI Jakarta      released   \n",
       "1           2  female  64.0   indonesia  DKI Jakarta      released   \n",
       "2           3  female  33.0   indonesia  DKI Jakarta      released   \n",
       "3           4  female  34.0   indonesia  DKI Jakarta      isolated   \n",
       "4           5    male  55.0   indonesia  DKI Jakarta      isolated   \n",
       "\n",
       "   contacted_with confirmed_date released_date deceased_date  \\\n",
       "0             NaN       2-Mar-20     13-Mar-20           NaN   \n",
       "1             1.0       2-Mar-20     16-Mar-20           NaN   \n",
       "2             1.0       6-Mar-20     13-Mar-20           NaN   \n",
       "3             1.0       6-Mar-20           NaN           NaN   \n",
       "4             1.0       8-Mar-20           NaN           NaN   \n",
       "\n",
       "               hospital  \n",
       "0  RSPI Sulianti Saroso  \n",
       "1  RSPI Sulianti Saroso  \n",
       "2  RSPI Sulianti Saroso  \n",
       "3  RSPI Sulianti Saroso  \n",
       "4       RS Persahabatan  "
      ]
     },
     "execution_count": 2,
     "metadata": {},
     "output_type": "execute_result"
    }
   ],
   "source": [
    "df = pd.read_csv('patient.csv')\n",
    "df.head()"
   ]
  },
  {
   "cell_type": "code",
   "execution_count": 3,
   "id": "4ac1dfe2-c6f3-4a12-bad4-ab8592f5b8a3",
   "metadata": {},
   "outputs": [
    {
     "name": "stdout",
     "output_type": "stream",
     "text": [
      "<class 'pandas.core.frame.DataFrame'>\n",
      "RangeIndex: 893 entries, 0 to 892\n",
      "Data columns (total 11 columns):\n",
      " #   Column          Non-Null Count  Dtype  \n",
      "---  ------          --------------  -----  \n",
      " 0   patient_id      893 non-null    int64  \n",
      " 1   gender          156 non-null    object \n",
      " 2   age             156 non-null    float64\n",
      " 3   nationality     156 non-null    object \n",
      " 4   province        156 non-null    object \n",
      " 5   current_state   166 non-null    object \n",
      " 6   contacted_with  27 non-null     float64\n",
      " 7   confirmed_date  893 non-null    object \n",
      " 8   released_date   5 non-null      object \n",
      " 9   deceased_date   4 non-null      object \n",
      " 10  hospital        17 non-null     object \n",
      "dtypes: float64(2), int64(1), object(8)\n",
      "memory usage: 76.9+ KB\n"
     ]
    }
   ],
   "source": [
    "df.info()"
   ]
  },
  {
   "cell_type": "code",
   "execution_count": 4,
   "id": "616c09c9-c257-4b3d-a4d5-a82afce56720",
   "metadata": {},
   "outputs": [
    {
     "data": {
      "text/plain": [
       "patient_id          0\n",
       "gender            737\n",
       "age               737\n",
       "nationality       737\n",
       "province          737\n",
       "current_state     727\n",
       "contacted_with    866\n",
       "confirmed_date      0\n",
       "released_date     888\n",
       "deceased_date     889\n",
       "hospital          876\n",
       "dtype: int64"
      ]
     },
     "execution_count": 4,
     "metadata": {},
     "output_type": "execute_result"
    }
   ],
   "source": [
    "df.isna().sum()"
   ]
  },
  {
   "cell_type": "code",
   "execution_count": 5,
   "id": "cc5f6975-e3cc-4716-b2fe-90eb8490766b",
   "metadata": {},
   "outputs": [
    {
     "name": "stdout",
     "output_type": "stream",
     "text": [
      "panjang dataset 893 baris\n"
     ]
    }
   ],
   "source": [
    "print(f'panjang dataset {len(df)} baris')"
   ]
  },
  {
   "cell_type": "markdown",
   "id": "463416cc-d515-4cf3-b2c5-03693f5e15bc",
   "metadata": {
    "tags": []
   },
   "source": [
    "## Record File \"cases.csv\""
   ]
  },
  {
   "cell_type": "code",
   "execution_count": 6,
   "id": "eb9d4665-1488-4ae6-9f92-03f2e52691e3",
   "metadata": {},
   "outputs": [
    {
     "data": {
      "text/html": [
       "<div>\n",
       "<style scoped>\n",
       "    .dataframe tbody tr th:only-of-type {\n",
       "        vertical-align: middle;\n",
       "    }\n",
       "\n",
       "    .dataframe tbody tr th {\n",
       "        vertical-align: top;\n",
       "    }\n",
       "\n",
       "    .dataframe thead th {\n",
       "        text-align: right;\n",
       "    }\n",
       "</style>\n",
       "<table border=\"1\" class=\"dataframe\">\n",
       "  <thead>\n",
       "    <tr style=\"text-align: right;\">\n",
       "      <th></th>\n",
       "      <th>date</th>\n",
       "      <th>new_tested</th>\n",
       "      <th>acc_tested</th>\n",
       "      <th>new_confirmed</th>\n",
       "      <th>acc_confirmed</th>\n",
       "      <th>acc_negative</th>\n",
       "      <th>being_checked</th>\n",
       "      <th>isolated</th>\n",
       "      <th>new_released</th>\n",
       "      <th>acc_released</th>\n",
       "      <th>new_deceased</th>\n",
       "      <th>acc_deceased</th>\n",
       "      <th>positive_rate</th>\n",
       "      <th>negative_rate</th>\n",
       "      <th>decease_rate</th>\n",
       "      <th>release_rate</th>\n",
       "      <th>dailypositive_rate</th>\n",
       "    </tr>\n",
       "  </thead>\n",
       "  <tbody>\n",
       "    <tr>\n",
       "      <th>0</th>\n",
       "      <td>2-Mar-20</td>\n",
       "      <td>NaN</td>\n",
       "      <td>339</td>\n",
       "      <td>2</td>\n",
       "      <td>2</td>\n",
       "      <td>335</td>\n",
       "      <td>2</td>\n",
       "      <td>2</td>\n",
       "      <td>0</td>\n",
       "      <td>0</td>\n",
       "      <td>0</td>\n",
       "      <td>0</td>\n",
       "      <td>0.59%</td>\n",
       "      <td>98.82%</td>\n",
       "      <td>0.00%</td>\n",
       "      <td>0.00%</td>\n",
       "      <td>0.00%</td>\n",
       "    </tr>\n",
       "    <tr>\n",
       "      <th>1</th>\n",
       "      <td>3-Mar-20</td>\n",
       "      <td>2.0</td>\n",
       "      <td>341</td>\n",
       "      <td>0</td>\n",
       "      <td>2</td>\n",
       "      <td>337</td>\n",
       "      <td>2</td>\n",
       "      <td>2</td>\n",
       "      <td>0</td>\n",
       "      <td>0</td>\n",
       "      <td>0</td>\n",
       "      <td>0</td>\n",
       "      <td>0.59%</td>\n",
       "      <td>98.83%</td>\n",
       "      <td>0.00%</td>\n",
       "      <td>0.00%</td>\n",
       "      <td>0.00%</td>\n",
       "    </tr>\n",
       "    <tr>\n",
       "      <th>2</th>\n",
       "      <td>4-Mar-20</td>\n",
       "      <td>31.0</td>\n",
       "      <td>372</td>\n",
       "      <td>0</td>\n",
       "      <td>2</td>\n",
       "      <td>356</td>\n",
       "      <td>14</td>\n",
       "      <td>2</td>\n",
       "      <td>0</td>\n",
       "      <td>0</td>\n",
       "      <td>0</td>\n",
       "      <td>0</td>\n",
       "      <td>0.54%</td>\n",
       "      <td>95.70%</td>\n",
       "      <td>0.00%</td>\n",
       "      <td>0.00%</td>\n",
       "      <td>0.00%</td>\n",
       "    </tr>\n",
       "    <tr>\n",
       "      <th>3</th>\n",
       "      <td>5-Mar-20</td>\n",
       "      <td>16.0</td>\n",
       "      <td>388</td>\n",
       "      <td>0</td>\n",
       "      <td>2</td>\n",
       "      <td>371</td>\n",
       "      <td>15</td>\n",
       "      <td>2</td>\n",
       "      <td>0</td>\n",
       "      <td>0</td>\n",
       "      <td>0</td>\n",
       "      <td>0</td>\n",
       "      <td>0.52%</td>\n",
       "      <td>95.62%</td>\n",
       "      <td>0.00%</td>\n",
       "      <td>0.00%</td>\n",
       "      <td>0.00%</td>\n",
       "    </tr>\n",
       "    <tr>\n",
       "      <th>4</th>\n",
       "      <td>6-Mar-20</td>\n",
       "      <td>62.0</td>\n",
       "      <td>450</td>\n",
       "      <td>2</td>\n",
       "      <td>4</td>\n",
       "      <td>422</td>\n",
       "      <td>24</td>\n",
       "      <td>4</td>\n",
       "      <td>0</td>\n",
       "      <td>0</td>\n",
       "      <td>0</td>\n",
       "      <td>0</td>\n",
       "      <td>0.89%</td>\n",
       "      <td>93.78%</td>\n",
       "      <td>0.00%</td>\n",
       "      <td>0.00%</td>\n",
       "      <td>3.23%</td>\n",
       "    </tr>\n",
       "  </tbody>\n",
       "</table>\n",
       "</div>"
      ],
      "text/plain": [
       "       date  new_tested  acc_tested  new_confirmed  acc_confirmed  \\\n",
       "0  2-Mar-20         NaN         339              2              2   \n",
       "1  3-Mar-20         2.0         341              0              2   \n",
       "2  4-Mar-20        31.0         372              0              2   \n",
       "3  5-Mar-20        16.0         388              0              2   \n",
       "4  6-Mar-20        62.0         450              2              4   \n",
       "\n",
       "   acc_negative  being_checked  isolated  new_released  acc_released  \\\n",
       "0           335              2         2             0             0   \n",
       "1           337              2         2             0             0   \n",
       "2           356             14         2             0             0   \n",
       "3           371             15         2             0             0   \n",
       "4           422             24         4             0             0   \n",
       "\n",
       "   new_deceased  acc_deceased positive_rate negative_rate decease_rate  \\\n",
       "0             0             0         0.59%        98.82%        0.00%   \n",
       "1             0             0         0.59%        98.83%        0.00%   \n",
       "2             0             0         0.54%        95.70%        0.00%   \n",
       "3             0             0         0.52%        95.62%        0.00%   \n",
       "4             0             0         0.89%        93.78%        0.00%   \n",
       "\n",
       "  release_rate dailypositive_rate  \n",
       "0        0.00%              0.00%  \n",
       "1        0.00%              0.00%  \n",
       "2        0.00%              0.00%  \n",
       "3        0.00%              0.00%  \n",
       "4        0.00%              3.23%  "
      ]
     },
     "execution_count": 6,
     "metadata": {},
     "output_type": "execute_result"
    }
   ],
   "source": [
    "df2 = pd.read_csv('cases.csv')\n",
    "df2.head()"
   ]
  },
  {
   "cell_type": "code",
   "execution_count": 7,
   "id": "f11e5d8c-2eb2-4428-b50c-709b3062087a",
   "metadata": {},
   "outputs": [
    {
     "name": "stdout",
     "output_type": "stream",
     "text": [
      "<class 'pandas.core.frame.DataFrame'>\n",
      "RangeIndex: 30 entries, 0 to 29\n",
      "Data columns (total 17 columns):\n",
      " #   Column              Non-Null Count  Dtype  \n",
      "---  ------              --------------  -----  \n",
      " 0   date                30 non-null     object \n",
      " 1   new_tested          28 non-null     float64\n",
      " 2   acc_tested          30 non-null     int64  \n",
      " 3   new_confirmed       30 non-null     int64  \n",
      " 4   acc_confirmed       30 non-null     int64  \n",
      " 5   acc_negative        30 non-null     int64  \n",
      " 6   being_checked       30 non-null     int64  \n",
      " 7   isolated            30 non-null     int64  \n",
      " 8   new_released        30 non-null     int64  \n",
      " 9   acc_released        30 non-null     int64  \n",
      " 10  new_deceased        30 non-null     int64  \n",
      " 11  acc_deceased        30 non-null     int64  \n",
      " 12  positive_rate       30 non-null     object \n",
      " 13  negative_rate       30 non-null     object \n",
      " 14  decease_rate        30 non-null     object \n",
      " 15  release_rate        30 non-null     object \n",
      " 16  dailypositive_rate  30 non-null     object \n",
      "dtypes: float64(1), int64(10), object(6)\n",
      "memory usage: 4.1+ KB\n"
     ]
    }
   ],
   "source": [
    "df2.info()"
   ]
  },
  {
   "cell_type": "code",
   "execution_count": 8,
   "id": "0a098f30-55f4-4e80-a1b8-4654289e7e28",
   "metadata": {},
   "outputs": [
    {
     "data": {
      "text/plain": [
       "date                  0\n",
       "new_tested            2\n",
       "acc_tested            0\n",
       "new_confirmed         0\n",
       "acc_confirmed         0\n",
       "acc_negative          0\n",
       "being_checked         0\n",
       "isolated              0\n",
       "new_released          0\n",
       "acc_released          0\n",
       "new_deceased          0\n",
       "acc_deceased          0\n",
       "positive_rate         0\n",
       "negative_rate         0\n",
       "decease_rate          0\n",
       "release_rate          0\n",
       "dailypositive_rate    0\n",
       "dtype: int64"
      ]
     },
     "execution_count": 8,
     "metadata": {},
     "output_type": "execute_result"
    }
   ],
   "source": [
    "df2.isna().sum()"
   ]
  },
  {
   "cell_type": "code",
   "execution_count": 9,
   "id": "54030e28-a308-4c5f-a535-48b44902251a",
   "metadata": {},
   "outputs": [
    {
     "name": "stdout",
     "output_type": "stream",
     "text": [
      "panjang dataset 30 baris\n"
     ]
    }
   ],
   "source": [
    "print(f'panjang dataset {len(df2)} baris')"
   ]
  },
  {
   "cell_type": "markdown",
   "id": "2aca3a78-f05e-4d75-b352-ec5d87a6f378",
   "metadata": {
    "tags": []
   },
   "source": [
    "## Record File \"charts.csv\""
   ]
  },
  {
   "cell_type": "code",
   "execution_count": 10,
   "id": "cee02658-6135-4168-baa8-28a49adc10cd",
   "metadata": {},
   "outputs": [
    {
     "data": {
      "text/html": [
       "<div>\n",
       "<style scoped>\n",
       "    .dataframe tbody tr th:only-of-type {\n",
       "        vertical-align: middle;\n",
       "    }\n",
       "\n",
       "    .dataframe tbody tr th {\n",
       "        vertical-align: top;\n",
       "    }\n",
       "\n",
       "    .dataframe thead th {\n",
       "        text-align: right;\n",
       "    }\n",
       "</style>\n",
       "<table border=\"1\" class=\"dataframe\">\n",
       "  <thead>\n",
       "    <tr style=\"text-align: right;\">\n",
       "      <th></th>\n",
       "      <th>date</th>\n",
       "      <th>rank</th>\n",
       "      <th>song</th>\n",
       "      <th>artist</th>\n",
       "      <th>last-week</th>\n",
       "      <th>peak-rank</th>\n",
       "      <th>weeks-on-board</th>\n",
       "    </tr>\n",
       "  </thead>\n",
       "  <tbody>\n",
       "    <tr>\n",
       "      <th>0</th>\n",
       "      <td>2021-11-06</td>\n",
       "      <td>1</td>\n",
       "      <td>Easy On Me</td>\n",
       "      <td>Adele</td>\n",
       "      <td>1.0</td>\n",
       "      <td>1</td>\n",
       "      <td>3</td>\n",
       "    </tr>\n",
       "    <tr>\n",
       "      <th>1</th>\n",
       "      <td>2021-11-06</td>\n",
       "      <td>2</td>\n",
       "      <td>Stay</td>\n",
       "      <td>The Kid LAROI &amp; Justin Bieber</td>\n",
       "      <td>2.0</td>\n",
       "      <td>1</td>\n",
       "      <td>16</td>\n",
       "    </tr>\n",
       "    <tr>\n",
       "      <th>2</th>\n",
       "      <td>2021-11-06</td>\n",
       "      <td>3</td>\n",
       "      <td>Industry Baby</td>\n",
       "      <td>Lil Nas X &amp; Jack Harlow</td>\n",
       "      <td>3.0</td>\n",
       "      <td>1</td>\n",
       "      <td>14</td>\n",
       "    </tr>\n",
       "    <tr>\n",
       "      <th>3</th>\n",
       "      <td>2021-11-06</td>\n",
       "      <td>4</td>\n",
       "      <td>Fancy Like</td>\n",
       "      <td>Walker Hayes</td>\n",
       "      <td>4.0</td>\n",
       "      <td>3</td>\n",
       "      <td>19</td>\n",
       "    </tr>\n",
       "    <tr>\n",
       "      <th>4</th>\n",
       "      <td>2021-11-06</td>\n",
       "      <td>5</td>\n",
       "      <td>Bad Habits</td>\n",
       "      <td>Ed Sheeran</td>\n",
       "      <td>5.0</td>\n",
       "      <td>2</td>\n",
       "      <td>18</td>\n",
       "    </tr>\n",
       "  </tbody>\n",
       "</table>\n",
       "</div>"
      ],
      "text/plain": [
       "         date  rank           song                         artist  last-week  \\\n",
       "0  2021-11-06     1     Easy On Me                          Adele        1.0   \n",
       "1  2021-11-06     2           Stay  The Kid LAROI & Justin Bieber        2.0   \n",
       "2  2021-11-06     3  Industry Baby        Lil Nas X & Jack Harlow        3.0   \n",
       "3  2021-11-06     4     Fancy Like                   Walker Hayes        4.0   \n",
       "4  2021-11-06     5     Bad Habits                     Ed Sheeran        5.0   \n",
       "\n",
       "   peak-rank  weeks-on-board  \n",
       "0          1               3  \n",
       "1          1              16  \n",
       "2          1              14  \n",
       "3          3              19  \n",
       "4          2              18  "
      ]
     },
     "execution_count": 10,
     "metadata": {},
     "output_type": "execute_result"
    }
   ],
   "source": [
    "df3 = pd.read_csv('charts.csv')\n",
    "df3.head()"
   ]
  },
  {
   "cell_type": "code",
   "execution_count": 11,
   "id": "801f02ef-d7eb-4bf9-aa9e-b08555db9572",
   "metadata": {},
   "outputs": [
    {
     "name": "stdout",
     "output_type": "stream",
     "text": [
      "<class 'pandas.core.frame.DataFrame'>\n",
      "RangeIndex: 330087 entries, 0 to 330086\n",
      "Data columns (total 7 columns):\n",
      " #   Column          Non-Null Count   Dtype  \n",
      "---  ------          --------------   -----  \n",
      " 0   date            330087 non-null  object \n",
      " 1   rank            330087 non-null  int64  \n",
      " 2   song            330087 non-null  object \n",
      " 3   artist          330087 non-null  object \n",
      " 4   last-week       297775 non-null  float64\n",
      " 5   peak-rank       330087 non-null  int64  \n",
      " 6   weeks-on-board  330087 non-null  int64  \n",
      "dtypes: float64(1), int64(3), object(3)\n",
      "memory usage: 17.6+ MB\n"
     ]
    }
   ],
   "source": [
    "df3.info()"
   ]
  },
  {
   "cell_type": "code",
   "execution_count": 12,
   "id": "2ea9d9b9-d7b3-4e2c-b695-d68e2d1eb343",
   "metadata": {},
   "outputs": [
    {
     "data": {
      "text/plain": [
       "date                  0\n",
       "rank                  0\n",
       "song                  0\n",
       "artist                0\n",
       "last-week         32312\n",
       "peak-rank             0\n",
       "weeks-on-board        0\n",
       "dtype: int64"
      ]
     },
     "execution_count": 12,
     "metadata": {},
     "output_type": "execute_result"
    }
   ],
   "source": [
    "df3.isna().sum()"
   ]
  },
  {
   "cell_type": "code",
   "execution_count": 13,
   "id": "a3de71b3-8475-45cc-86c1-f78623eb01e6",
   "metadata": {},
   "outputs": [
    {
     "name": "stdout",
     "output_type": "stream",
     "text": [
      "panjang dataset 330087 baris\n"
     ]
    }
   ],
   "source": [
    "print(f'panjang dataset {len(df3)} baris')"
   ]
  },
  {
   "cell_type": "markdown",
   "id": "c3c535f3-cc75-44a3-a7ea-2b2609b70b05",
   "metadata": {
    "tags": []
   },
   "source": [
    "## Record File \"songs_normalize.csv\""
   ]
  },
  {
   "cell_type": "code",
   "execution_count": 14,
   "id": "d4bd2595-260e-49b7-be45-c67d0f500886",
   "metadata": {},
   "outputs": [
    {
     "data": {
      "text/html": [
       "<div>\n",
       "<style scoped>\n",
       "    .dataframe tbody tr th:only-of-type {\n",
       "        vertical-align: middle;\n",
       "    }\n",
       "\n",
       "    .dataframe tbody tr th {\n",
       "        vertical-align: top;\n",
       "    }\n",
       "\n",
       "    .dataframe thead th {\n",
       "        text-align: right;\n",
       "    }\n",
       "</style>\n",
       "<table border=\"1\" class=\"dataframe\">\n",
       "  <thead>\n",
       "    <tr style=\"text-align: right;\">\n",
       "      <th></th>\n",
       "      <th>artist</th>\n",
       "      <th>song</th>\n",
       "      <th>duration_ms</th>\n",
       "      <th>explicit</th>\n",
       "      <th>year</th>\n",
       "      <th>popularity</th>\n",
       "      <th>danceability</th>\n",
       "      <th>energy</th>\n",
       "      <th>key</th>\n",
       "      <th>loudness</th>\n",
       "      <th>mode</th>\n",
       "      <th>speechiness</th>\n",
       "      <th>acousticness</th>\n",
       "      <th>instrumentalness</th>\n",
       "      <th>liveness</th>\n",
       "      <th>valence</th>\n",
       "      <th>tempo</th>\n",
       "      <th>genre</th>\n",
       "    </tr>\n",
       "  </thead>\n",
       "  <tbody>\n",
       "    <tr>\n",
       "      <th>0</th>\n",
       "      <td>Britney Spears</td>\n",
       "      <td>Oops!...I Did It Again</td>\n",
       "      <td>211160</td>\n",
       "      <td>False</td>\n",
       "      <td>2000</td>\n",
       "      <td>77</td>\n",
       "      <td>0.751</td>\n",
       "      <td>0.834</td>\n",
       "      <td>1</td>\n",
       "      <td>-5.444</td>\n",
       "      <td>0</td>\n",
       "      <td>0.0437</td>\n",
       "      <td>0.3000</td>\n",
       "      <td>0.000018</td>\n",
       "      <td>0.3550</td>\n",
       "      <td>0.894</td>\n",
       "      <td>95.053</td>\n",
       "      <td>pop</td>\n",
       "    </tr>\n",
       "    <tr>\n",
       "      <th>1</th>\n",
       "      <td>blink-182</td>\n",
       "      <td>All The Small Things</td>\n",
       "      <td>167066</td>\n",
       "      <td>False</td>\n",
       "      <td>1999</td>\n",
       "      <td>79</td>\n",
       "      <td>0.434</td>\n",
       "      <td>0.897</td>\n",
       "      <td>0</td>\n",
       "      <td>-4.918</td>\n",
       "      <td>1</td>\n",
       "      <td>0.0488</td>\n",
       "      <td>0.0103</td>\n",
       "      <td>0.000000</td>\n",
       "      <td>0.6120</td>\n",
       "      <td>0.684</td>\n",
       "      <td>148.726</td>\n",
       "      <td>rock, pop</td>\n",
       "    </tr>\n",
       "    <tr>\n",
       "      <th>2</th>\n",
       "      <td>Faith Hill</td>\n",
       "      <td>Breathe</td>\n",
       "      <td>250546</td>\n",
       "      <td>False</td>\n",
       "      <td>1999</td>\n",
       "      <td>66</td>\n",
       "      <td>0.529</td>\n",
       "      <td>0.496</td>\n",
       "      <td>7</td>\n",
       "      <td>-9.007</td>\n",
       "      <td>1</td>\n",
       "      <td>0.0290</td>\n",
       "      <td>0.1730</td>\n",
       "      <td>0.000000</td>\n",
       "      <td>0.2510</td>\n",
       "      <td>0.278</td>\n",
       "      <td>136.859</td>\n",
       "      <td>pop, country</td>\n",
       "    </tr>\n",
       "    <tr>\n",
       "      <th>3</th>\n",
       "      <td>Bon Jovi</td>\n",
       "      <td>It's My Life</td>\n",
       "      <td>224493</td>\n",
       "      <td>False</td>\n",
       "      <td>2000</td>\n",
       "      <td>78</td>\n",
       "      <td>0.551</td>\n",
       "      <td>0.913</td>\n",
       "      <td>0</td>\n",
       "      <td>-4.063</td>\n",
       "      <td>0</td>\n",
       "      <td>0.0466</td>\n",
       "      <td>0.0263</td>\n",
       "      <td>0.000013</td>\n",
       "      <td>0.3470</td>\n",
       "      <td>0.544</td>\n",
       "      <td>119.992</td>\n",
       "      <td>rock, metal</td>\n",
       "    </tr>\n",
       "    <tr>\n",
       "      <th>4</th>\n",
       "      <td>*NSYNC</td>\n",
       "      <td>Bye Bye Bye</td>\n",
       "      <td>200560</td>\n",
       "      <td>False</td>\n",
       "      <td>2000</td>\n",
       "      <td>65</td>\n",
       "      <td>0.614</td>\n",
       "      <td>0.928</td>\n",
       "      <td>8</td>\n",
       "      <td>-4.806</td>\n",
       "      <td>0</td>\n",
       "      <td>0.0516</td>\n",
       "      <td>0.0408</td>\n",
       "      <td>0.001040</td>\n",
       "      <td>0.0845</td>\n",
       "      <td>0.879</td>\n",
       "      <td>172.656</td>\n",
       "      <td>pop</td>\n",
       "    </tr>\n",
       "  </tbody>\n",
       "</table>\n",
       "</div>"
      ],
      "text/plain": [
       "           artist                    song  duration_ms  explicit  year  \\\n",
       "0  Britney Spears  Oops!...I Did It Again       211160     False  2000   \n",
       "1       blink-182    All The Small Things       167066     False  1999   \n",
       "2      Faith Hill                 Breathe       250546     False  1999   \n",
       "3        Bon Jovi            It's My Life       224493     False  2000   \n",
       "4          *NSYNC             Bye Bye Bye       200560     False  2000   \n",
       "\n",
       "   popularity  danceability  energy  key  loudness  mode  speechiness  \\\n",
       "0          77         0.751   0.834    1    -5.444     0       0.0437   \n",
       "1          79         0.434   0.897    0    -4.918     1       0.0488   \n",
       "2          66         0.529   0.496    7    -9.007     1       0.0290   \n",
       "3          78         0.551   0.913    0    -4.063     0       0.0466   \n",
       "4          65         0.614   0.928    8    -4.806     0       0.0516   \n",
       "\n",
       "   acousticness  instrumentalness  liveness  valence    tempo         genre  \n",
       "0        0.3000          0.000018    0.3550    0.894   95.053           pop  \n",
       "1        0.0103          0.000000    0.6120    0.684  148.726     rock, pop  \n",
       "2        0.1730          0.000000    0.2510    0.278  136.859  pop, country  \n",
       "3        0.0263          0.000013    0.3470    0.544  119.992   rock, metal  \n",
       "4        0.0408          0.001040    0.0845    0.879  172.656           pop  "
      ]
     },
     "execution_count": 14,
     "metadata": {},
     "output_type": "execute_result"
    }
   ],
   "source": [
    "df4 = pd.read_csv('songs_normalize.csv')\n",
    "df4.head()"
   ]
  },
  {
   "cell_type": "code",
   "execution_count": 15,
   "id": "3ab350d5-4b62-4a45-8d80-f3c0ed90093d",
   "metadata": {},
   "outputs": [
    {
     "name": "stdout",
     "output_type": "stream",
     "text": [
      "<class 'pandas.core.frame.DataFrame'>\n",
      "RangeIndex: 2000 entries, 0 to 1999\n",
      "Data columns (total 18 columns):\n",
      " #   Column            Non-Null Count  Dtype  \n",
      "---  ------            --------------  -----  \n",
      " 0   artist            2000 non-null   object \n",
      " 1   song              2000 non-null   object \n",
      " 2   duration_ms       2000 non-null   int64  \n",
      " 3   explicit          2000 non-null   bool   \n",
      " 4   year              2000 non-null   int64  \n",
      " 5   popularity        2000 non-null   int64  \n",
      " 6   danceability      2000 non-null   float64\n",
      " 7   energy            2000 non-null   float64\n",
      " 8   key               2000 non-null   int64  \n",
      " 9   loudness          2000 non-null   float64\n",
      " 10  mode              2000 non-null   int64  \n",
      " 11  speechiness       2000 non-null   float64\n",
      " 12  acousticness      2000 non-null   float64\n",
      " 13  instrumentalness  2000 non-null   float64\n",
      " 14  liveness          2000 non-null   float64\n",
      " 15  valence           2000 non-null   float64\n",
      " 16  tempo             2000 non-null   float64\n",
      " 17  genre             2000 non-null   object \n",
      "dtypes: bool(1), float64(9), int64(5), object(3)\n",
      "memory usage: 267.7+ KB\n"
     ]
    }
   ],
   "source": [
    "df4.info()"
   ]
  },
  {
   "cell_type": "code",
   "execution_count": 16,
   "id": "08f75582-0f1f-4a3e-9c58-dc72cdfa159f",
   "metadata": {},
   "outputs": [
    {
     "data": {
      "text/plain": [
       "artist              0\n",
       "song                0\n",
       "duration_ms         0\n",
       "explicit            0\n",
       "year                0\n",
       "popularity          0\n",
       "danceability        0\n",
       "energy              0\n",
       "key                 0\n",
       "loudness            0\n",
       "mode                0\n",
       "speechiness         0\n",
       "acousticness        0\n",
       "instrumentalness    0\n",
       "liveness            0\n",
       "valence             0\n",
       "tempo               0\n",
       "genre               0\n",
       "dtype: int64"
      ]
     },
     "execution_count": 16,
     "metadata": {},
     "output_type": "execute_result"
    }
   ],
   "source": [
    "df4.isna().sum()"
   ]
  },
  {
   "cell_type": "code",
   "execution_count": 17,
   "id": "cb0a0395-6e39-436b-8d99-996f9a3f3a80",
   "metadata": {},
   "outputs": [
    {
     "name": "stdout",
     "output_type": "stream",
     "text": [
      "panjang dataset 2000 baris\n"
     ]
    }
   ],
   "source": [
    "print(f'panjang dataset {len(df4)} baris')"
   ]
  },
  {
   "cell_type": "markdown",
   "id": "50811627-b659-4624-b230-e37112ebe294",
   "metadata": {
    "tags": []
   },
   "source": [
    "## Record File \"Transformed Data Set - Sheet1.csv\""
   ]
  },
  {
   "cell_type": "code",
   "execution_count": 18,
   "id": "858b0192-40ba-4736-90a9-471e381d4992",
   "metadata": {},
   "outputs": [
    {
     "data": {
      "text/html": [
       "<div>\n",
       "<style scoped>\n",
       "    .dataframe tbody tr th:only-of-type {\n",
       "        vertical-align: middle;\n",
       "    }\n",
       "\n",
       "    .dataframe tbody tr th {\n",
       "        vertical-align: top;\n",
       "    }\n",
       "\n",
       "    .dataframe thead th {\n",
       "        text-align: right;\n",
       "    }\n",
       "</style>\n",
       "<table border=\"1\" class=\"dataframe\">\n",
       "  <thead>\n",
       "    <tr style=\"text-align: right;\">\n",
       "      <th></th>\n",
       "      <th>Favorite Color</th>\n",
       "      <th>Favorite Music Genre</th>\n",
       "      <th>Favorite Beverage</th>\n",
       "      <th>Favorite Soft Drink</th>\n",
       "      <th>Gender</th>\n",
       "    </tr>\n",
       "  </thead>\n",
       "  <tbody>\n",
       "    <tr>\n",
       "      <th>0</th>\n",
       "      <td>Cool</td>\n",
       "      <td>Rock</td>\n",
       "      <td>Vodka</td>\n",
       "      <td>7UP/Sprite</td>\n",
       "      <td>F</td>\n",
       "    </tr>\n",
       "    <tr>\n",
       "      <th>1</th>\n",
       "      <td>Neutral</td>\n",
       "      <td>Hip hop</td>\n",
       "      <td>Vodka</td>\n",
       "      <td>Coca Cola/Pepsi</td>\n",
       "      <td>F</td>\n",
       "    </tr>\n",
       "    <tr>\n",
       "      <th>2</th>\n",
       "      <td>Warm</td>\n",
       "      <td>Rock</td>\n",
       "      <td>Wine</td>\n",
       "      <td>Coca Cola/Pepsi</td>\n",
       "      <td>F</td>\n",
       "    </tr>\n",
       "    <tr>\n",
       "      <th>3</th>\n",
       "      <td>Warm</td>\n",
       "      <td>Folk/Traditional</td>\n",
       "      <td>Whiskey</td>\n",
       "      <td>Fanta</td>\n",
       "      <td>F</td>\n",
       "    </tr>\n",
       "    <tr>\n",
       "      <th>4</th>\n",
       "      <td>Cool</td>\n",
       "      <td>Rock</td>\n",
       "      <td>Vodka</td>\n",
       "      <td>Coca Cola/Pepsi</td>\n",
       "      <td>F</td>\n",
       "    </tr>\n",
       "  </tbody>\n",
       "</table>\n",
       "</div>"
      ],
      "text/plain": [
       "  Favorite Color Favorite Music Genre Favorite Beverage Favorite Soft Drink  \\\n",
       "0           Cool                 Rock             Vodka          7UP/Sprite   \n",
       "1        Neutral              Hip hop             Vodka     Coca Cola/Pepsi   \n",
       "2           Warm                 Rock              Wine     Coca Cola/Pepsi   \n",
       "3           Warm     Folk/Traditional           Whiskey               Fanta   \n",
       "4           Cool                 Rock             Vodka     Coca Cola/Pepsi   \n",
       "\n",
       "  Gender  \n",
       "0      F  \n",
       "1      F  \n",
       "2      F  \n",
       "3      F  \n",
       "4      F  "
      ]
     },
     "execution_count": 18,
     "metadata": {},
     "output_type": "execute_result"
    }
   ],
   "source": [
    "df5 = pd.read_csv('Transformed Data Set - Sheet1.csv')\n",
    "df5.head()"
   ]
  },
  {
   "cell_type": "code",
   "execution_count": 19,
   "id": "21a1d2b5-5737-46fd-b046-3df23212c58b",
   "metadata": {},
   "outputs": [
    {
     "name": "stdout",
     "output_type": "stream",
     "text": [
      "<class 'pandas.core.frame.DataFrame'>\n",
      "RangeIndex: 66 entries, 0 to 65\n",
      "Data columns (total 5 columns):\n",
      " #   Column                Non-Null Count  Dtype \n",
      "---  ------                --------------  ----- \n",
      " 0   Favorite Color        66 non-null     object\n",
      " 1   Favorite Music Genre  66 non-null     object\n",
      " 2   Favorite Beverage     66 non-null     object\n",
      " 3   Favorite Soft Drink   66 non-null     object\n",
      " 4   Gender                66 non-null     object\n",
      "dtypes: object(5)\n",
      "memory usage: 2.7+ KB\n"
     ]
    }
   ],
   "source": [
    "df5.info()"
   ]
  },
  {
   "cell_type": "code",
   "execution_count": 20,
   "id": "cd481e6e-2ec7-462f-9b11-4f20d8aa1274",
   "metadata": {},
   "outputs": [
    {
     "data": {
      "text/plain": [
       "Favorite Color          0\n",
       "Favorite Music Genre    0\n",
       "Favorite Beverage       0\n",
       "Favorite Soft Drink     0\n",
       "Gender                  0\n",
       "dtype: int64"
      ]
     },
     "execution_count": 20,
     "metadata": {},
     "output_type": "execute_result"
    }
   ],
   "source": [
    "df5.isna().sum()"
   ]
  },
  {
   "cell_type": "code",
   "execution_count": 21,
   "id": "cbbaa113-f0b3-441f-8475-f80729c1b250",
   "metadata": {},
   "outputs": [
    {
     "name": "stdout",
     "output_type": "stream",
     "text": [
      "panjang dataset 66 baris\n"
     ]
    }
   ],
   "source": [
    "print(f'panjang dataset {len(df5)} baris')"
   ]
  },
  {
   "cell_type": "markdown",
   "id": "659fb9c0-9eee-4ec1-a589-0b4b9b22ddb4",
   "metadata": {
    "tags": []
   },
   "source": [
    "## Record File \"tangsel_covid19.csv\""
   ]
  },
  {
   "cell_type": "code",
   "execution_count": 22,
   "id": "41d1c0b2-404f-4100-9a1e-f6e85158dbbe",
   "metadata": {},
   "outputs": [
    {
     "data": {
      "text/html": [
       "<div>\n",
       "<style scoped>\n",
       "    .dataframe tbody tr th:only-of-type {\n",
       "        vertical-align: middle;\n",
       "    }\n",
       "\n",
       "    .dataframe tbody tr th {\n",
       "        vertical-align: top;\n",
       "    }\n",
       "\n",
       "    .dataframe thead th {\n",
       "        text-align: right;\n",
       "    }\n",
       "</style>\n",
       "<table border=\"1\" class=\"dataframe\">\n",
       "  <thead>\n",
       "    <tr style=\"text-align: right;\">\n",
       "      <th></th>\n",
       "      <th>Unnamed: 0</th>\n",
       "      <th>ODP</th>\n",
       "      <th>PDP</th>\n",
       "      <th>POSITIF</th>\n",
       "      <th>SEMBUH</th>\n",
       "      <th>MENINGGAL</th>\n",
       "    </tr>\n",
       "  </thead>\n",
       "  <tbody>\n",
       "    <tr>\n",
       "      <th>0</th>\n",
       "      <td>3/26/2020</td>\n",
       "      <td>204</td>\n",
       "      <td>89</td>\n",
       "      <td>17</td>\n",
       "      <td>0</td>\n",
       "      <td>4</td>\n",
       "    </tr>\n",
       "    <tr>\n",
       "      <th>1</th>\n",
       "      <td>3/27/2020</td>\n",
       "      <td>207</td>\n",
       "      <td>99</td>\n",
       "      <td>17</td>\n",
       "      <td>0</td>\n",
       "      <td>4</td>\n",
       "    </tr>\n",
       "    <tr>\n",
       "      <th>2</th>\n",
       "      <td>3/29/2020</td>\n",
       "      <td>256</td>\n",
       "      <td>119</td>\n",
       "      <td>28</td>\n",
       "      <td>0</td>\n",
       "      <td>4</td>\n",
       "    </tr>\n",
       "    <tr>\n",
       "      <th>3</th>\n",
       "      <td>3/30/2020</td>\n",
       "      <td>262</td>\n",
       "      <td>123</td>\n",
       "      <td>31</td>\n",
       "      <td>0</td>\n",
       "      <td>6</td>\n",
       "    </tr>\n",
       "    <tr>\n",
       "      <th>4</th>\n",
       "      <td>3/31/2020</td>\n",
       "      <td>308</td>\n",
       "      <td>134</td>\n",
       "      <td>34</td>\n",
       "      <td>2</td>\n",
       "      <td>6</td>\n",
       "    </tr>\n",
       "  </tbody>\n",
       "</table>\n",
       "</div>"
      ],
      "text/plain": [
       "  Unnamed: 0  ODP  PDP  POSITIF  SEMBUH  MENINGGAL\n",
       "0  3/26/2020  204   89       17       0          4\n",
       "1  3/27/2020  207   99       17       0          4\n",
       "2  3/29/2020  256  119       28       0          4\n",
       "3  3/30/2020  262  123       31       0          6\n",
       "4  3/31/2020  308  134       34       2          6"
      ]
     },
     "execution_count": 22,
     "metadata": {},
     "output_type": "execute_result"
    }
   ],
   "source": [
    "df6 = pd.read_csv('tangsel_covid19.csv')\n",
    "df6.head()"
   ]
  },
  {
   "cell_type": "code",
   "execution_count": 23,
   "id": "521c5a8d-f5bf-4f3a-83cc-ae0b45412eec",
   "metadata": {},
   "outputs": [
    {
     "name": "stdout",
     "output_type": "stream",
     "text": [
      "<class 'pandas.core.frame.DataFrame'>\n",
      "RangeIndex: 14 entries, 0 to 13\n",
      "Data columns (total 6 columns):\n",
      " #   Column      Non-Null Count  Dtype \n",
      "---  ------      --------------  ----- \n",
      " 0   Unnamed: 0  14 non-null     object\n",
      " 1   ODP         14 non-null     int64 \n",
      " 2   PDP         14 non-null     int64 \n",
      " 3   POSITIF     14 non-null     int64 \n",
      " 4   SEMBUH      14 non-null     int64 \n",
      " 5   MENINGGAL   14 non-null     int64 \n",
      "dtypes: int64(5), object(1)\n",
      "memory usage: 800.0+ bytes\n"
     ]
    }
   ],
   "source": [
    "df6.info()"
   ]
  },
  {
   "cell_type": "code",
   "execution_count": 24,
   "id": "d36e1101-b4f5-4269-90d6-f23b09923ca2",
   "metadata": {},
   "outputs": [
    {
     "data": {
      "text/plain": [
       "Unnamed: 0    0\n",
       "ODP           0\n",
       "PDP           0\n",
       "POSITIF       0\n",
       "SEMBUH        0\n",
       "MENINGGAL     0\n",
       "dtype: int64"
      ]
     },
     "execution_count": 24,
     "metadata": {},
     "output_type": "execute_result"
    }
   ],
   "source": [
    "df6.isna().sum()"
   ]
  },
  {
   "cell_type": "code",
   "execution_count": 25,
   "id": "0d3a02f9-ef2c-43d7-ac23-c544d6fa8bbc",
   "metadata": {},
   "outputs": [
    {
     "name": "stdout",
     "output_type": "stream",
     "text": [
      "panjang dataset 14 baris\n"
     ]
    }
   ],
   "source": [
    "print(f'panjang dataset {len(df6)} baris')"
   ]
  },
  {
   "cell_type": "markdown",
   "id": "6f84d9bd-0d3e-447f-acf3-85ecb630ec5d",
   "metadata": {},
   "source": [
    "## DATA SPLIT\n",
    "Train/test split adalah salah satu metode yang dapat digunakan untuk\n",
    "mengevaluasi performa model machine learning. Metode evaluasi model ini\n",
    "membagi dataset menjadi dua bagian yakni bagian yang digunakan untuk training\n",
    "data dan untuk testing data dengan proporsi tertentu."
   ]
  },
  {
   "cell_type": "code",
   "execution_count": 26,
   "id": "2f3dec2b-cee0-47a4-b0ae-ace0c8658f41",
   "metadata": {},
   "outputs": [],
   "source": [
    "data = df[['contacted_with']]\n",
    "label = df['hospital']\n",
    "\n",
    "data_train, data_test, label_train, label_test = train_test_split(data, label, test_size=.3)"
   ]
  },
  {
   "cell_type": "code",
   "execution_count": 27,
   "id": "20166383-df84-41d8-af69-424fe00eec9b",
   "metadata": {},
   "outputs": [
    {
     "name": "stdout",
     "output_type": "stream",
     "text": [
      "panjang data training 625\n",
      "panjang label training 625\n",
      "panjang data testing 268\n",
      "panjang label testing 268\n"
     ]
    }
   ],
   "source": [
    "print(f'panjang data training {len(data_train)}',\n",
    "     f'panjang label training {len(label_train)}',\n",
    "     f'panjang data testing {len(data_test)}',\n",
    "     f'panjang label testing {len(label_test)}',\n",
    "     sep='\\n')"
   ]
  },
  {
   "cell_type": "markdown",
   "id": "7aa77086-8cf2-4d63-9869-4a3d9635c1fe",
   "metadata": {},
   "source": [
    "## DATA TRANSFORMASI\n",
    "Transformasi data adalah merubah skala data kedalam bentuk lain sehingga\n",
    "data memiliki distribusi yang diharapkan.Scaling adalah suatu cara untuk membuat\n",
    "numerical data pada dataset memiliki rentang nilai (scale) yang sama. Tidak ada lagi\n",
    "satu variabel data yang mendominasi variabel data lainnya.Teknik penskalaan yang\n",
    "biasa dipakai yaitu normalisasi dan standardisasi\n",
    "- Normalisasi adalah proses penskalaan data menjadi rentang [0, 1].\n",
    "- Standardisasi adalah proses penskalaan data sehingga memiliki nilai rata-rata 0 dan standar deviasi 1."
   ]
  },
  {
   "cell_type": "code",
   "execution_count": 28,
   "id": "877bde02-24ac-4bb8-bdd3-966b2bf3e567",
   "metadata": {},
   "outputs": [],
   "source": [
    "dataset_normalisasi = df3.copy()\n",
    "dataset_standarirasi = df6.copy()"
   ]
  },
  {
   "cell_type": "markdown",
   "id": "1ac80584-7f94-4aac-b68e-ce04bf63de54",
   "metadata": {},
   "source": [
    "NORMALISASI"
   ]
  },
  {
   "cell_type": "code",
   "execution_count": 29,
   "id": "3ef0009a-3e11-4bc5-873b-9616dd0ae783",
   "metadata": {},
   "outputs": [
    {
     "data": {
      "text/html": [
       "<div>\n",
       "<style scoped>\n",
       "    .dataframe tbody tr th:only-of-type {\n",
       "        vertical-align: middle;\n",
       "    }\n",
       "\n",
       "    .dataframe tbody tr th {\n",
       "        vertical-align: top;\n",
       "    }\n",
       "\n",
       "    .dataframe thead th {\n",
       "        text-align: right;\n",
       "    }\n",
       "</style>\n",
       "<table border=\"1\" class=\"dataframe\">\n",
       "  <thead>\n",
       "    <tr style=\"text-align: right;\">\n",
       "      <th></th>\n",
       "      <th>last-week</th>\n",
       "      <th>peak-rank</th>\n",
       "      <th>weeks-on-board</th>\n",
       "    </tr>\n",
       "  </thead>\n",
       "  <tbody>\n",
       "    <tr>\n",
       "      <th>0</th>\n",
       "      <td>0.000000</td>\n",
       "      <td>0.000000</td>\n",
       "      <td>0.022472</td>\n",
       "    </tr>\n",
       "    <tr>\n",
       "      <th>1</th>\n",
       "      <td>0.010101</td>\n",
       "      <td>0.000000</td>\n",
       "      <td>0.168539</td>\n",
       "    </tr>\n",
       "    <tr>\n",
       "      <th>2</th>\n",
       "      <td>0.020202</td>\n",
       "      <td>0.000000</td>\n",
       "      <td>0.146067</td>\n",
       "    </tr>\n",
       "    <tr>\n",
       "      <th>3</th>\n",
       "      <td>0.030303</td>\n",
       "      <td>0.020202</td>\n",
       "      <td>0.202247</td>\n",
       "    </tr>\n",
       "    <tr>\n",
       "      <th>4</th>\n",
       "      <td>0.040404</td>\n",
       "      <td>0.010101</td>\n",
       "      <td>0.191011</td>\n",
       "    </tr>\n",
       "  </tbody>\n",
       "</table>\n",
       "</div>"
      ],
      "text/plain": [
       "   last-week  peak-rank  weeks-on-board\n",
       "0   0.000000   0.000000        0.022472\n",
       "1   0.010101   0.000000        0.168539\n",
       "2   0.020202   0.000000        0.146067\n",
       "3   0.030303   0.020202        0.202247\n",
       "4   0.040404   0.010101        0.191011"
      ]
     },
     "execution_count": 29,
     "metadata": {},
     "output_type": "execute_result"
    }
   ],
   "source": [
    "scaler = MinMaxScaler()\n",
    "\n",
    "normalize_dataset = scaler.fit_transform(dataset_normalisasi[['last-week', 'peak-rank', 'weeks-on-board']])\n",
    "\n",
    "normalize_dataset = pd.DataFrame(normalize_dataset)\n",
    "normalize_dataset.rename(columns={ 0 :'last-week', 1 : 'peak-rank', 2 : 'weeks-on-board'}, inplace=True)\n",
    "\n",
    "normalize_dataset.head(5)"
   ]
  },
  {
   "cell_type": "markdown",
   "id": "4b22ac7e-576d-423f-9802-bec9d4aa68a9",
   "metadata": {},
   "source": [
    "STANDARISASI"
   ]
  },
  {
   "cell_type": "code",
   "execution_count": 30,
   "id": "6a1c2dae-c46d-47a6-9566-700ab57f9603",
   "metadata": {},
   "outputs": [
    {
     "name": "stdout",
     "output_type": "stream",
     "text": [
      "Dataset sebelum scalling:\n",
      "   ODP  PDP  POSITIF  SEMBUH  MENINGGAL\n",
      "0  204   89       17       0          4\n",
      "1  207   99       17       0          4\n",
      "2  256  119       28       0          4\n",
      "3  262  123       31       0          6\n",
      "4  308  134       34       2          6\n",
      "5  336  139       38       2          6\n",
      "Nilai standar deviasi:\n",
      "ODP          154.028489\n",
      "PDP           51.682903\n",
      "POSITIF       10.369697\n",
      "SEMBUH         2.171241\n",
      "MENINGGAL      4.616408\n",
      "dtype: float64\n",
      "\n",
      "Dataset setelah scalling:\n",
      "[[-1.36523909 -1.53131602 -1.97002591 -0.92113237 -1.25329348]\n",
      " [-1.34576217 -1.33782844 -1.97002591 -0.92113237 -1.25329348]\n",
      " [-1.02763921 -0.95085327 -0.90924273 -0.92113237 -1.25329348]\n",
      " [-0.98868537 -0.87345824 -0.61993822 -0.92113237 -0.82005623]\n",
      " [-0.69003932 -0.66062189 -0.33063372  0.         -0.82005623]\n",
      " [-0.50825477 -0.5638781   0.05510562  0.         -0.82005623]]\n",
      "Nilai standar deviasi: 0.9999999999999999\n"
     ]
    }
   ],
   "source": [
    "dataset_standarirasi.drop('Unnamed: 0', axis=1, inplace=True)   # axis=1 == column | axis=0 == row | inplace=True == do the execution without reassign\n",
    "\n",
    "standart_std = StandardScaler()\n",
    "\n",
    "scaled_data = standart_std.fit_transform(dataset_standarirasi)\n",
    "\n",
    "print('Dataset sebelum scalling:',  # SEBELUM\n",
    "      df6.drop('Unnamed: 0', axis=1).head(6),\n",
    "      f'Nilai standar deviasi:\\n{np.std(df6)}',\n",
    "      sep='\\n', end='\\n\\n')\n",
    "\n",
    "print('Dataset setelah scalling:',  # SESUDAH\n",
    "      scaled_data[:6],\n",
    "      f'Nilai standar deviasi: {np.std(scaled_data)}',\n",
    "      sep='\\n')"
   ]
  },
  {
   "cell_type": "markdown",
   "id": "392ca644-48f7-42de-a337-ac6f22bbf0c0",
   "metadata": {},
   "source": [
    "## DATA CLEANING\n",
    "Data yang kita gunakan bisa jadi sangat berantakan. Ada informasi yang tak\n",
    "lengkap, ada pula format yang berbeda-beda.Semua ini tentu membuat data itu sulit\n",
    "diolah. Pada akhirnya, ia jadi tak bisa dimanfaatkan. Untuk itulah kita harus\n",
    "melakukan data cleaning terlebih dahulu. Data cleaning adalah memperbarui,\n",
    "membetulkan, dan membuat data menjadi lebih rapi. Beberapa model machine\n",
    "learning tidak dapat bekerja dengan data yang masih berantakan. Kesalahan dalam\n",
    "data dapat berupa:\n",
    "- Terdapat nilai data yang tidak valid (Null)\n",
    "- Data dalam format yang salah\n",
    "- Terdapat duplikat"
   ]
  },
  {
   "cell_type": "code",
   "execution_count": 31,
   "id": "769e12be-2e8c-4434-b096-4b235a9b5461",
   "metadata": {},
   "outputs": [],
   "source": [
    "dataset_ns = df3.copy()\n",
    "dataset_ns2 = df2.copy()\n",
    "dataset_ns3 = df.copy()"
   ]
  },
  {
   "cell_type": "code",
   "execution_count": 32,
   "id": "30c48d08-2f81-4b5a-85dd-aba26b96f414",
   "metadata": {},
   "outputs": [],
   "source": [
    "imputer_mean = SimpleImputer(strategy='mean')\n",
    "imputer_median = SimpleImputer(strategy='median')\n",
    "imputer_modus = SimpleImputer(strategy='most_frequent')"
   ]
  },
  {
   "cell_type": "markdown",
   "id": "25cebb4b-7e1a-458e-97a8-bbc18fa9ef90",
   "metadata": {},
   "source": [
    "MODUS"
   ]
  },
  {
   "cell_type": "code",
   "execution_count": 33,
   "id": "7e2f2630-e0ba-4a71-b83c-921e990c18b5",
   "metadata": {},
   "outputs": [
    {
     "data": {
      "text/plain": [
       "date              0\n",
       "rank              0\n",
       "song              0\n",
       "artist            0\n",
       "last-week         0\n",
       "peak-rank         0\n",
       "weeks-on-board    0\n",
       "dtype: int64"
      ]
     },
     "execution_count": 33,
     "metadata": {},
     "output_type": "execute_result"
    }
   ],
   "source": [
    "dataset_ns['last-week'] = imputer_modus.fit_transform(dataset_ns[['last-week']])\n",
    "\n",
    "dataset_ns.isna().sum()"
   ]
  },
  {
   "cell_type": "markdown",
   "id": "a33b5445-74d1-4746-834e-45b6c17d8adc",
   "metadata": {},
   "source": [
    "MEAN"
   ]
  },
  {
   "cell_type": "code",
   "execution_count": 34,
   "id": "0c79b474-2788-4e7e-8677-5f36d2100d76",
   "metadata": {},
   "outputs": [
    {
     "data": {
      "text/plain": [
       "date                  0\n",
       "new_tested            0\n",
       "acc_tested            0\n",
       "new_confirmed         0\n",
       "acc_confirmed         0\n",
       "acc_negative          0\n",
       "being_checked         0\n",
       "isolated              0\n",
       "new_released          0\n",
       "acc_released          0\n",
       "new_deceased          0\n",
       "acc_deceased          0\n",
       "positive_rate         0\n",
       "negative_rate         0\n",
       "decease_rate          0\n",
       "release_rate          0\n",
       "dailypositive_rate    0\n",
       "dtype: int64"
      ]
     },
     "execution_count": 34,
     "metadata": {},
     "output_type": "execute_result"
    }
   ],
   "source": [
    "dataset_ns2['new_tested'] = imputer_mean.fit_transform(dataset_ns2[['new_tested']])\n",
    "\n",
    "dataset_ns2.isna().sum()"
   ]
  },
  {
   "cell_type": "markdown",
   "id": "d7d86bc0-5875-404f-9095-5407e96105de",
   "metadata": {},
   "source": [
    "Menghapus record/feature"
   ]
  },
  {
   "cell_type": "code",
   "execution_count": 35,
   "id": "c26b9a3b-ef2c-4043-950e-cc91f105b902",
   "metadata": {},
   "outputs": [
    {
     "data": {
      "text/plain": [
       "patient_id        0.0\n",
       "gender            0.0\n",
       "age               0.0\n",
       "nationality       0.0\n",
       "province          0.0\n",
       "current_state     0.0\n",
       "contacted_with    0.0\n",
       "confirmed_date    0.0\n",
       "released_date     0.0\n",
       "deceased_date     0.0\n",
       "hospital          0.0\n",
       "dtype: float64"
      ]
     },
     "execution_count": 35,
     "metadata": {},
     "output_type": "execute_result"
    }
   ],
   "source": [
    "dataset_ns3.dropna(inplace=True)\n",
    "\n",
    "dataset_ns3.isna().sum()"
   ]
  },
  {
   "cell_type": "code",
   "execution_count": 36,
   "id": "5e09e02c-3e03-4038-aea8-cbf5071ef157",
   "metadata": {},
   "outputs": [
    {
     "data": {
      "text/plain": [
       "330087"
      ]
     },
     "execution_count": 36,
     "metadata": {},
     "output_type": "execute_result"
    }
   ],
   "source": [
    "len(dataset_ns)"
   ]
  },
  {
   "cell_type": "markdown",
   "id": "7570e50f-33c7-4089-8f6a-722badee17c3",
   "metadata": {},
   "source": [
    "DATA DUPLIKAT"
   ]
  },
  {
   "cell_type": "code",
   "execution_count": 37,
   "id": "4867ac87-8539-4fe3-8e38-c5c0d7cda41e",
   "metadata": {},
   "outputs": [
    {
     "data": {
      "text/plain": [
       "59"
      ]
     },
     "execution_count": 37,
     "metadata": {},
     "output_type": "execute_result"
    }
   ],
   "source": [
    "dataset_duplicate = df4.copy()\n",
    "\n",
    "dataset_duplicate.duplicated().sum()"
   ]
  },
  {
   "cell_type": "code",
   "execution_count": 38,
   "id": "e15d605c-6114-48fd-b080-baa2118d8ee1",
   "metadata": {},
   "outputs": [
    {
     "data": {
      "text/plain": [
       "0"
      ]
     },
     "execution_count": 38,
     "metadata": {},
     "output_type": "execute_result"
    }
   ],
   "source": [
    "dataset_duplicate.drop_duplicates(inplace=True)\n",
    "\n",
    "dataset_duplicate.duplicated().sum()"
   ]
  },
  {
   "cell_type": "markdown",
   "id": "a49502ec-3767-4760-ba20-a40c91213bfb",
   "metadata": {},
   "source": [
    "## ENCODING\n",
    "Encoding adalah salah tahap pre-processing ketika kita menghadapi data\n",
    "yang bersifat kategorikal. Encoding adalah teknik yang mengubah variabel\n",
    "kategorikal menjadi variabel numerik, model dalam machine learning membutuhkan\n",
    "input yang bertipe numerik sehingga sangat penting bagi kita untuk melakukan\n",
    "encoding jika terdapat variabel yang bertipe kategorikal didalam data kita. Teknik\n",
    "encoding yang paling terkenal adalah Ordinal Encoding dan One-Hot Encoding"
   ]
  },
  {
   "cell_type": "code",
   "execution_count": 39,
   "id": "39e94886-2cc9-497c-a65f-a818e81054b7",
   "metadata": {},
   "outputs": [],
   "source": [
    "dataset_ordinal = df5.copy()\n",
    "dataset_one_hot = df5.copy()"
   ]
  },
  {
   "cell_type": "code",
   "execution_count": 40,
   "id": "fe97a89a-dc1e-497b-b6be-dd99bbdce211",
   "metadata": {},
   "outputs": [
    {
     "data": {
      "text/plain": [
       "array(['F', 'M'], dtype=object)"
      ]
     },
     "execution_count": 40,
     "metadata": {},
     "output_type": "execute_result"
    }
   ],
   "source": [
    "df5['Gender'].unique()"
   ]
  },
  {
   "cell_type": "markdown",
   "id": "a903f944-4c4e-46f7-b4ff-3632e041e62c",
   "metadata": {},
   "source": [
    "ORDINAL"
   ]
  },
  {
   "cell_type": "code",
   "execution_count": 41,
   "id": "f6e724ff-d0ca-4e09-a636-245ce825a42a",
   "metadata": {},
   "outputs": [
    {
     "data": {
      "text/html": [
       "<div>\n",
       "<style scoped>\n",
       "    .dataframe tbody tr th:only-of-type {\n",
       "        vertical-align: middle;\n",
       "    }\n",
       "\n",
       "    .dataframe tbody tr th {\n",
       "        vertical-align: top;\n",
       "    }\n",
       "\n",
       "    .dataframe thead th {\n",
       "        text-align: right;\n",
       "    }\n",
       "</style>\n",
       "<table border=\"1\" class=\"dataframe\">\n",
       "  <thead>\n",
       "    <tr style=\"text-align: right;\">\n",
       "      <th></th>\n",
       "      <th>Favorite Color</th>\n",
       "      <th>Favorite Music Genre</th>\n",
       "      <th>Favorite Beverage</th>\n",
       "      <th>Favorite Soft Drink</th>\n",
       "      <th>Gender</th>\n",
       "    </tr>\n",
       "  </thead>\n",
       "  <tbody>\n",
       "    <tr>\n",
       "      <th>0</th>\n",
       "      <td>Cool</td>\n",
       "      <td>Rock</td>\n",
       "      <td>Vodka</td>\n",
       "      <td>7UP/Sprite</td>\n",
       "      <td>0</td>\n",
       "    </tr>\n",
       "    <tr>\n",
       "      <th>1</th>\n",
       "      <td>Neutral</td>\n",
       "      <td>Hip hop</td>\n",
       "      <td>Vodka</td>\n",
       "      <td>Coca Cola/Pepsi</td>\n",
       "      <td>0</td>\n",
       "    </tr>\n",
       "    <tr>\n",
       "      <th>2</th>\n",
       "      <td>Warm</td>\n",
       "      <td>Rock</td>\n",
       "      <td>Wine</td>\n",
       "      <td>Coca Cola/Pepsi</td>\n",
       "      <td>0</td>\n",
       "    </tr>\n",
       "    <tr>\n",
       "      <th>3</th>\n",
       "      <td>Warm</td>\n",
       "      <td>Folk/Traditional</td>\n",
       "      <td>Whiskey</td>\n",
       "      <td>Fanta</td>\n",
       "      <td>0</td>\n",
       "    </tr>\n",
       "    <tr>\n",
       "      <th>4</th>\n",
       "      <td>Cool</td>\n",
       "      <td>Rock</td>\n",
       "      <td>Vodka</td>\n",
       "      <td>Coca Cola/Pepsi</td>\n",
       "      <td>0</td>\n",
       "    </tr>\n",
       "  </tbody>\n",
       "</table>\n",
       "</div>"
      ],
      "text/plain": [
       "  Favorite Color Favorite Music Genre Favorite Beverage Favorite Soft Drink  \\\n",
       "0           Cool                 Rock             Vodka          7UP/Sprite   \n",
       "1        Neutral              Hip hop             Vodka     Coca Cola/Pepsi   \n",
       "2           Warm                 Rock              Wine     Coca Cola/Pepsi   \n",
       "3           Warm     Folk/Traditional           Whiskey               Fanta   \n",
       "4           Cool                 Rock             Vodka     Coca Cola/Pepsi   \n",
       "\n",
       "   Gender  \n",
       "0       0  \n",
       "1       0  \n",
       "2       0  \n",
       "3       0  \n",
       "4       0  "
      ]
     },
     "execution_count": 41,
     "metadata": {},
     "output_type": "execute_result"
    }
   ],
   "source": [
    "encoder_ordinal =OrdinalEncoder()\n",
    "\n",
    "#encoding kan\n",
    "dataset_ordinal['Gender'] = encoder_ordinal.fit_transform(dataset_ordinal[['Gender']]).astype('int64')\n",
    "\n",
    "#lihat\n",
    "dataset_ordinal.head()"
   ]
  },
  {
   "cell_type": "code",
   "execution_count": 42,
   "id": "17f6b293-6346-41b9-bc9a-94b9f6b2b7bb",
   "metadata": {},
   "outputs": [
    {
     "data": {
      "text/plain": [
       "array([0, 1], dtype=int64)"
      ]
     },
     "execution_count": 42,
     "metadata": {},
     "output_type": "execute_result"
    }
   ],
   "source": [
    "dataset_ordinal['Gender'].unique()"
   ]
  },
  {
   "cell_type": "markdown",
   "id": "39530c68-2671-423f-aeaf-b1b48dff6802",
   "metadata": {},
   "source": [
    "ONE-HOT"
   ]
  },
  {
   "cell_type": "code",
   "execution_count": 43,
   "id": "d31035dc-c78b-47d0-9d27-ee51f3f66865",
   "metadata": {},
   "outputs": [
    {
     "data": {
      "text/html": [
       "<div>\n",
       "<style scoped>\n",
       "    .dataframe tbody tr th:only-of-type {\n",
       "        vertical-align: middle;\n",
       "    }\n",
       "\n",
       "    .dataframe tbody tr th {\n",
       "        vertical-align: top;\n",
       "    }\n",
       "\n",
       "    .dataframe thead th {\n",
       "        text-align: right;\n",
       "    }\n",
       "</style>\n",
       "<table border=\"1\" class=\"dataframe\">\n",
       "  <thead>\n",
       "    <tr style=\"text-align: right;\">\n",
       "      <th></th>\n",
       "      <th>Favorite Color</th>\n",
       "      <th>Favorite Music Genre</th>\n",
       "      <th>Favorite Beverage</th>\n",
       "      <th>Favorite Soft Drink</th>\n",
       "      <th>Gender_F</th>\n",
       "      <th>Gender_M</th>\n",
       "    </tr>\n",
       "  </thead>\n",
       "  <tbody>\n",
       "    <tr>\n",
       "      <th>0</th>\n",
       "      <td>Cool</td>\n",
       "      <td>Rock</td>\n",
       "      <td>Vodka</td>\n",
       "      <td>7UP/Sprite</td>\n",
       "      <td>1</td>\n",
       "      <td>0</td>\n",
       "    </tr>\n",
       "    <tr>\n",
       "      <th>1</th>\n",
       "      <td>Neutral</td>\n",
       "      <td>Hip hop</td>\n",
       "      <td>Vodka</td>\n",
       "      <td>Coca Cola/Pepsi</td>\n",
       "      <td>1</td>\n",
       "      <td>0</td>\n",
       "    </tr>\n",
       "    <tr>\n",
       "      <th>2</th>\n",
       "      <td>Warm</td>\n",
       "      <td>Rock</td>\n",
       "      <td>Wine</td>\n",
       "      <td>Coca Cola/Pepsi</td>\n",
       "      <td>1</td>\n",
       "      <td>0</td>\n",
       "    </tr>\n",
       "    <tr>\n",
       "      <th>3</th>\n",
       "      <td>Warm</td>\n",
       "      <td>Folk/Traditional</td>\n",
       "      <td>Whiskey</td>\n",
       "      <td>Fanta</td>\n",
       "      <td>1</td>\n",
       "      <td>0</td>\n",
       "    </tr>\n",
       "    <tr>\n",
       "      <th>4</th>\n",
       "      <td>Cool</td>\n",
       "      <td>Rock</td>\n",
       "      <td>Vodka</td>\n",
       "      <td>Coca Cola/Pepsi</td>\n",
       "      <td>1</td>\n",
       "      <td>0</td>\n",
       "    </tr>\n",
       "  </tbody>\n",
       "</table>\n",
       "</div>"
      ],
      "text/plain": [
       "  Favorite Color Favorite Music Genre Favorite Beverage Favorite Soft Drink  \\\n",
       "0           Cool                 Rock             Vodka          7UP/Sprite   \n",
       "1        Neutral              Hip hop             Vodka     Coca Cola/Pepsi   \n",
       "2           Warm                 Rock              Wine     Coca Cola/Pepsi   \n",
       "3           Warm     Folk/Traditional           Whiskey               Fanta   \n",
       "4           Cool                 Rock             Vodka     Coca Cola/Pepsi   \n",
       "\n",
       "   Gender_F  Gender_M  \n",
       "0         1         0  \n",
       "1         1         0  \n",
       "2         1         0  \n",
       "3         1         0  \n",
       "4         1         0  "
      ]
     },
     "execution_count": 43,
     "metadata": {},
     "output_type": "execute_result"
    }
   ],
   "source": [
    "temp_dataset = pd.get_dummies(dataset_one_hot[['Gender']])\n",
    "\n",
    "temp_dataset = pd.DataFrame(temp_dataset)\n",
    "\n",
    "dataset_one_hot.drop('Gender', axis=1, inplace=True)\n",
    "\n",
    "dataset_one_hot = dataset_one_hot.join(temp_dataset)\n",
    "dataset_one_hot.head(5)"
   ]
  }
 ],
 "metadata": {
  "kernelspec": {
   "display_name": "Python 3 (ipykernel)",
   "language": "python",
   "name": "python3"
  },
  "language_info": {
   "codemirror_mode": {
    "name": "ipython",
    "version": 3
   },
   "file_extension": ".py",
   "mimetype": "text/x-python",
   "name": "python",
   "nbconvert_exporter": "python",
   "pygments_lexer": "ipython3",
   "version": "3.10.7"
  }
 },
 "nbformat": 4,
 "nbformat_minor": 5
}
