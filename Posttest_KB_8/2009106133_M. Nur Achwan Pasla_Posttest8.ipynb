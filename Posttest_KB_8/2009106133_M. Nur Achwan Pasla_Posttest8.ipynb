{
 "cells": [
  {
   "cell_type": "markdown",
   "id": "39d284eb-6b66-4c86-bf55-aa35506d4da2",
   "metadata": {},
   "source": [
    "## POSTTEST 8(DEEP LEARNING)"
   ]
  },
  {
   "cell_type": "markdown",
   "id": "8b3c3bbd-da4d-4785-b5d1-ad7c2dea93f9",
   "metadata": {},
   "source": [
    "## IMPORT PACKAGE\n",
    "- Scikit-Learn(Sklearn)\n",
    "- Tensorflow\n",
    "- Matplotlib\n",
    "- Numpy"
   ]
  },
  {
   "cell_type": "code",
   "execution_count": 1,
   "id": "92aa06fb-65a8-4249-a691-d59ab29cfe01",
   "metadata": {},
   "outputs": [],
   "source": [
    "import os\n",
    "import numpy as np\n",
    "import tensorflow as tf\n",
    "import matplotlib.pyplot as plt\n",
    "\n",
    "from tensorflow import keras\n",
    "from tensorflow.keras import layers,optimizers,datasets\n",
    "from tensorflow.keras import Sequential\n",
    "from tensorflow.keras.layers import Dense\n",
    "\n",
    "import warnings\n",
    "warnings.filterwarnings('ignore')"
   ]
  },
  {
   "cell_type": "markdown",
   "id": "ea366f59-dfad-4d1b-8410-3a101af3d013",
   "metadata": {},
   "source": [
    "## 1. REGRESSION-DNN"
   ]
  },
  {
   "cell_type": "markdown",
   "id": "7580b9ce-d1b9-4220-9b20-a7a81020fcc8",
   "metadata": {
    "tags": []
   },
   "source": [
    "## Buat Data"
   ]
  },
  {
   "cell_type": "code",
   "execution_count": 2,
   "id": "9d79d80c-6c67-4220-8282-8cad3d7acda1",
   "metadata": {},
   "outputs": [],
   "source": [
    "x = np.array([1,2,3,4,5,6],dtype = float)\n",
    "y = np.array([2,3,4,8,10,12],dtype= float)"
   ]
  },
  {
   "cell_type": "code",
   "execution_count": 3,
   "id": "380e07a0-47a0-4980-b02b-9158866ee967",
   "metadata": {},
   "outputs": [
    {
     "data": {
      "image/png": "[encoded data removed]",
      "text/plain": [
       "<Figure size 640x480 with 1 Axes>"
      ]
     },
     "metadata": {},
     "output_type": "display_data"
    }
   ],
   "source": [
    "plt.style.use('Solarize_Light2')\n",
    "\n",
    "plt.scatter(x, y)\n",
    "plt.show()"
   ]
  },
  {
   "cell_type": "markdown",
   "id": "41c921f2-37fe-4f63-ae1f-88574e791dbf",
   "metadata": {},
   "source": [
    "## Buat Sequential Model"
   ]
  },
  {
   "cell_type": "code",
   "execution_count": 4,
   "id": "3b17e08d-524f-4389-b2ac-0a1a9db0ec8d",
   "metadata": {},
   "outputs": [],
   "source": [
    "model = tf.keras.Sequential([\n",
    "    tf.keras.layers.Dense(units=1, input_shape=[1])\n",
    "])"
   ]
  },
  {
   "cell_type": "markdown",
   "id": "3fd74f45-0b02-4052-afb3-1abf9e3c64cd",
   "metadata": {},
   "source": [
    "## Modeling Steps"
   ]
  },
  {
   "cell_type": "markdown",
   "id": "742cea31-9411-4681-a0b2-944038cabb95",
   "metadata": {},
   "source": [
    "## a. Bangun arsitekturnya"
   ]
  },
  {
   "cell_type": "code",
   "execution_count": 5,
   "id": "7c4f3e57-ab18-4af8-9983-f06dfe5aade0",
   "metadata": {},
   "outputs": [],
   "source": [
    "model = tf.keras.Sequential([tf.keras.layers.Dense(1, input_shape=[1])])"
   ]
  },
  {
   "cell_type": "markdown",
   "id": "24c35788-7ebe-4be4-85d7-fe2c55a39aff",
   "metadata": {},
   "source": [
    "## b. Konfigurasi model"
   ]
  },
  {
   "cell_type": "code",
   "execution_count": 6,
   "id": "f3cba8fb-4a3b-443d-a6ee-2c54b0200aac",
   "metadata": {},
   "outputs": [],
   "source": [
    "model.compile(optimizer='adam', loss='mae')"
   ]
  },
  {
   "cell_type": "markdown",
   "id": "1a5fa214-830f-4115-bbb0-b739b1919ce3",
   "metadata": {},
   "source": [
    "## c. Pelatihan model"
   ]
  },
  {
   "cell_type": "code",
   "execution_count": 7,
   "id": "562002f1-4bdc-458b-a867-e6f916ddf243",
   "metadata": {},
   "outputs": [
    {
     "name": "stdout",
     "output_type": "stream",
     "text": [
      "Epoch 1/500\n",
      "10/10 [==============================] - 0s 2ms/step - loss: 5.6422\n",
      "Epoch 2/500\n",
      "10/10 [==============================] - 0s 887us/step - loss: 4.5554\n",
      "Epoch 3/500\n",
      "10/10 [==============================] - 0s 997us/step - loss: 4.7181\n",
      "Epoch 4/500\n",
      "10/10 [==============================] - 0s 998us/step - loss: 4.6791\n",
      "Epoch 5/500\n",
      "10/10 [==============================] - 0s 887us/step - loss: 5.4639\n",
      "Epoch 6/500\n",
      "10/10 [==============================] - 0s 1ms/step - loss: 4.3997\n",
      "Epoch 7/500\n",
      "10/10 [==============================] - 0s 1ms/step - loss: 4.2093\n",
      "Epoch 8/500\n",
      "10/10 [==============================] - 0s 997us/step - loss: 5.3791\n",
      "Epoch 9/500\n",
      "10/10 [==============================] - 0s 998us/step - loss: 4.5816\n",
      "Epoch 10/500\n",
      "10/10 [==============================] - 0s 1ms/step - loss: 4.8393\n",
      "Epoch 11/500\n",
      "10/10 [==============================] - 0s 1ms/step - loss: 4.2531\n",
      "Epoch 12/500\n",
      "10/10 [==============================] - 0s 887us/step - loss: 4.7046\n",
      "Epoch 13/500\n",
      "10/10 [==============================] - 0s 887us/step - loss: 5.0101\n",
      "Epoch 14/500\n",
      "10/10 [==============================] - 0s 997us/step - loss: 3.9367\n",
      "Epoch 15/500\n",
      "10/10 [==============================] - 0s 1ms/step - loss: 4.4777\n",
      "Epoch 16/500\n",
      "10/10 [==============================] - 0s 887us/step - loss: 4.4361\n",
      "Epoch 17/500\n",
      "10/10 [==============================] - 0s 1ms/step - loss: 3.7343\n",
      "Epoch 18/500\n",
      "10/10 [==============================] - 0s 998us/step - loss: 4.8814\n",
      "Epoch 19/500\n",
      "10/10 [==============================] - 0s 887us/step - loss: 4.2264\n",
      "Epoch 20/500\n",
      "10/10 [==============================] - 0s 887us/step - loss: 3.7462\n",
      "Epoch 21/500\n",
      "10/10 [==============================] - 0s 890us/step - loss: 4.7055\n",
      "Epoch 22/500\n",
      "10/10 [==============================] - 0s 1ms/step - loss: 3.9657\n",
      "Epoch 23/500\n",
      "10/10 [==============================] - 0s 776us/step - loss: 3.7291\n",
      "Epoch 24/500\n",
      "10/10 [==============================] - 0s 776us/step - loss: 4.6093\n",
      "Epoch 25/500\n",
      "10/10 [==============================] - 0s 887us/step - loss: 3.5117\n",
      "Epoch 26/500\n",
      "10/10 [==============================] - 0s 997us/step - loss: 4.3837\n",
      "Epoch 27/500\n",
      "10/10 [==============================] - 0s 1ms/step - loss: 4.0360\n",
      "Epoch 28/500\n",
      "10/10 [==============================] - 0s 887us/step - loss: 3.7289\n",
      "Epoch 29/500\n",
      "10/10 [==============================] - 0s 1ms/step - loss: 4.1181\n",
      "Epoch 30/500\n",
      "10/10 [==============================] - 0s 997us/step - loss: 3.7113\n",
      "Epoch 31/500\n",
      "10/10 [==============================] - 0s 887us/step - loss: 4.2919\n",
      "Epoch 32/500\n",
      "10/10 [==============================] - 0s 1ms/step - loss: 3.5666\n",
      "Epoch 33/500\n",
      "10/10 [==============================] - 0s 1ms/step - loss: 3.3283\n",
      "Epoch 34/500\n",
      "10/10 [==============================] - 0s 776us/step - loss: 4.1280\n",
      "Epoch 35/500\n",
      "10/10 [==============================] - 0s 998us/step - loss: 3.2210\n",
      "Epoch 36/500\n",
      "10/10 [==============================] - 0s 998us/step - loss: 3.4623\n",
      "Epoch 37/500\n",
      "10/10 [==============================] - 0s 887us/step - loss: 3.4213\n",
      "Epoch 38/500\n",
      "10/10 [==============================] - 0s 887us/step - loss: 3.5556\n",
      "Epoch 39/500\n",
      "10/10 [==============================] - 0s 1ms/step - loss: 3.4619\n",
      "Epoch 40/500\n",
      "10/10 [==============================] - 0s 886us/step - loss: 3.4971\n",
      "Epoch 41/500\n",
      "10/10 [==============================] - 0s 776us/step - loss: 2.7708\n",
      "Epoch 42/500\n",
      "10/10 [==============================] - 0s 997us/step - loss: 3.7978\n",
      "Epoch 43/500\n",
      "10/10 [==============================] - 0s 1ms/step - loss: 3.2530\n",
      "Epoch 44/500\n",
      "10/10 [==============================] - 0s 997us/step - loss: 3.1322\n",
      "Epoch 45/500\n",
      "10/10 [==============================] - 0s 997us/step - loss: 3.3079\n",
      "Epoch 46/500\n",
      "10/10 [==============================] - 0s 885us/step - loss: 3.1482\n",
      "Epoch 47/500\n",
      "10/10 [==============================] - 0s 998us/step - loss: 3.0910\n",
      "Epoch 48/500\n",
      "10/10 [==============================] - 0s 887us/step - loss: 3.0810\n",
      "Epoch 49/500\n",
      "10/10 [==============================] - 0s 776us/step - loss: 2.9098\n",
      "Epoch 50/500\n",
      "10/10 [==============================] - 0s 997us/step - loss: 3.5360\n",
      "Epoch 51/500\n",
      "10/10 [==============================] - 0s 887us/step - loss: 2.5008\n",
      "Epoch 52/500\n",
      "10/10 [==============================] - 0s 1ms/step - loss: 2.5751\n",
      "Epoch 53/500\n",
      "10/10 [==============================] - 0s 887us/step - loss: 3.1712\n",
      "Epoch 54/500\n",
      "10/10 [==============================] - 0s 776us/step - loss: 2.8268\n",
      "Epoch 55/500\n",
      "10/10 [==============================] - 0s 887us/step - loss: 2.6751\n",
      "Epoch 56/500\n",
      "10/10 [==============================] - 0s 998us/step - loss: 2.9414\n",
      "Epoch 57/500\n",
      "10/10 [==============================] - 0s 776us/step - loss: 2.5849\n",
      "Epoch 58/500\n",
      "10/10 [==============================] - 0s 1ms/step - loss: 2.5437\n",
      "Epoch 59/500\n",
      "10/10 [==============================] - 0s 887us/step - loss: 2.7099\n",
      "Epoch 60/500\n",
      "10/10 [==============================] - 0s 1ms/step - loss: 2.5729\n",
      "Epoch 61/500\n",
      "10/10 [==============================] - 0s 997us/step - loss: 2.6328\n",
      "Epoch 62/500\n",
      "10/10 [==============================] - 0s 1ms/step - loss: 2.2753\n",
      "Epoch 63/500\n",
      "10/10 [==============================] - 0s 887us/step - loss: 2.5460\n",
      "Epoch 64/500\n",
      "10/10 [==============================] - 0s 997us/step - loss: 1.9993\n",
      "Epoch 65/500\n",
      "10/10 [==============================] - 0s 886us/step - loss: 3.1615\n",
      "Epoch 66/500\n",
      "10/10 [==============================] - 0s 998us/step - loss: 1.9214\n",
      "Epoch 67/500\n",
      "10/10 [==============================] - 0s 887us/step - loss: 2.2754\n",
      "Epoch 68/500\n",
      "10/10 [==============================] - 0s 997us/step - loss: 2.2381\n",
      "Epoch 69/500\n",
      "10/10 [==============================] - 0s 887us/step - loss: 2.1936\n",
      "Epoch 70/500\n",
      "10/10 [==============================] - 0s 1ms/step - loss: 2.2485\n",
      "Epoch 71/500\n",
      "10/10 [==============================] - 0s 887us/step - loss: 2.1057\n",
      "Epoch 72/500\n",
      "10/10 [==============================] - 0s 997us/step - loss: 1.9809\n",
      "Epoch 73/500\n",
      "10/10 [==============================] - 0s 887us/step - loss: 1.7437\n",
      "Epoch 74/500\n",
      "10/10 [==============================] - 0s 776us/step - loss: 2.6476\n",
      "Epoch 75/500\n",
      "10/10 [==============================] - 0s 887us/step - loss: 1.5762\n",
      "Epoch 76/500\n",
      "10/10 [==============================] - 0s 998us/step - loss: 2.0215\n",
      "Epoch 77/500\n",
      "10/10 [==============================] - 0s 776us/step - loss: 1.4454\n",
      "Epoch 78/500\n",
      "10/10 [==============================] - 0s 887us/step - loss: 2.2529\n",
      "Epoch 79/500\n",
      "10/10 [==============================] - 0s 887us/step - loss: 1.7745\n",
      "Epoch 80/500\n",
      "10/10 [==============================] - 0s 887us/step - loss: 2.2097\n",
      "Epoch 81/500\n",
      "10/10 [==============================] - 0s 1ms/step - loss: 1.5790\n",
      "Epoch 82/500\n",
      "10/10 [==============================] - 0s 887us/step - loss: 1.7483\n",
      "Epoch 83/500\n",
      "10/10 [==============================] - 0s 998us/step - loss: 1.5696\n",
      "Epoch 84/500\n",
      "10/10 [==============================] - 0s 887us/step - loss: 2.1508\n",
      "Epoch 85/500\n",
      "10/10 [==============================] - 0s 887us/step - loss: 1.8093\n",
      "Epoch 86/500\n",
      "10/10 [==============================] - 0s 998us/step - loss: 1.6989\n",
      "Epoch 87/500\n",
      "10/10 [==============================] - 0s 887us/step - loss: 1.8721\n",
      "Epoch 88/500\n",
      "10/10 [==============================] - 0s 887us/step - loss: 1.6921\n",
      "Epoch 89/500\n",
      "10/10 [==============================] - 0s 1ms/step - loss: 1.7483\n",
      "Epoch 90/500\n",
      "10/10 [==============================] - 0s 887us/step - loss: 1.8513\n",
      "Epoch 91/500\n",
      "10/10 [==============================] - 0s 1ms/step - loss: 1.6786\n",
      "Epoch 92/500\n",
      "10/10 [==============================] - 0s 890us/step - loss: 1.4720\n",
      "Epoch 93/500\n",
      "10/10 [==============================] - 0s 886us/step - loss: 2.0547\n",
      "Epoch 94/500\n",
      "10/10 [==============================] - 0s 887us/step - loss: 2.0419\n",
      "Epoch 95/500\n",
      "10/10 [==============================] - 0s 776us/step - loss: 1.2923\n",
      "Epoch 96/500\n",
      "10/10 [==============================] - 0s 842us/step - loss: 1.8100\n",
      "Epoch 97/500\n",
      "10/10 [==============================] - 0s 1ms/step - loss: 2.0172\n",
      "Epoch 98/500\n",
      "10/10 [==============================] - 0s 887us/step - loss: 1.2819\n",
      "Epoch 99/500\n",
      "10/10 [==============================] - 0s 1ms/step - loss: 1.7902\n",
      "Epoch 100/500\n",
      "10/10 [==============================] - 0s 997us/step - loss: 1.9724\n",
      "Epoch 101/500\n",
      "10/10 [==============================] - 0s 887us/step - loss: 1.3357\n",
      "Epoch 102/500\n",
      "10/10 [==============================] - 0s 887us/step - loss: 1.7301\n",
      "Epoch 103/500\n",
      "10/10 [==============================] - 0s 1ms/step - loss: 1.9473\n",
      "Epoch 104/500\n",
      "10/10 [==============================] - 0s 886us/step - loss: 1.4383\n",
      "Epoch 105/500\n",
      "10/10 [==============================] - 0s 776us/step - loss: 1.6012\n",
      "Epoch 106/500\n",
      "10/10 [==============================] - 0s 997us/step - loss: 1.3031\n",
      "Epoch 107/500\n",
      "10/10 [==============================] - 0s 776us/step - loss: 2.0440\n",
      "Epoch 108/500\n",
      "10/10 [==============================] - 0s 997us/step - loss: 1.5875\n",
      "Epoch 109/500\n",
      "10/10 [==============================] - 0s 887us/step - loss: 1.4456\n",
      "Epoch 110/500\n",
      "10/10 [==============================] - 0s 887us/step - loss: 1.8141\n",
      "Epoch 111/500\n",
      "10/10 [==============================] - 0s 1ms/step - loss: 1.6222\n",
      "Epoch 112/500\n",
      "10/10 [==============================] - 0s 887us/step - loss: 1.6895\n",
      "Epoch 113/500\n",
      "10/10 [==============================] - 0s 998us/step - loss: 1.5354\n",
      "Epoch 114/500\n",
      "10/10 [==============================] - 0s 776us/step - loss: 1.6053\n",
      "Epoch 115/500\n",
      "10/10 [==============================] - 0s 776us/step - loss: 1.6247\n",
      "Epoch 116/500\n",
      "10/10 [==============================] - 0s 998us/step - loss: 1.5660\n",
      "Epoch 117/500\n",
      "10/10 [==============================] - 0s 887us/step - loss: 1.5867\n",
      "Epoch 118/500\n",
      "10/10 [==============================] - 0s 887us/step - loss: 1.6535\n",
      "Epoch 119/500\n",
      "10/10 [==============================] - 0s 776us/step - loss: 1.4604\n",
      "Epoch 120/500\n",
      "10/10 [==============================] - 0s 866us/step - loss: 1.6119\n",
      "Epoch 121/500\n",
      "10/10 [==============================] - 0s 998us/step - loss: 1.4639\n",
      "Epoch 122/500\n",
      "10/10 [==============================] - 0s 887us/step - loss: 1.5590\n",
      "Epoch 123/500\n",
      "10/10 [==============================] - 0s 887us/step - loss: 1.6520\n",
      "Epoch 124/500\n",
      "10/10 [==============================] - 0s 887us/step - loss: 1.7991\n",
      "Epoch 125/500\n",
      "10/10 [==============================] - 0s 887us/step - loss: 1.2191\n",
      "Epoch 126/500\n",
      "10/10 [==============================] - 0s 1ms/step - loss: 1.6037\n",
      "Epoch 127/500\n",
      "10/10 [==============================] - 0s 887us/step - loss: 1.7437\n",
      "Epoch 128/500\n",
      "10/10 [==============================] - 0s 1ms/step - loss: 1.5208\n",
      "Epoch 129/500\n",
      "10/10 [==============================] - 0s 789us/step - loss: 1.3068\n",
      "Epoch 130/500\n",
      "10/10 [==============================] - 0s 1ms/step - loss: 1.6116\n",
      "Epoch 131/500\n",
      "10/10 [==============================] - 0s 887us/step - loss: 1.6757\n",
      "Epoch 132/500\n",
      "10/10 [==============================] - 0s 776us/step - loss: 1.2303\n",
      "Epoch 133/500\n",
      "10/10 [==============================] - 0s 887us/step - loss: 1.2977\n",
      "Epoch 134/500\n",
      "10/10 [==============================] - 0s 998us/step - loss: 1.6569\n",
      "Epoch 135/500\n",
      "10/10 [==============================] - 0s 887us/step - loss: 1.5135\n",
      "Epoch 136/500\n",
      "10/10 [==============================] - 0s 776us/step - loss: 1.4773\n",
      "Epoch 137/500\n",
      "10/10 [==============================] - 0s 886us/step - loss: 1.4715\n",
      "Epoch 138/500\n",
      "10/10 [==============================] - 0s 887us/step - loss: 1.4659\n",
      "Epoch 139/500\n",
      "10/10 [==============================] - 0s 776us/step - loss: 1.4233\n",
      "Epoch 140/500\n",
      "10/10 [==============================] - 0s 887us/step - loss: 1.4631\n",
      "Epoch 141/500\n",
      "10/10 [==============================] - 0s 998us/step - loss: 1.4756\n",
      "Epoch 142/500\n",
      "10/10 [==============================] - 0s 1ms/step - loss: 1.6157\n",
      "Epoch 143/500\n",
      "10/10 [==============================] - 0s 887us/step - loss: 1.3716\n",
      "Epoch 144/500\n",
      "10/10 [==============================] - 0s 998us/step - loss: 1.3231\n",
      "Epoch 145/500\n",
      "10/10 [==============================] - 0s 776us/step - loss: 1.4245\n",
      "Epoch 146/500\n",
      "10/10 [==============================] - 0s 997us/step - loss: 1.3972\n",
      "Epoch 147/500\n",
      "10/10 [==============================] - 0s 997us/step - loss: 1.4356\n",
      "Epoch 148/500\n",
      "10/10 [==============================] - 0s 887us/step - loss: 1.1901\n",
      "Epoch 149/500\n",
      "10/10 [==============================] - 0s 997us/step - loss: 1.7745\n",
      "Epoch 150/500\n",
      "10/10 [==============================] - 0s 886us/step - loss: 1.2415\n",
      "Epoch 151/500\n",
      "10/10 [==============================] - 0s 887us/step - loss: 1.3715\n",
      "Epoch 152/500\n",
      "10/10 [==============================] - 0s 887us/step - loss: 1.4033\n",
      "Epoch 153/500\n",
      "10/10 [==============================] - 0s 997us/step - loss: 1.3791\n",
      "Epoch 154/500\n",
      "10/10 [==============================] - 0s 776us/step - loss: 1.4150\n",
      "Epoch 155/500\n",
      "10/10 [==============================] - 0s 776us/step - loss: 1.4646\n",
      "Epoch 156/500\n",
      "10/10 [==============================] - 0s 776us/step - loss: 1.2236\n",
      "Epoch 157/500\n",
      "10/10 [==============================] - 0s 776us/step - loss: 1.4558\n",
      "Epoch 158/500\n",
      "10/10 [==============================] - 0s 997us/step - loss: 1.1637\n",
      "Epoch 159/500\n",
      "10/10 [==============================] - 0s 887us/step - loss: 1.4310\n",
      "Epoch 160/500\n",
      "10/10 [==============================] - 0s 887us/step - loss: 1.2824\n",
      "Epoch 161/500\n",
      "10/10 [==============================] - 0s 887us/step - loss: 1.5109\n",
      "Epoch 162/500\n",
      "10/10 [==============================] - 0s 997us/step - loss: 1.2059\n",
      "Epoch 163/500\n",
      "10/10 [==============================] - 0s 776us/step - loss: 1.1483\n",
      "Epoch 164/500\n",
      "10/10 [==============================] - 0s 997us/step - loss: 1.4787\n",
      "Epoch 165/500\n",
      "10/10 [==============================] - 0s 1ms/step - loss: 1.3184\n",
      "Epoch 166/500\n",
      "10/10 [==============================] - 0s 998us/step - loss: 1.4047\n",
      "Epoch 167/500\n",
      "10/10 [==============================] - 0s 887us/step - loss: 1.2512\n",
      "Epoch 168/500\n",
      "10/10 [==============================] - 0s 997us/step - loss: 1.2391\n",
      "Epoch 169/500\n",
      "10/10 [==============================] - 0s 887us/step - loss: 1.2909\n",
      "Epoch 170/500\n",
      "10/10 [==============================] - 0s 998us/step - loss: 1.2734\n",
      "Epoch 171/500\n",
      "10/10 [==============================] - 0s 889us/step - loss: 1.2779\n",
      "Epoch 172/500\n",
      "10/10 [==============================] - 0s 887us/step - loss: 1.3687\n",
      "Epoch 173/500\n",
      "10/10 [==============================] - 0s 998us/step - loss: 1.1139\n",
      "Epoch 174/500\n",
      "10/10 [==============================] - 0s 886us/step - loss: 1.3075\n",
      "Epoch 175/500\n",
      "10/10 [==============================] - 0s 886us/step - loss: 1.1161\n",
      "Epoch 176/500\n",
      "10/10 [==============================] - 0s 887us/step - loss: 1.4308\n",
      "Epoch 177/500\n",
      "10/10 [==============================] - 0s 887us/step - loss: 1.1924\n",
      "Epoch 178/500\n",
      "10/10 [==============================] - 0s 997us/step - loss: 1.1341\n",
      "Epoch 179/500\n",
      "10/10 [==============================] - 0s 887us/step - loss: 1.3798\n",
      "Epoch 180/500\n",
      "10/10 [==============================] - 0s 776us/step - loss: 1.1708\n",
      "Epoch 181/500\n",
      "10/10 [==============================] - 0s 779us/step - loss: 1.2130\n",
      "Epoch 182/500\n",
      "10/10 [==============================] - 0s 997us/step - loss: 1.1636\n",
      "Epoch 183/500\n",
      "10/10 [==============================] - 0s 776us/step - loss: 1.2585\n",
      "Epoch 184/500\n",
      "10/10 [==============================] - 0s 887us/step - loss: 1.1399\n",
      "Epoch 185/500\n",
      "10/10 [==============================] - 0s 886us/step - loss: 1.3552\n",
      "Epoch 186/500\n",
      "10/10 [==============================] - 0s 997us/step - loss: 1.0889\n",
      "Epoch 187/500\n",
      "10/10 [==============================] - 0s 887us/step - loss: 1.1797\n",
      "Epoch 188/500\n",
      "10/10 [==============================] - 0s 887us/step - loss: 1.0754\n",
      "Epoch 189/500\n",
      "10/10 [==============================] - 0s 887us/step - loss: 1.2763\n",
      "Epoch 190/500\n",
      "10/10 [==============================] - 0s 887us/step - loss: 1.0760\n",
      "Epoch 191/500\n",
      "10/10 [==============================] - 0s 887us/step - loss: 1.2599\n",
      "Epoch 192/500\n",
      "10/10 [==============================] - 0s 775us/step - loss: 1.1412\n",
      "Epoch 193/500\n",
      "10/10 [==============================] - 0s 889us/step - loss: 1.1849\n",
      "Epoch 194/500\n",
      "10/10 [==============================] - 0s 997us/step - loss: 1.1633\n",
      "Epoch 195/500\n",
      "10/10 [==============================] - 0s 887us/step - loss: 1.0787\n",
      "Epoch 196/500\n",
      "10/10 [==============================] - 0s 776us/step - loss: 1.1444\n",
      "Epoch 197/500\n",
      "10/10 [==============================] - 0s 998us/step - loss: 1.0518\n",
      "Epoch 198/500\n",
      "10/10 [==============================] - 0s 998us/step - loss: 1.1776\n",
      "Epoch 199/500\n",
      "10/10 [==============================] - 0s 887us/step - loss: 1.0512\n",
      "Epoch 200/500\n",
      "10/10 [==============================] - 0s 887us/step - loss: 1.2274\n",
      "Epoch 201/500\n",
      "10/10 [==============================] - 0s 886us/step - loss: 1.0441\n",
      "Epoch 202/500\n",
      "10/10 [==============================] - 0s 891us/step - loss: 1.0839\n",
      "Epoch 203/500\n",
      "10/10 [==============================] - 0s 997us/step - loss: 1.0804\n",
      "Epoch 204/500\n",
      "10/10 [==============================] - 0s 887us/step - loss: 1.1070\n",
      "Epoch 205/500\n",
      "10/10 [==============================] - 0s 887us/step - loss: 1.1009\n",
      "Epoch 206/500\n",
      "10/10 [==============================] - 0s 997us/step - loss: 1.0126\n",
      "Epoch 207/500\n",
      "10/10 [==============================] - 0s 776us/step - loss: 1.1052\n",
      "Epoch 208/500\n",
      "10/10 [==============================] - 0s 887us/step - loss: 1.1194\n",
      "Epoch 209/500\n",
      "10/10 [==============================] - 0s 887us/step - loss: 1.0672\n",
      "Epoch 210/500\n",
      "10/10 [==============================] - 0s 887us/step - loss: 0.9800\n",
      "Epoch 211/500\n",
      "10/10 [==============================] - 0s 776us/step - loss: 1.0159\n",
      "Epoch 212/500\n",
      "10/10 [==============================] - 0s 887us/step - loss: 1.0165\n",
      "Epoch 213/500\n",
      "10/10 [==============================] - 0s 997us/step - loss: 1.0807\n",
      "Epoch 214/500\n",
      "10/10 [==============================] - 0s 773us/step - loss: 0.9618\n",
      "Epoch 215/500\n",
      "10/10 [==============================] - 0s 887us/step - loss: 1.1859\n",
      "Epoch 216/500\n",
      "10/10 [==============================] - 0s 998us/step - loss: 0.9144\n",
      "Epoch 217/500\n",
      "10/10 [==============================] - 0s 776us/step - loss: 1.0089\n",
      "Epoch 218/500\n",
      "10/10 [==============================] - 0s 776us/step - loss: 1.0373\n",
      "Epoch 219/500\n",
      "10/10 [==============================] - 0s 887us/step - loss: 0.9660\n",
      "Epoch 220/500\n",
      "10/10 [==============================] - 0s 776us/step - loss: 1.0221\n",
      "Epoch 221/500\n",
      "10/10 [==============================] - 0s 997us/step - loss: 0.9477\n",
      "Epoch 222/500\n",
      "10/10 [==============================] - 0s 887us/step - loss: 0.9880\n",
      "Epoch 223/500\n",
      "10/10 [==============================] - 0s 887us/step - loss: 1.0182\n",
      "Epoch 224/500\n",
      "10/10 [==============================] - 0s 887us/step - loss: 0.9933\n",
      "Epoch 225/500\n",
      "10/10 [==============================] - 0s 887us/step - loss: 0.8941\n",
      "Epoch 226/500\n",
      "10/10 [==============================] - 0s 887us/step - loss: 0.9590\n",
      "Epoch 227/500\n",
      "10/10 [==============================] - 0s 885us/step - loss: 0.9912\n",
      "Epoch 228/500\n",
      "10/10 [==============================] - 0s 887us/step - loss: 0.9052\n",
      "Epoch 229/500\n",
      "10/10 [==============================] - 0s 757us/step - loss: 0.8695\n",
      "Epoch 230/500\n",
      "10/10 [==============================] - 0s 887us/step - loss: 0.9978\n",
      "Epoch 231/500\n",
      "10/10 [==============================] - 0s 887us/step - loss: 0.9348\n",
      "Epoch 232/500\n",
      "10/10 [==============================] - 0s 887us/step - loss: 0.9264\n",
      "Epoch 233/500\n",
      "10/10 [==============================] - 0s 887us/step - loss: 0.9139\n",
      "Epoch 234/500\n",
      "10/10 [==============================] - 0s 887us/step - loss: 0.9110\n",
      "Epoch 235/500\n",
      "10/10 [==============================] - 0s 776us/step - loss: 1.0050\n",
      "Epoch 236/500\n",
      "10/10 [==============================] - 0s 786us/step - loss: 0.8994\n",
      "Epoch 237/500\n",
      "10/10 [==============================] - 0s 887us/step - loss: 0.7935\n",
      "Epoch 238/500\n",
      "10/10 [==============================] - 0s 908us/step - loss: 0.9744\n",
      "Epoch 239/500\n",
      "10/10 [==============================] - 0s 887us/step - loss: 0.7965\n",
      "Epoch 240/500\n",
      "10/10 [==============================] - 0s 886us/step - loss: 0.8764\n",
      "Epoch 241/500\n",
      "10/10 [==============================] - 0s 776us/step - loss: 0.9461\n",
      "Epoch 242/500\n",
      "10/10 [==============================] - 0s 887us/step - loss: 0.7133\n",
      "Epoch 243/500\n",
      "10/10 [==============================] - 0s 887us/step - loss: 0.9348\n",
      "Epoch 244/500\n",
      "10/10 [==============================] - 0s 887us/step - loss: 0.8297\n",
      "Epoch 245/500\n",
      "10/10 [==============================] - 0s 887us/step - loss: 0.8481\n",
      "Epoch 246/500\n",
      "10/10 [==============================] - 0s 776us/step - loss: 0.8658\n",
      "Epoch 247/500\n",
      "10/10 [==============================] - 0s 776us/step - loss: 0.9218\n",
      "Epoch 248/500\n",
      "10/10 [==============================] - 0s 1ms/step - loss: 0.6652\n",
      "Epoch 249/500\n",
      "10/10 [==============================] - 0s 776us/step - loss: 0.9024\n",
      "Epoch 250/500\n",
      "10/10 [==============================] - 0s 776us/step - loss: 0.9185\n",
      "Epoch 251/500\n",
      "10/10 [==============================] - 0s 1ms/step - loss: 0.6132\n",
      "Epoch 252/500\n",
      "10/10 [==============================] - 0s 887us/step - loss: 0.9084\n",
      "Epoch 253/500\n",
      "10/10 [==============================] - 0s 776us/step - loss: 0.7308\n",
      "Epoch 254/500\n",
      "10/10 [==============================] - 0s 998us/step - loss: 0.9653\n",
      "Epoch 255/500\n",
      "10/10 [==============================] - 0s 887us/step - loss: 0.7275\n",
      "Epoch 256/500\n",
      "10/10 [==============================] - 0s 887us/step - loss: 0.7432\n",
      "Epoch 257/500\n",
      "10/10 [==============================] - 0s 887us/step - loss: 0.9874\n",
      "Epoch 258/500\n",
      "10/10 [==============================] - 0s 891us/step - loss: 0.6814\n",
      "Epoch 259/500\n",
      "10/10 [==============================] - 0s 887us/step - loss: 0.7829\n",
      "Epoch 260/500\n",
      "10/10 [==============================] - 0s 887us/step - loss: 0.8388\n",
      "Epoch 261/500\n",
      "10/10 [==============================] - 0s 997us/step - loss: 0.7800\n",
      "Epoch 262/500\n",
      "10/10 [==============================] - 0s 887us/step - loss: 0.7181\n",
      "Epoch 263/500\n",
      "10/10 [==============================] - 0s 890us/step - loss: 0.8573\n",
      "Epoch 264/500\n",
      "10/10 [==============================] - 0s 1ms/step - loss: 0.8156\n",
      "Epoch 265/500\n",
      "10/10 [==============================] - 0s 887us/step - loss: 0.6747\n",
      "Epoch 266/500\n",
      "10/10 [==============================] - 0s 873us/step - loss: 0.9762\n",
      "Epoch 267/500\n",
      "10/10 [==============================] - 0s 998us/step - loss: 0.7304\n",
      "Epoch 268/500\n",
      "10/10 [==============================] - 0s 3ms/step - loss: 0.9302\n",
      "Epoch 269/500\n",
      "10/10 [==============================] - 0s 776us/step - loss: 0.6511\n",
      "Epoch 270/500\n",
      "10/10 [==============================] - 0s 997us/step - loss: 0.7897\n",
      "Epoch 271/500\n",
      "10/10 [==============================] - 0s 887us/step - loss: 0.8690\n",
      "Epoch 272/500\n",
      "10/10 [==============================] - 0s 887us/step - loss: 0.9059\n",
      "Epoch 273/500\n",
      "10/10 [==============================] - 0s 917us/step - loss: 0.5857\n",
      "Epoch 274/500\n",
      "10/10 [==============================] - 0s 1ms/step - loss: 0.6847\n",
      "Epoch 275/500\n",
      "10/10 [==============================] - 0s 776us/step - loss: 0.8645\n",
      "Epoch 276/500\n",
      "10/10 [==============================] - 0s 887us/step - loss: 0.8006\n",
      "Epoch 277/500\n",
      "10/10 [==============================] - 0s 1ms/step - loss: 0.5817\n",
      "Epoch 278/500\n",
      "10/10 [==============================] - 0s 776us/step - loss: 0.8613\n",
      "Epoch 279/500\n",
      "10/10 [==============================] - 0s 887us/step - loss: 0.8977\n",
      "Epoch 280/500\n",
      "10/10 [==============================] - 0s 887us/step - loss: 0.7597\n",
      "Epoch 281/500\n",
      "10/10 [==============================] - 0s 776us/step - loss: 0.8581\n",
      "Epoch 282/500\n",
      "10/10 [==============================] - 0s 997us/step - loss: 0.7118\n",
      "Epoch 283/500\n",
      "10/10 [==============================] - 0s 776us/step - loss: 0.6561\n",
      "Epoch 284/500\n",
      "10/10 [==============================] - 0s 776us/step - loss: 0.9276\n",
      "Epoch 285/500\n",
      "10/10 [==============================] - 0s 998us/step - loss: 0.7353\n",
      "Epoch 286/500\n",
      "10/10 [==============================] - 0s 776us/step - loss: 0.8699\n",
      "Epoch 287/500\n",
      "10/10 [==============================] - 0s 776us/step - loss: 0.5896\n",
      "Epoch 288/500\n",
      "10/10 [==============================] - 0s 776us/step - loss: 0.8520\n",
      "Epoch 289/500\n",
      "10/10 [==============================] - 0s 776us/step - loss: 0.7511\n",
      "Epoch 290/500\n",
      "10/10 [==============================] - 0s 887us/step - loss: 0.7672\n",
      "Epoch 291/500\n",
      "10/10 [==============================] - 0s 886us/step - loss: 0.7820\n",
      "Epoch 292/500\n",
      "10/10 [==============================] - 0s 776us/step - loss: 0.8471\n",
      "Epoch 293/500\n",
      "10/10 [==============================] - 0s 887us/step - loss: 0.6972\n",
      "Epoch 294/500\n",
      "10/10 [==============================] - 0s 996us/step - loss: 0.7450\n",
      "Epoch 295/500\n",
      "10/10 [==============================] - 0s 887us/step - loss: 0.8434\n",
      "Epoch 296/500\n",
      "10/10 [==============================] - 0s 776us/step - loss: 0.5768\n",
      "Epoch 297/500\n",
      "10/10 [==============================] - 0s 889us/step - loss: 0.8583\n",
      "Epoch 298/500\n",
      "10/10 [==============================] - 0s 1ms/step - loss: 0.7226\n",
      "Epoch 299/500\n",
      "10/10 [==============================] - 0s 887us/step - loss: 0.6735\n",
      "Epoch 300/500\n",
      "10/10 [==============================] - 0s 887us/step - loss: 0.8730\n",
      "Epoch 301/500\n",
      "WARNING:tensorflow:Your input ran out of data; interrupting training. Make sure that your dataset or generator can generate at least `steps_per_epoch * epochs` batches (in this case, 5000 batches). You may need to use the repeat() function when building your dataset.\n",
      "10/10 [==============================] - 1s 65ms/step - loss: 0.8730\n"
     ]
    },
    {
     "data": {
      "text/plain": [
       "<keras.callbacks.History at 0x1f2743bf760>"
      ]
     },
     "execution_count": 7,
     "metadata": {},
     "output_type": "execute_result"
    }
   ],
   "source": [
    "class myCallback(tf.keras.callbacks.Callback):\n",
    "    def on_epoch_end(self, epoch, logs={}):\n",
    "        if(logs.get('loss') < 1e-4):\n",
    "            self.model.stop_training = True\n",
    "            \n",
    "cb = myCallback()\n",
    "\n",
    "model.fit(x,y, epochs=500, steps_per_epoch=10, callbacks=cb)"
   ]
  },
  {
   "cell_type": "markdown",
   "id": "31a43313-8d69-40f4-94b5-57f41c2ee5af",
   "metadata": {},
   "source": [
    "## 2. MNIST"
   ]
  },
  {
   "cell_type": "markdown",
   "id": "392aedff-c280-4aa0-afc0-e04faf8013c8",
   "metadata": {},
   "source": [
    "## Load Dataset"
   ]
  },
  {
   "cell_type": "code",
   "execution_count": 8,
   "id": "dbf26f96-051c-4832-80d8-6398824ae6a1",
   "metadata": {},
   "outputs": [],
   "source": [
    "(x_train_raw, y_train_raw), (x_test_raw, y_test_raw) = datasets.fashion_mnist.load_data()"
   ]
  },
  {
   "cell_type": "code",
   "execution_count": 9,
   "id": "bbe24292-b408-406c-aab4-30383df78d96",
   "metadata": {},
   "outputs": [
    {
     "name": "stdout",
     "output_type": "stream",
     "text": [
      "9\n",
      "(60000, 28, 28)\n",
      "(10000, 28, 28)\n"
     ]
    }
   ],
   "source": [
    "print(y_train_raw[0])\n",
    "print(x_train_raw.shape)\n",
    "print(x_test_raw.shape)"
   ]
  },
  {
   "cell_type": "markdown",
   "id": "c9dd2d5a-db8d-4db2-9298-3cc5294496c6",
   "metadata": {},
   "source": [
    "## Label Encoding"
   ]
  },
  {
   "cell_type": "code",
   "execution_count": 10,
   "id": "3d809007-04a6-4bd2-8309-eca81f171cda",
   "metadata": {},
   "outputs": [
    {
     "name": "stdout",
     "output_type": "stream",
     "text": [
      "[0. 0. 0. 0. 0. 0. 0. 0. 0. 1.]\n"
     ]
    }
   ],
   "source": [
    "num_classes = 10\n",
    "y_train = tf.keras.utils.to_categorical(y_train_raw, num_classes)\n",
    "y_test = tf.keras.utils.to_categorical(y_test_raw, num_classes)\n",
    "print(y_train[0])"
   ]
  },
  {
   "cell_type": "markdown",
   "id": "232824d2-c139-4228-ad2f-f1a09505656d",
   "metadata": {},
   "source": [
    "## Preview Gambar"
   ]
  },
  {
   "cell_type": "code",
   "execution_count": 11,
   "id": "7e7b3e4e-4d78-4217-80d7-243c52b76ab5",
   "metadata": {},
   "outputs": [
    {
     "data": {
      "image/png": "[encoded data removed]",
      "text/plain": [
       "<Figure size 640x480 with 9 Axes>"
      ]
     },
     "metadata": {},
     "output_type": "display_data"
    }
   ],
   "source": [
    "plt.figure()\n",
    "for i in range(9):\n",
    "    plt.subplot(3,3,i+1)\n",
    "    plt.imshow(x_train_raw[i])\n",
    "    plt.axis('off')\n",
    "plt.show()"
   ]
  },
  {
   "cell_type": "markdown",
   "id": "ad91037d-da27-4b64-85df-69dd3cbcea2c",
   "metadata": {},
   "source": [
    "## Reshape Gambar"
   ]
  },
  {
   "cell_type": "code",
   "execution_count": 12,
   "id": "ff757869-337e-4973-8235-9864812e8081",
   "metadata": {},
   "outputs": [],
   "source": [
    "x_train = x_train_raw.reshape(60000, 784)\n",
    "x_test = x_test_raw.reshape(10000, 784)"
   ]
  },
  {
   "cell_type": "markdown",
   "id": "68288492-1a5a-4390-8922-f4b403e2593a",
   "metadata": {},
   "source": [
    "## Normalisasi"
   ]
  },
  {
   "cell_type": "code",
   "execution_count": 13,
   "id": "cc302475-b48f-4baa-aaf9-62bf5eae4923",
   "metadata": {},
   "outputs": [],
   "source": [
    "x_train = x_train.astype('float32')/255\n",
    "x_test = x_test.astype('float32')/255"
   ]
  },
  {
   "cell_type": "markdown",
   "id": "4913a71c-1e96-4785-b8a3-e23ab1d0f338",
   "metadata": {},
   "source": [
    "## Buat Model"
   ]
  },
  {
   "cell_type": "code",
   "execution_count": 14,
   "id": "e74089a1-adb8-41e9-b510-5dd6ffc17b92",
   "metadata": {},
   "outputs": [
    {
     "name": "stdout",
     "output_type": "stream",
     "text": [
      "Model: \"sequential_2\"\n",
      "_________________________________________________________________\n",
      " Layer (type)                Output Shape              Param #   \n",
      "=================================================================\n",
      " dense_2 (Dense)             (None, 512)               401920    \n",
      "                                                                 \n",
      " dense_3 (Dense)             (None, 256)               131328    \n",
      "                                                                 \n",
      " dense_4 (Dense)             (None, 124)               31868     \n",
      "                                                                 \n",
      " dense_5 (Dense)             (None, 128)               16000     \n",
      "                                                                 \n",
      " dense_6 (Dense)             (None, 10)                1290      \n",
      "                                                                 \n",
      "=================================================================\n",
      "Total params: 582,406\n",
      "Trainable params: 582,406\n",
      "Non-trainable params: 0\n",
      "_________________________________________________________________\n"
     ]
    }
   ],
   "source": [
    "model = tf.keras.Sequential([\n",
    "    tf.keras.layers.Dense(512, activation='relu', input_dim=784),\n",
    "    tf.keras.layers.Dense(256, activation='relu'),\n",
    "    tf.keras.layers.Dense(124, activation='relu'),\n",
    "    tf.keras.layers.Dense(128, activation='relu'),\n",
    "    tf.keras.layers.Dense(10, activation='softmax')\n",
    "])\n",
    "\n",
    "model.summary()"
   ]
  },
  {
   "cell_type": "code",
   "execution_count": 15,
   "id": "d0a94d89-c07f-4bda-8d1a-39aa67ff280c",
   "metadata": {},
   "outputs": [],
   "source": [
    "model.compile(optimizer='adam', loss='categorical_crossentropy', metrics=['accuracy'])"
   ]
  },
  {
   "cell_type": "markdown",
   "id": "48b11f52-1fa7-4cfd-b484-03b465a88339",
   "metadata": {},
   "source": [
    "## Training Model"
   ]
  },
  {
   "cell_type": "code",
   "execution_count": 16,
   "id": "2df2df30-8aa1-4a84-8fb2-6f8f931ef353",
   "metadata": {},
   "outputs": [
    {
     "name": "stdout",
     "output_type": "stream",
     "text": [
      "Epoch 1/10\n",
      "469/469 [==============================] - 3s 5ms/step - loss: 0.5096 - accuracy: 0.8180 - val_loss: 0.4020 - val_accuracy: 0.8551\n",
      "Epoch 2/10\n",
      "469/469 [==============================] - 2s 5ms/step - loss: 0.3597 - accuracy: 0.8680 - val_loss: 0.4020 - val_accuracy: 0.8568\n",
      "Epoch 3/10\n",
      "469/469 [==============================] - 2s 5ms/step - loss: 0.3253 - accuracy: 0.8803 - val_loss: 0.3585 - val_accuracy: 0.8689\n",
      "Epoch 4/10\n",
      "469/469 [==============================] - 2s 5ms/step - loss: 0.3024 - accuracy: 0.8874 - val_loss: 0.3533 - val_accuracy: 0.8701\n",
      "Epoch 5/10\n",
      "469/469 [==============================] - 2s 5ms/step - loss: 0.2828 - accuracy: 0.8958 - val_loss: 0.3536 - val_accuracy: 0.8778\n",
      "Epoch 6/10\n",
      "469/469 [==============================] - 2s 5ms/step - loss: 0.2664 - accuracy: 0.9011 - val_loss: 0.3453 - val_accuracy: 0.8777\n",
      "Epoch 7/10\n",
      "469/469 [==============================] - 2s 5ms/step - loss: 0.2579 - accuracy: 0.9035 - val_loss: 0.3555 - val_accuracy: 0.8760\n",
      "Epoch 8/10\n",
      "469/469 [==============================] - 2s 5ms/step - loss: 0.2472 - accuracy: 0.9067 - val_loss: 0.3292 - val_accuracy: 0.8847\n",
      "Epoch 9/10\n",
      "469/469 [==============================] - 2s 5ms/step - loss: 0.2362 - accuracy: 0.9116 - val_loss: 0.3249 - val_accuracy: 0.8874\n",
      "Epoch 10/10\n",
      "469/469 [==============================] - 2s 5ms/step - loss: 0.2242 - accuracy: 0.9142 - val_loss: 0.3329 - val_accuracy: 0.8821\n"
     ]
    }
   ],
   "source": [
    "history = model.fit(x_train, y_train, epochs=10, batch_size=128, validation_data=[x_test, y_test])"
   ]
  },
  {
   "cell_type": "markdown",
   "id": "b5600734-84c5-4e70-902b-1b71f186fbef",
   "metadata": {},
   "source": [
    "## History Training"
   ]
  },
  {
   "cell_type": "code",
   "execution_count": 17,
   "id": "fef663d7-301d-409d-80bf-e8c0642682cb",
   "metadata": {},
   "outputs": [
    {
     "data": {
      "image/png": "[encoded data removed]",
      "text/plain": [
       "<Figure size 640x480 with 1 Axes>"
      ]
     },
     "metadata": {},
     "output_type": "display_data"
    }
   ],
   "source": [
    "nilai_x = range(len(history.history['accuracy']))\n",
    "plt.plot(nilai_x, history.history['accuracy'], label='Training')\n",
    "plt.plot(nilai_x, history.history['val_accuracy'], label='Validation')\n",
    "plt.legend()\n",
    "plt.show()"
   ]
  },
  {
   "cell_type": "markdown",
   "id": "714b9454-2e7b-40ac-99e6-cfe038544fc1",
   "metadata": {},
   "source": [
    "## Evaluasi Model"
   ]
  },
  {
   "cell_type": "code",
   "execution_count": 18,
   "id": "3ee9b368-e511-4b81-b9b7-841bdbac9541",
   "metadata": {},
   "outputs": [
    {
     "name": "stdout",
     "output_type": "stream",
     "text": [
      "313/313 [==============================] - 1s 2ms/step - loss: 0.3329 - accuracy: 0.8821\n"
     ]
    },
    {
     "data": {
      "text/plain": [
       "[0.3329441249370575, 0.882099986076355]"
      ]
     },
     "execution_count": 18,
     "metadata": {},
     "output_type": "execute_result"
    }
   ],
   "source": [
    "model.evaluate(x_test, y_test)"
   ]
  },
  {
   "cell_type": "markdown",
   "id": "d2ca1de8-27ec-494d-9caf-253bbe8f6554",
   "metadata": {},
   "source": [
    "## Save Model"
   ]
  },
  {
   "cell_type": "code",
   "execution_count": 19,
   "id": "6f78ddd1-846d-4471-80f1-bc1a33031332",
   "metadata": {},
   "outputs": [],
   "source": [
    "model.save('model/model.h5')"
   ]
  },
  {
   "cell_type": "markdown",
   "id": "23d1a05b-2a07-4dba-9495-b27d3bed6278",
   "metadata": {},
   "source": [
    "## Load Model"
   ]
  },
  {
   "cell_type": "code",
   "execution_count": 20,
   "id": "361b7dc9-b431-42f1-be7a-261ba5bd6e97",
   "metadata": {},
   "outputs": [
    {
     "name": "stdout",
     "output_type": "stream",
     "text": [
      "Model: \"sequential_2\"\n",
      "_________________________________________________________________\n",
      " Layer (type)                Output Shape              Param #   \n",
      "=================================================================\n",
      " dense_2 (Dense)             (None, 512)               401920    \n",
      "                                                                 \n",
      " dense_3 (Dense)             (None, 256)               131328    \n",
      "                                                                 \n",
      " dense_4 (Dense)             (None, 124)               31868     \n",
      "                                                                 \n",
      " dense_5 (Dense)             (None, 128)               16000     \n",
      "                                                                 \n",
      " dense_6 (Dense)             (None, 10)                1290      \n",
      "                                                                 \n",
      "=================================================================\n",
      "Total params: 582,406\n",
      "Trainable params: 582,406\n",
      "Non-trainable params: 0\n",
      "_________________________________________________________________\n"
     ]
    }
   ],
   "source": [
    "model_saved = tf.keras.models.load_model('model/model.h5')\n",
    "model_saved.summary()"
   ]
  },
  {
   "cell_type": "code",
   "execution_count": 21,
   "id": "3ded66d2-61ae-4ac3-a7b1-b74745f182da",
   "metadata": {},
   "outputs": [
    {
     "name": "stdout",
     "output_type": "stream",
     "text": [
      "313/313 [==============================] - 1s 2ms/step - loss: 0.3329 - accuracy: 0.8821\n"
     ]
    },
    {
     "data": {
      "text/plain": [
       "[0.3329441249370575, 0.882099986076355]"
      ]
     },
     "execution_count": 21,
     "metadata": {},
     "output_type": "execute_result"
    }
   ],
   "source": [
    "model_saved.evaluate(x_test, y_test, batch_size=32)"
   ]
  },
  {
   "cell_type": "markdown",
   "id": "79652e53-3939-4e64-b796-45120a709995",
   "metadata": {},
   "source": [
    "## Prediksi Model"
   ]
  },
  {
   "cell_type": "code",
   "execution_count": 22,
   "id": "b449edf3-0808-4d30-b0c7-d2f39205be52",
   "metadata": {},
   "outputs": [
    {
     "name": "stdout",
     "output_type": "stream",
     "text": [
      "313/313 [==============================] - 1s 2ms/step\n"
     ]
    }
   ],
   "source": [
    "hasil = model_saved.predict(x_test)"
   ]
  },
  {
   "cell_type": "code",
   "execution_count": 23,
   "id": "e1c33730-fcab-45dd-be23-10ee13da1671",
   "metadata": {},
   "outputs": [
    {
     "data": {
      "text/plain": [
       "(60000, 784)"
      ]
     },
     "execution_count": 23,
     "metadata": {},
     "output_type": "execute_result"
    }
   ],
   "source": [
    "x_train.shape"
   ]
  },
  {
   "cell_type": "code",
   "execution_count": 24,
   "id": "7ab02cb7-037b-4229-897c-65ca5e26e72b",
   "metadata": {},
   "outputs": [
    {
     "data": {
      "text/plain": [
       "array([0, 1, 2, 3, 4, 5, 6, 7, 8, 9], dtype=uint8)"
      ]
     },
     "execution_count": 24,
     "metadata": {},
     "output_type": "execute_result"
    }
   ],
   "source": [
    "np.unique(y_train_raw)"
   ]
  },
  {
   "cell_type": "code",
   "execution_count": 26,
   "id": "599e9704-dc14-467d-bc58-2caa468167e8",
   "metadata": {},
   "outputs": [
    {
     "data": {
      "image/png": "[encoded data removed]",
      "text/plain": [
       "<Figure size 640x480 with 1 Axes>"
      ]
     },
     "metadata": {},
     "output_type": "display_data"
    }
   ],
   "source": [
    "label = np.argmax(hasil,axis=1)\n",
    "ActualLabel = np.argmax(y_test[4])\n",
    "\n",
    "img = x_test[4].reshape(28, 28)\n",
    "\n",
    "plt.title(f\"Aktual Label : {ActualLabel}, Predicted Label : {label[4]}\")\n",
    "plt.imshow(img)\n",
    "plt.show()"
   ]
  },
  {
   "cell_type": "code",
   "execution_count": 27,
   "id": "af73a146-ab1e-4cec-8209-8d5b8825b7dc",
   "metadata": {},
   "outputs": [
    {
     "data": {
      "image/png": "[encoded data removed]",
      "text/plain": [
       "<Figure size 1500x1500 with 9 Axes>"
      ]
     },
     "metadata": {},
     "output_type": "display_data"
    }
   ],
   "source": [
    "plt.figure(figsize=(15,15))\n",
    "for i in range(9):\n",
    "  plt.subplot(3,3,i+1)\n",
    "\n",
    "  ActualLabel = np.argmax(y_test[i])\n",
    "  plt.title(f\"Aktual Label : {ActualLabel}, Predicted Label : {label[i]}\")\n",
    "  plt.imshow(x_test[i].reshape(28, 28))\n",
    "  plt.axis('off')\n",
    "\n",
    "plt.show()"
   ]
  },
  {
   "cell_type": "code",
   "execution_count": null,
   "id": "a1c81b5b-c39d-4063-9b9d-0068343530a1",
   "metadata": {},
   "outputs": [],
   "source": []
  }
 ],
 "metadata": {
  "kernelspec": {
   "display_name": "Python 3 (ipykernel)",
   "language": "python",
   "name": "python3"
  },
  "language_info": {
   "codemirror_mode": {
    "name": "ipython",
    "version": 3
   },
   "file_extension": ".py",
   "mimetype": "text/x-python",
   "name": "python",
   "nbconvert_exporter": "python",
   "pygments_lexer": "ipython3",
   "version": "3.10.7"
  }
 },
 "nbformat": 4,
 "nbformat_minor": 5
}
