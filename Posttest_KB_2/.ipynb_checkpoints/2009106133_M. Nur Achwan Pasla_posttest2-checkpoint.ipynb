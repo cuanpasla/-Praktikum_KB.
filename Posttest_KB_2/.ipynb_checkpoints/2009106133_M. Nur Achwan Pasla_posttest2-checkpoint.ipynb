{
 "cells": [
  {
   "cell_type": "markdown",
   "id": "cd597127-0ab6-413d-b910-c45c030d0359",
   "metadata": {},
   "source": [
    "## IMPORT PACKAGE\n",
    "\n",
    "- pandas"
   ]
  },
  {
   "cell_type": "code",
   "execution_count": 1,
   "id": "7f702417-4749-4f24-a535-bc99472593eb",
   "metadata": {},
   "outputs": [],
   "source": [
    "import pandas as pd"
   ]
  },
  {
   "cell_type": "markdown",
   "id": "fc556642-f443-434e-902d-72c6bf7c7a45",
   "metadata": {
    "tags": []
   },
   "source": [
    "## FILE RECORD CSV"
   ]
  },
  {
   "cell_type": "code",
   "execution_count": 2,
   "id": "347e039b-273d-4133-94d8-06bbfec6b37f",
   "metadata": {},
   "outputs": [],
   "source": [
    "ds = pd.read_csv(\"charts.csv\")"
   ]
  },
  {
   "cell_type": "code",
   "execution_count": 3,
   "id": "d856ab5a-b6d8-467c-a2ad-3ec02014909c",
   "metadata": {},
   "outputs": [
    {
     "data": {
      "text/html": [
       "<div>\n",
       "<style scoped>\n",
       "    .dataframe tbody tr th:only-of-type {\n",
       "        vertical-align: middle;\n",
       "    }\n",
       "\n",
       "    .dataframe tbody tr th {\n",
       "        vertical-align: top;\n",
       "    }\n",
       "\n",
       "    .dataframe thead th {\n",
       "        text-align: right;\n",
       "    }\n",
       "</style>\n",
       "<table border=\"1\" class=\"dataframe\">\n",
       "  <thead>\n",
       "    <tr style=\"text-align: right;\">\n",
       "      <th></th>\n",
       "      <th>date</th>\n",
       "      <th>rank</th>\n",
       "      <th>song</th>\n",
       "      <th>artist</th>\n",
       "      <th>last-week</th>\n",
       "      <th>peak-rank</th>\n",
       "      <th>weeks-on-board</th>\n",
       "    </tr>\n",
       "  </thead>\n",
       "  <tbody>\n",
       "    <tr>\n",
       "      <th>0</th>\n",
       "      <td>2021-11-06</td>\n",
       "      <td>1</td>\n",
       "      <td>Easy On Me</td>\n",
       "      <td>Adele</td>\n",
       "      <td>1.0</td>\n",
       "      <td>1</td>\n",
       "      <td>3</td>\n",
       "    </tr>\n",
       "    <tr>\n",
       "      <th>1</th>\n",
       "      <td>2021-11-06</td>\n",
       "      <td>2</td>\n",
       "      <td>Stay</td>\n",
       "      <td>The Kid LAROI &amp; Justin Bieber</td>\n",
       "      <td>2.0</td>\n",
       "      <td>1</td>\n",
       "      <td>16</td>\n",
       "    </tr>\n",
       "    <tr>\n",
       "      <th>2</th>\n",
       "      <td>2021-11-06</td>\n",
       "      <td>3</td>\n",
       "      <td>Industry Baby</td>\n",
       "      <td>Lil Nas X &amp; Jack Harlow</td>\n",
       "      <td>3.0</td>\n",
       "      <td>1</td>\n",
       "      <td>14</td>\n",
       "    </tr>\n",
       "    <tr>\n",
       "      <th>3</th>\n",
       "      <td>2021-11-06</td>\n",
       "      <td>4</td>\n",
       "      <td>Fancy Like</td>\n",
       "      <td>Walker Hayes</td>\n",
       "      <td>4.0</td>\n",
       "      <td>3</td>\n",
       "      <td>19</td>\n",
       "    </tr>\n",
       "    <tr>\n",
       "      <th>4</th>\n",
       "      <td>2021-11-06</td>\n",
       "      <td>5</td>\n",
       "      <td>Bad Habits</td>\n",
       "      <td>Ed Sheeran</td>\n",
       "      <td>5.0</td>\n",
       "      <td>2</td>\n",
       "      <td>18</td>\n",
       "    </tr>\n",
       "    <tr>\n",
       "      <th>...</th>\n",
       "      <td>...</td>\n",
       "      <td>...</td>\n",
       "      <td>...</td>\n",
       "      <td>...</td>\n",
       "      <td>...</td>\n",
       "      <td>...</td>\n",
       "      <td>...</td>\n",
       "    </tr>\n",
       "    <tr>\n",
       "      <th>330082</th>\n",
       "      <td>1958-08-04</td>\n",
       "      <td>96</td>\n",
       "      <td>Over And Over</td>\n",
       "      <td>Thurston Harris</td>\n",
       "      <td>NaN</td>\n",
       "      <td>96</td>\n",
       "      <td>1</td>\n",
       "    </tr>\n",
       "    <tr>\n",
       "      <th>330083</th>\n",
       "      <td>1958-08-04</td>\n",
       "      <td>97</td>\n",
       "      <td>I Believe In You</td>\n",
       "      <td>Robert &amp; Johnny</td>\n",
       "      <td>NaN</td>\n",
       "      <td>97</td>\n",
       "      <td>1</td>\n",
       "    </tr>\n",
       "    <tr>\n",
       "      <th>330084</th>\n",
       "      <td>1958-08-04</td>\n",
       "      <td>98</td>\n",
       "      <td>Little Serenade</td>\n",
       "      <td>The Ames Brothers</td>\n",
       "      <td>NaN</td>\n",
       "      <td>98</td>\n",
       "      <td>1</td>\n",
       "    </tr>\n",
       "    <tr>\n",
       "      <th>330085</th>\n",
       "      <td>1958-08-04</td>\n",
       "      <td>99</td>\n",
       "      <td>I'll Get By (As Long As I Have You)</td>\n",
       "      <td>Billy Williams</td>\n",
       "      <td>NaN</td>\n",
       "      <td>99</td>\n",
       "      <td>1</td>\n",
       "    </tr>\n",
       "    <tr>\n",
       "      <th>330086</th>\n",
       "      <td>1958-08-04</td>\n",
       "      <td>100</td>\n",
       "      <td>Judy</td>\n",
       "      <td>Frankie Vaughan</td>\n",
       "      <td>NaN</td>\n",
       "      <td>100</td>\n",
       "      <td>1</td>\n",
       "    </tr>\n",
       "  </tbody>\n",
       "</table>\n",
       "<p>330087 rows × 7 columns</p>\n",
       "</div>"
      ],
      "text/plain": [
       "              date  rank                                 song  \\\n",
       "0       2021-11-06     1                           Easy On Me   \n",
       "1       2021-11-06     2                                 Stay   \n",
       "2       2021-11-06     3                        Industry Baby   \n",
       "3       2021-11-06     4                           Fancy Like   \n",
       "4       2021-11-06     5                           Bad Habits   \n",
       "...            ...   ...                                  ...   \n",
       "330082  1958-08-04    96                        Over And Over   \n",
       "330083  1958-08-04    97                     I Believe In You   \n",
       "330084  1958-08-04    98                      Little Serenade   \n",
       "330085  1958-08-04    99  I'll Get By (As Long As I Have You)   \n",
       "330086  1958-08-04   100                                 Judy   \n",
       "\n",
       "                               artist  last-week  peak-rank  weeks-on-board  \n",
       "0                               Adele        1.0          1               3  \n",
       "1       The Kid LAROI & Justin Bieber        2.0          1              16  \n",
       "2             Lil Nas X & Jack Harlow        3.0          1              14  \n",
       "3                        Walker Hayes        4.0          3              19  \n",
       "4                          Ed Sheeran        5.0          2              18  \n",
       "...                               ...        ...        ...             ...  \n",
       "330082                Thurston Harris        NaN         96               1  \n",
       "330083                Robert & Johnny        NaN         97               1  \n",
       "330084              The Ames Brothers        NaN         98               1  \n",
       "330085                 Billy Williams        NaN         99               1  \n",
       "330086                Frankie Vaughan        NaN        100               1  \n",
       "\n",
       "[330087 rows x 7 columns]"
      ]
     },
     "execution_count": 3,
     "metadata": {},
     "output_type": "execute_result"
    }
   ],
   "source": [
    "ds"
   ]
  },
  {
   "cell_type": "markdown",
   "id": "6eabdaa6-5893-4a52-ae85-019a7b843128",
   "metadata": {},
   "source": [
    "## Menampilkan Informasi Jumlah Record, Nama Attribute, Jumlah Attribute dengan tipe Objek, jumlah Attribute dengan tipe Angka, dan jumlah Attribute yang memiliki nilai Null dengan memasukkannya kedalam Dictionary dengan Key sesuai nama informasinya. "
   ]
  },
  {
   "cell_type": "code",
   "execution_count": 4,
   "id": "c2eeff66-930d-4906-bc61-1ed7042cf2f9",
   "metadata": {},
   "outputs": [
    {
     "data": {
      "text/plain": [
       "Isi Record      :                                               330087\n",
       "Nama Attribut   :    Index(['date', 'rank', 'song', 'artist', 'last...\n",
       "Jumlah Attribut :                                                    3\n",
       "Jumlah Float    :                                                    1\n",
       "Jumlah Angka    :                                                    3\n",
       "Jumlah Null     :                                                    1\n",
       "dtype: object"
      ]
     },
     "execution_count": 4,
     "metadata": {},
     "output_type": "execute_result"
    }
   ],
   "source": [
    "isiRecord = len(ds)\n",
    "attribut = ds.columns\n",
    "objek = len(ds.select_dtypes(include=['object']).columns)\n",
    "float = len(ds.select_dtypes(include=['float64']).columns)\n",
    "angka = len(ds.select_dtypes(include=['int64']).columns)\n",
    "null = len(ds.columns[ds.isna().sum() > 0])\n",
    "\n",
    "dictionary = {\n",
    "    \"Isi Record      :\": isiRecord,\n",
    "    \"Nama Attribut   :\": attribut,\n",
    "    \"Jumlah Attribut :\": objek,\n",
    "    \"Jumlah Float    :\": float,\n",
    "    \"Jumlah Angka    :\": angka,\n",
    "    \"Jumlah Null     :\": null,\n",
    "}\n",
    "\n",
    "pd.Series(dictionary)"
   ]
  },
  {
   "cell_type": "markdown",
   "id": "b425157b-2ea6-48b8-bd13-4103f258abb3",
   "metadata": {},
   "source": [
    "## Menampilkan Rata-Rata, Standar Deviasi, Nilai Minimum, Nilai Maksimum, Q1, Q2, dan Q3 dari attribute bertipe Angka."
   ]
  },
  {
   "cell_type": "code",
   "execution_count": 5,
   "id": "715face7-0454-474a-bf08-4ca0c2b2bca8",
   "metadata": {},
   "outputs": [
    {
     "data": {
      "text/html": [
       "<div>\n",
       "<style scoped>\n",
       "    .dataframe tbody tr th:only-of-type {\n",
       "        vertical-align: middle;\n",
       "    }\n",
       "\n",
       "    .dataframe tbody tr th {\n",
       "        vertical-align: top;\n",
       "    }\n",
       "\n",
       "    .dataframe thead th {\n",
       "        text-align: right;\n",
       "    }\n",
       "</style>\n",
       "<table border=\"1\" class=\"dataframe\">\n",
       "  <thead>\n",
       "    <tr style=\"text-align: right;\">\n",
       "      <th></th>\n",
       "      <th>rank</th>\n",
       "      <th>last-week</th>\n",
       "      <th>peak-rank</th>\n",
       "      <th>weeks-on-board</th>\n",
       "    </tr>\n",
       "  </thead>\n",
       "  <tbody>\n",
       "    <tr>\n",
       "      <th>count</th>\n",
       "      <td>330087.000000</td>\n",
       "      <td>297775.000000</td>\n",
       "      <td>330087.000000</td>\n",
       "      <td>330087.000000</td>\n",
       "    </tr>\n",
       "    <tr>\n",
       "      <th>mean</th>\n",
       "      <td>50.500929</td>\n",
       "      <td>47.591631</td>\n",
       "      <td>40.970629</td>\n",
       "      <td>9.161785</td>\n",
       "    </tr>\n",
       "    <tr>\n",
       "      <th>std</th>\n",
       "      <td>28.866094</td>\n",
       "      <td>28.054360</td>\n",
       "      <td>29.347481</td>\n",
       "      <td>7.618264</td>\n",
       "    </tr>\n",
       "    <tr>\n",
       "      <th>min</th>\n",
       "      <td>1.000000</td>\n",
       "      <td>1.000000</td>\n",
       "      <td>1.000000</td>\n",
       "      <td>1.000000</td>\n",
       "    </tr>\n",
       "    <tr>\n",
       "      <th>25%</th>\n",
       "      <td>26.000000</td>\n",
       "      <td>23.000000</td>\n",
       "      <td>13.000000</td>\n",
       "      <td>4.000000</td>\n",
       "    </tr>\n",
       "    <tr>\n",
       "      <th>50%</th>\n",
       "      <td>51.000000</td>\n",
       "      <td>47.000000</td>\n",
       "      <td>38.000000</td>\n",
       "      <td>7.000000</td>\n",
       "    </tr>\n",
       "    <tr>\n",
       "      <th>75%</th>\n",
       "      <td>76.000000</td>\n",
       "      <td>72.000000</td>\n",
       "      <td>65.000000</td>\n",
       "      <td>13.000000</td>\n",
       "    </tr>\n",
       "    <tr>\n",
       "      <th>max</th>\n",
       "      <td>100.000000</td>\n",
       "      <td>100.000000</td>\n",
       "      <td>100.000000</td>\n",
       "      <td>90.000000</td>\n",
       "    </tr>\n",
       "  </tbody>\n",
       "</table>\n",
       "</div>"
      ],
      "text/plain": [
       "                rank      last-week      peak-rank  weeks-on-board\n",
       "count  330087.000000  297775.000000  330087.000000   330087.000000\n",
       "mean       50.500929      47.591631      40.970629        9.161785\n",
       "std        28.866094      28.054360      29.347481        7.618264\n",
       "min         1.000000       1.000000       1.000000        1.000000\n",
       "25%        26.000000      23.000000      13.000000        4.000000\n",
       "50%        51.000000      47.000000      38.000000        7.000000\n",
       "75%        76.000000      72.000000      65.000000       13.000000\n",
       "max       100.000000     100.000000     100.000000       90.000000"
      ]
     },
     "execution_count": 5,
     "metadata": {},
     "output_type": "execute_result"
    }
   ],
   "source": [
    "ds.describe()"
   ]
  },
  {
   "cell_type": "markdown",
   "id": "b1cdff2f-9269-4e51-8096-30fb4d1dd1d0",
   "metadata": {},
   "source": [
    "RATA-RATA"
   ]
  },
  {
   "cell_type": "code",
   "execution_count": 6,
   "id": "f627e55c-ecff-44eb-b1e0-72b49c247651",
   "metadata": {},
   "outputs": [
    {
     "data": {
      "text/plain": [
       "rank              50.500929\n",
       "peak-rank         40.970629\n",
       "weeks-on-board     9.161785\n",
       "dtype: float64"
      ]
     },
     "execution_count": 6,
     "metadata": {},
     "output_type": "execute_result"
    }
   ],
   "source": [
    "ds.select_dtypes(include=['int64']).mean()"
   ]
  },
  {
   "cell_type": "code",
   "execution_count": 7,
   "id": "63c43a13-4702-4344-8548-8a9721f01aa1",
   "metadata": {},
   "outputs": [
    {
     "data": {
      "text/plain": [
       "last-week    47.591631\n",
       "dtype: float64"
      ]
     },
     "execution_count": 7,
     "metadata": {},
     "output_type": "execute_result"
    }
   ],
   "source": [
    "ds.select_dtypes(include=['float64']).mean()"
   ]
  },
  {
   "cell_type": "markdown",
   "id": "78f876d8-ae32-47ea-90fb-46733e92bf24",
   "metadata": {},
   "source": [
    "STANDAR DEVIASI"
   ]
  },
  {
   "cell_type": "code",
   "execution_count": 8,
   "id": "c32ddc66-ef4c-40a8-ba35-96e435689b7f",
   "metadata": {},
   "outputs": [
    {
     "data": {
      "text/plain": [
       "rank              28.866094\n",
       "peak-rank         29.347481\n",
       "weeks-on-board     7.618264\n",
       "dtype: float64"
      ]
     },
     "execution_count": 8,
     "metadata": {},
     "output_type": "execute_result"
    }
   ],
   "source": [
    "ds.select_dtypes(include=['int64']).std()"
   ]
  },
  {
   "cell_type": "code",
   "execution_count": 9,
   "id": "4a8be92c-3489-4e31-98e5-1972d50d5905",
   "metadata": {},
   "outputs": [
    {
     "data": {
      "text/plain": [
       "last-week    28.05436\n",
       "dtype: float64"
      ]
     },
     "execution_count": 9,
     "metadata": {},
     "output_type": "execute_result"
    }
   ],
   "source": [
    "ds.select_dtypes(include=['float64']).std()"
   ]
  },
  {
   "cell_type": "markdown",
   "id": "20719f07-12c2-4e50-b120-6e72fdf92549",
   "metadata": {},
   "source": [
    "NILAI MINIMUM"
   ]
  },
  {
   "cell_type": "code",
   "execution_count": 10,
   "id": "6f0a77cb-25a1-4835-8c9e-599efab50d84",
   "metadata": {},
   "outputs": [
    {
     "data": {
      "text/plain": [
       "rank              1\n",
       "peak-rank         1\n",
       "weeks-on-board    1\n",
       "dtype: int64"
      ]
     },
     "execution_count": 10,
     "metadata": {},
     "output_type": "execute_result"
    }
   ],
   "source": [
    "ds.select_dtypes(include=['int64']).min()"
   ]
  },
  {
   "cell_type": "code",
   "execution_count": 11,
   "id": "72f42a2e-7a9c-4b1b-984d-2ab2acf2302b",
   "metadata": {},
   "outputs": [
    {
     "data": {
      "text/plain": [
       "last-week    1.0\n",
       "dtype: float64"
      ]
     },
     "execution_count": 11,
     "metadata": {},
     "output_type": "execute_result"
    }
   ],
   "source": [
    "ds.select_dtypes(include=['float64']).min()"
   ]
  },
  {
   "cell_type": "markdown",
   "id": "3b5cf0d1-35c5-4aec-911d-9b65abb67170",
   "metadata": {},
   "source": [
    "NILAI MAKSIMUM"
   ]
  },
  {
   "cell_type": "code",
   "execution_count": 12,
   "id": "5ecf8100-b36c-4241-a419-2270e01c1051",
   "metadata": {},
   "outputs": [
    {
     "data": {
      "text/plain": [
       "rank              100\n",
       "peak-rank         100\n",
       "weeks-on-board     90\n",
       "dtype: int64"
      ]
     },
     "execution_count": 12,
     "metadata": {},
     "output_type": "execute_result"
    }
   ],
   "source": [
    "ds.select_dtypes(include=['int64']).max()"
   ]
  },
  {
   "cell_type": "code",
   "execution_count": 13,
   "id": "3c066779-9a2f-4ab1-95b7-7cf20a24de3a",
   "metadata": {},
   "outputs": [
    {
     "data": {
      "text/plain": [
       "last-week    100.0\n",
       "dtype: float64"
      ]
     },
     "execution_count": 13,
     "metadata": {},
     "output_type": "execute_result"
    }
   ],
   "source": [
    "ds.select_dtypes(include=['float64']).max()"
   ]
  },
  {
   "cell_type": "markdown",
   "id": "3e69c69b-e7a8-4e01-b8d6-a7be68c37099",
   "metadata": {},
   "source": [
    "NILAI KUARTIL(Q1, Q2, dan Q3)"
   ]
  },
  {
   "cell_type": "code",
   "execution_count": 14,
   "id": "3ece72b7-fca7-4197-8b9a-27b4c00f3a03",
   "metadata": {},
   "outputs": [
    {
     "data": {
      "text/html": [
       "<div>\n",
       "<style scoped>\n",
       "    .dataframe tbody tr th:only-of-type {\n",
       "        vertical-align: middle;\n",
       "    }\n",
       "\n",
       "    .dataframe tbody tr th {\n",
       "        vertical-align: top;\n",
       "    }\n",
       "\n",
       "    .dataframe thead th {\n",
       "        text-align: right;\n",
       "    }\n",
       "</style>\n",
       "<table border=\"1\" class=\"dataframe\">\n",
       "  <thead>\n",
       "    <tr style=\"text-align: right;\">\n",
       "      <th></th>\n",
       "      <th>rank</th>\n",
       "      <th>peak-rank</th>\n",
       "      <th>weeks-on-board</th>\n",
       "    </tr>\n",
       "  </thead>\n",
       "  <tbody>\n",
       "    <tr>\n",
       "      <th>0.25</th>\n",
       "      <td>26.0</td>\n",
       "      <td>13.0</td>\n",
       "      <td>4.0</td>\n",
       "    </tr>\n",
       "    <tr>\n",
       "      <th>0.50</th>\n",
       "      <td>51.0</td>\n",
       "      <td>38.0</td>\n",
       "      <td>7.0</td>\n",
       "    </tr>\n",
       "    <tr>\n",
       "      <th>0.75</th>\n",
       "      <td>76.0</td>\n",
       "      <td>65.0</td>\n",
       "      <td>13.0</td>\n",
       "    </tr>\n",
       "  </tbody>\n",
       "</table>\n",
       "</div>"
      ],
      "text/plain": [
       "      rank  peak-rank  weeks-on-board\n",
       "0.25  26.0       13.0             4.0\n",
       "0.50  51.0       38.0             7.0\n",
       "0.75  76.0       65.0            13.0"
      ]
     },
     "execution_count": 14,
     "metadata": {},
     "output_type": "execute_result"
    }
   ],
   "source": [
    "ds.select_dtypes(include=['int64']).quantile([0.25,0.5,0.75])"
   ]
  },
  {
   "cell_type": "code",
   "execution_count": 15,
   "id": "ddc414ad-5fd3-4134-b72f-5063cbd499bc",
   "metadata": {},
   "outputs": [
    {
     "data": {
      "text/html": [
       "<div>\n",
       "<style scoped>\n",
       "    .dataframe tbody tr th:only-of-type {\n",
       "        vertical-align: middle;\n",
       "    }\n",
       "\n",
       "    .dataframe tbody tr th {\n",
       "        vertical-align: top;\n",
       "    }\n",
       "\n",
       "    .dataframe thead th {\n",
       "        text-align: right;\n",
       "    }\n",
       "</style>\n",
       "<table border=\"1\" class=\"dataframe\">\n",
       "  <thead>\n",
       "    <tr style=\"text-align: right;\">\n",
       "      <th></th>\n",
       "      <th>last-week</th>\n",
       "    </tr>\n",
       "  </thead>\n",
       "  <tbody>\n",
       "    <tr>\n",
       "      <th>0.25</th>\n",
       "      <td>23.0</td>\n",
       "    </tr>\n",
       "    <tr>\n",
       "      <th>0.50</th>\n",
       "      <td>47.0</td>\n",
       "    </tr>\n",
       "    <tr>\n",
       "      <th>0.75</th>\n",
       "      <td>72.0</td>\n",
       "    </tr>\n",
       "  </tbody>\n",
       "</table>\n",
       "</div>"
      ],
      "text/plain": [
       "      last-week\n",
       "0.25       23.0\n",
       "0.50       47.0\n",
       "0.75       72.0"
      ]
     },
     "execution_count": 15,
     "metadata": {},
     "output_type": "execute_result"
    }
   ],
   "source": [
    "ds.select_dtypes(include=['float64']).quantile([0.25,0.5,0.75])"
   ]
  },
  {
   "cell_type": "markdown",
   "id": "d6148264-f03b-46cf-b8c8-3eb843c18517",
   "metadata": {},
   "source": [
    "## MENAMPILKAN NILAI KORELASI"
   ]
  },
  {
   "cell_type": "code",
   "execution_count": 16,
   "id": "d863981c-54ed-437c-ba10-4fd16367e40a",
   "metadata": {},
   "outputs": [
    {
     "data": {
      "text/html": [
       "<div>\n",
       "<style scoped>\n",
       "    .dataframe tbody tr th:only-of-type {\n",
       "        vertical-align: middle;\n",
       "    }\n",
       "\n",
       "    .dataframe tbody tr th {\n",
       "        vertical-align: top;\n",
       "    }\n",
       "\n",
       "    .dataframe thead th {\n",
       "        text-align: right;\n",
       "    }\n",
       "</style>\n",
       "<table border=\"1\" class=\"dataframe\">\n",
       "  <thead>\n",
       "    <tr style=\"text-align: right;\">\n",
       "      <th></th>\n",
       "      <th>rank</th>\n",
       "      <th>peak-rank</th>\n",
       "      <th>weeks-on-board</th>\n",
       "    </tr>\n",
       "  </thead>\n",
       "  <tbody>\n",
       "    <tr>\n",
       "      <th>rank</th>\n",
       "      <td>1.000000</td>\n",
       "      <td>0.822937</td>\n",
       "      <td>-0.327456</td>\n",
       "    </tr>\n",
       "    <tr>\n",
       "      <th>peak-rank</th>\n",
       "      <td>0.822937</td>\n",
       "      <td>1.000000</td>\n",
       "      <td>-0.606917</td>\n",
       "    </tr>\n",
       "    <tr>\n",
       "      <th>weeks-on-board</th>\n",
       "      <td>-0.327456</td>\n",
       "      <td>-0.606917</td>\n",
       "      <td>1.000000</td>\n",
       "    </tr>\n",
       "  </tbody>\n",
       "</table>\n",
       "</div>"
      ],
      "text/plain": [
       "                    rank  peak-rank  weeks-on-board\n",
       "rank            1.000000   0.822937       -0.327456\n",
       "peak-rank       0.822937   1.000000       -0.606917\n",
       "weeks-on-board -0.327456  -0.606917        1.000000"
      ]
     },
     "execution_count": 16,
     "metadata": {},
     "output_type": "execute_result"
    }
   ],
   "source": [
    "ds.select_dtypes(include=['int64']).corr()"
   ]
  },
  {
   "cell_type": "code",
   "execution_count": 17,
   "id": "c24e1cd1-d2cb-4e74-ad0c-661fd9208b77",
   "metadata": {},
   "outputs": [
    {
     "data": {
      "text/html": [
       "<div>\n",
       "<style scoped>\n",
       "    .dataframe tbody tr th:only-of-type {\n",
       "        vertical-align: middle;\n",
       "    }\n",
       "\n",
       "    .dataframe tbody tr th {\n",
       "        vertical-align: top;\n",
       "    }\n",
       "\n",
       "    .dataframe thead th {\n",
       "        text-align: right;\n",
       "    }\n",
       "</style>\n",
       "<table border=\"1\" class=\"dataframe\">\n",
       "  <thead>\n",
       "    <tr style=\"text-align: right;\">\n",
       "      <th></th>\n",
       "      <th>last-week</th>\n",
       "    </tr>\n",
       "  </thead>\n",
       "  <tbody>\n",
       "    <tr>\n",
       "      <th>last-week</th>\n",
       "      <td>1.0</td>\n",
       "    </tr>\n",
       "  </tbody>\n",
       "</table>\n",
       "</div>"
      ],
      "text/plain": [
       "           last-week\n",
       "last-week        1.0"
      ]
     },
     "execution_count": 17,
     "metadata": {},
     "output_type": "execute_result"
    }
   ],
   "source": [
    "ds.select_dtypes(include=['float64']).corr()"
   ]
  },
  {
   "cell_type": "markdown",
   "id": "c4bd9f5f-7fda-4872-9f6e-0349d3dbba8a",
   "metadata": {},
   "source": [
    "## MERUBAH NILAI BILANGAN MENJADI NILAI DESIMAL(3 ANGKA DIBELAKANG KOMA)/SEBALIKNYA"
   ]
  },
  {
   "cell_type": "markdown",
   "id": "31114881-beb3-4e33-bc9b-7afdb6d40314",
   "metadata": {},
   "source": [
    "Attribut Rank"
   ]
  },
  {
   "cell_type": "code",
   "execution_count": 18,
   "id": "64029670-ac68-4dca-a6a0-d1e9925fdd91",
   "metadata": {},
   "outputs": [
    {
     "data": {
      "text/plain": [
       "0          1.000\n",
       "1          2.000\n",
       "2          3.000\n",
       "3          4.000\n",
       "4          5.000\n",
       "           ...  \n",
       "330082    96.000\n",
       "330083    97.000\n",
       "330084    98.000\n",
       "330085    99.000\n",
       "330086   100.000\n",
       "Name: rank, Length: 330087, dtype: float64"
      ]
     },
     "execution_count": 18,
     "metadata": {},
     "output_type": "execute_result"
    }
   ],
   "source": [
    "pd.options.display.float_format = '{:.3f}'.format\n",
    "ds['rank'].astype('float64')"
   ]
  },
  {
   "cell_type": "markdown",
   "id": "57127daf-fac2-47c4-9fd6-b4d56c8fb4da",
   "metadata": {},
   "source": [
    "Attribut Peak-Rank"
   ]
  },
  {
   "cell_type": "code",
   "execution_count": 19,
   "id": "f2939f20-9186-4eb2-b2cf-39f8c600407c",
   "metadata": {},
   "outputs": [
    {
     "data": {
      "text/plain": [
       "0          1.000\n",
       "1          1.000\n",
       "2          1.000\n",
       "3          3.000\n",
       "4          2.000\n",
       "           ...  \n",
       "330082    96.000\n",
       "330083    97.000\n",
       "330084    98.000\n",
       "330085    99.000\n",
       "330086   100.000\n",
       "Name: peak-rank, Length: 330087, dtype: float64"
      ]
     },
     "execution_count": 19,
     "metadata": {},
     "output_type": "execute_result"
    }
   ],
   "source": [
    "pd.options.display.float_format = '{:.3f}'.format\n",
    "ds['peak-rank'].astype('float64')"
   ]
  },
  {
   "cell_type": "markdown",
   "id": "8fb4baea-3f98-46bb-b08b-901750c87162",
   "metadata": {},
   "source": [
    "Attribut Weeks-On-Board"
   ]
  },
  {
   "cell_type": "code",
   "execution_count": 20,
   "id": "ec8cdfb3-6be4-42e9-af6a-487ecd9aa949",
   "metadata": {},
   "outputs": [
    {
     "data": {
      "text/plain": [
       "0         3.000\n",
       "1        16.000\n",
       "2        14.000\n",
       "3        19.000\n",
       "4        18.000\n",
       "          ...  \n",
       "330082    1.000\n",
       "330083    1.000\n",
       "330084    1.000\n",
       "330085    1.000\n",
       "330086    1.000\n",
       "Name: weeks-on-board, Length: 330087, dtype: float64"
      ]
     },
     "execution_count": 20,
     "metadata": {},
     "output_type": "execute_result"
    }
   ],
   "source": [
    "pd.options.display.float_format = '{:.3f}'.format\n",
    "ds['weeks-on-board'].astype('float64')"
   ]
  },
  {
   "cell_type": "markdown",
   "id": "6a317d9c-b2bf-4ce4-ace9-7c57acb4b518",
   "metadata": {},
   "source": [
    "Attribut Last-Week"
   ]
  },
  {
   "cell_type": "code",
   "execution_count": 21,
   "id": "6ee7365b-f85a-477e-a477-1f6d360d1c24",
   "metadata": {},
   "outputs": [
    {
     "data": {
      "text/plain": [
       "0          3\n",
       "1         16\n",
       "2         14\n",
       "3         19\n",
       "4         18\n",
       "          ..\n",
       "330082     1\n",
       "330083     1\n",
       "330084     1\n",
       "330085     1\n",
       "330086     1\n",
       "Name: weeks-on-board, Length: 330087, dtype: int64"
      ]
     },
     "execution_count": 21,
     "metadata": {},
     "output_type": "execute_result"
    }
   ],
   "source": [
    "pd.options.display.float_format = '{0:}'.format\n",
    "ds['weeks-on-board'].astype('int64')"
   ]
  },
  {
   "cell_type": "markdown",
   "id": "c42fe69c-dac6-4450-b29b-4298e16e62a9",
   "metadata": {},
   "source": [
    "## MENAMPILKAN 10 RECORD PERTAMA DARI ATTRIBUT BERTIPE ANGKA"
   ]
  },
  {
   "cell_type": "code",
   "execution_count": 22,
   "id": "b4a18fd3-6ec1-47dd-b5b4-a1165ec39d47",
   "metadata": {},
   "outputs": [],
   "source": [
    "columns_dtypes_info = ds.dtypes"
   ]
  },
  {
   "cell_type": "code",
   "execution_count": 23,
   "id": "694e2248-c055-4473-a6a8-178a2c42915f",
   "metadata": {},
   "outputs": [],
   "source": [
    "dataset_columns = ds.columns"
   ]
  },
  {
   "cell_type": "code",
   "execution_count": 24,
   "id": "fe041dec-a516-40b5-a7de-760d5fd21e72",
   "metadata": {},
   "outputs": [
    {
     "name": "stdout",
     "output_type": "stream",
     "text": [
      "['rank', 'peak-rank', 'weeks-on-board']\n"
     ]
    }
   ],
   "source": [
    "dataset_columns_int = []\n",
    "for index, item in enumerate(columns_dtypes_info):\n",
    "    if str (item) == 'int64':\n",
    "        dataset_columns_int.append(dataset_columns[index])\n",
    "        \n",
    "print(dataset_columns_int)"
   ]
  },
  {
   "cell_type": "code",
   "execution_count": 25,
   "id": "f2b921b2-5330-43e1-a5c1-e3802f20f7c4",
   "metadata": {},
   "outputs": [
    {
     "data": {
      "text/html": [
       "<div>\n",
       "<style scoped>\n",
       "    .dataframe tbody tr th:only-of-type {\n",
       "        vertical-align: middle;\n",
       "    }\n",
       "\n",
       "    .dataframe tbody tr th {\n",
       "        vertical-align: top;\n",
       "    }\n",
       "\n",
       "    .dataframe thead th {\n",
       "        text-align: right;\n",
       "    }\n",
       "</style>\n",
       "<table border=\"1\" class=\"dataframe\">\n",
       "  <thead>\n",
       "    <tr style=\"text-align: right;\">\n",
       "      <th></th>\n",
       "      <th>rank</th>\n",
       "      <th>peak-rank</th>\n",
       "      <th>weeks-on-board</th>\n",
       "    </tr>\n",
       "  </thead>\n",
       "  <tbody>\n",
       "    <tr>\n",
       "      <th>0</th>\n",
       "      <td>1</td>\n",
       "      <td>1</td>\n",
       "      <td>3</td>\n",
       "    </tr>\n",
       "    <tr>\n",
       "      <th>1</th>\n",
       "      <td>2</td>\n",
       "      <td>1</td>\n",
       "      <td>16</td>\n",
       "    </tr>\n",
       "    <tr>\n",
       "      <th>2</th>\n",
       "      <td>3</td>\n",
       "      <td>1</td>\n",
       "      <td>14</td>\n",
       "    </tr>\n",
       "    <tr>\n",
       "      <th>3</th>\n",
       "      <td>4</td>\n",
       "      <td>3</td>\n",
       "      <td>19</td>\n",
       "    </tr>\n",
       "    <tr>\n",
       "      <th>4</th>\n",
       "      <td>5</td>\n",
       "      <td>2</td>\n",
       "      <td>18</td>\n",
       "    </tr>\n",
       "    <tr>\n",
       "      <th>5</th>\n",
       "      <td>6</td>\n",
       "      <td>1</td>\n",
       "      <td>8</td>\n",
       "    </tr>\n",
       "    <tr>\n",
       "      <th>6</th>\n",
       "      <td>7</td>\n",
       "      <td>7</td>\n",
       "      <td>7</td>\n",
       "    </tr>\n",
       "    <tr>\n",
       "      <th>7</th>\n",
       "      <td>8</td>\n",
       "      <td>1</td>\n",
       "      <td>24</td>\n",
       "    </tr>\n",
       "    <tr>\n",
       "      <th>8</th>\n",
       "      <td>9</td>\n",
       "      <td>9</td>\n",
       "      <td>20</td>\n",
       "    </tr>\n",
       "    <tr>\n",
       "      <th>9</th>\n",
       "      <td>10</td>\n",
       "      <td>2</td>\n",
       "      <td>56</td>\n",
       "    </tr>\n",
       "  </tbody>\n",
       "</table>\n",
       "</div>"
      ],
      "text/plain": [
       "   rank  peak-rank  weeks-on-board\n",
       "0     1          1               3\n",
       "1     2          1              16\n",
       "2     3          1              14\n",
       "3     4          3              19\n",
       "4     5          2              18\n",
       "5     6          1               8\n",
       "6     7          7               7\n",
       "7     8          1              24\n",
       "8     9          9              20\n",
       "9    10          2              56"
      ]
     },
     "execution_count": 25,
     "metadata": {},
     "output_type": "execute_result"
    }
   ],
   "source": [
    "ds[dataset_columns_int].head(10)"
   ]
  },
  {
   "cell_type": "code",
   "execution_count": 26,
   "id": "9f8dd650-89ca-40d8-85ce-9d2eb07cd2e5",
   "metadata": {},
   "outputs": [
    {
     "name": "stdout",
     "output_type": "stream",
     "text": [
      "['last-week']\n"
     ]
    }
   ],
   "source": [
    "dataset_columns_float = []\n",
    "for index, item in enumerate(columns_dtypes_info):\n",
    "    if str (item) == 'float64':\n",
    "        dataset_columns_float.append(dataset_columns[index])\n",
    "        \n",
    "print(dataset_columns_float)"
   ]
  },
  {
   "cell_type": "code",
   "execution_count": 27,
   "id": "188f41bd-28ee-46d6-9dfd-22a904235b3f",
   "metadata": {},
   "outputs": [
    {
     "data": {
      "text/html": [
       "<div>\n",
       "<style scoped>\n",
       "    .dataframe tbody tr th:only-of-type {\n",
       "        vertical-align: middle;\n",
       "    }\n",
       "\n",
       "    .dataframe tbody tr th {\n",
       "        vertical-align: top;\n",
       "    }\n",
       "\n",
       "    .dataframe thead th {\n",
       "        text-align: right;\n",
       "    }\n",
       "</style>\n",
       "<table border=\"1\" class=\"dataframe\">\n",
       "  <thead>\n",
       "    <tr style=\"text-align: right;\">\n",
       "      <th></th>\n",
       "      <th>last-week</th>\n",
       "    </tr>\n",
       "  </thead>\n",
       "  <tbody>\n",
       "    <tr>\n",
       "      <th>0</th>\n",
       "      <td>1.0</td>\n",
       "    </tr>\n",
       "    <tr>\n",
       "      <th>1</th>\n",
       "      <td>2.0</td>\n",
       "    </tr>\n",
       "    <tr>\n",
       "      <th>2</th>\n",
       "      <td>3.0</td>\n",
       "    </tr>\n",
       "    <tr>\n",
       "      <th>3</th>\n",
       "      <td>4.0</td>\n",
       "    </tr>\n",
       "    <tr>\n",
       "      <th>4</th>\n",
       "      <td>5.0</td>\n",
       "    </tr>\n",
       "    <tr>\n",
       "      <th>5</th>\n",
       "      <td>6.0</td>\n",
       "    </tr>\n",
       "    <tr>\n",
       "      <th>6</th>\n",
       "      <td>9.0</td>\n",
       "    </tr>\n",
       "    <tr>\n",
       "      <th>7</th>\n",
       "      <td>7.0</td>\n",
       "    </tr>\n",
       "    <tr>\n",
       "      <th>8</th>\n",
       "      <td>11.0</td>\n",
       "    </tr>\n",
       "    <tr>\n",
       "      <th>9</th>\n",
       "      <td>8.0</td>\n",
       "    </tr>\n",
       "  </tbody>\n",
       "</table>\n",
       "</div>"
      ],
      "text/plain": [
       "   last-week\n",
       "0        1.0\n",
       "1        2.0\n",
       "2        3.0\n",
       "3        4.0\n",
       "4        5.0\n",
       "5        6.0\n",
       "6        9.0\n",
       "7        7.0\n",
       "8       11.0\n",
       "9        8.0"
      ]
     },
     "execution_count": 27,
     "metadata": {},
     "output_type": "execute_result"
    }
   ],
   "source": [
    "ds[dataset_columns_float].head(10)"
   ]
  },
  {
   "cell_type": "code",
   "execution_count": null,
   "id": "009aba0a-c0a7-49ed-b7c5-6514851f5272",
   "metadata": {},
   "outputs": [],
   "source": []
  }
 ],
 "metadata": {
  "kernelspec": {
   "display_name": "Python 3 (ipykernel)",
   "language": "python",
   "name": "python3"
  },
  "language_info": {
   "codemirror_mode": {
    "name": "ipython",
    "version": 3
   },
   "file_extension": ".py",
   "mimetype": "text/x-python",
   "name": "python",
   "nbconvert_exporter": "python",
   "pygments_lexer": "ipython3",
   "version": "3.10.7"
  }
 },
 "nbformat": 4,
 "nbformat_minor": 5
}
